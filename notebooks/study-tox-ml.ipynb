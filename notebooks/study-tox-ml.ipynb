{
 "cells": [
  {
   "cell_type": "code",
   "execution_count": 1,
   "metadata": {
    "collapsed": false,
    "jupyter": {
     "outputs_hidden": false
    }
   },
   "outputs": [
    {
     "name": "stdout",
     "output_type": "stream",
     "text": [
      "Populating the interactive namespace from numpy and matplotlib\n"
     ]
    }
   ],
   "source": [
    "%reload_ext autoreload\n",
    "%autoreload 2\n",
    "%reload_ext sql \n",
    "%pylab inline\n",
    "%matplotlib inline\n",
    "\n",
    "import pandas as pd\n",
    "import os, random\n",
    "\n",
    "import pickle,time\n",
    "\n",
    "tmstmp = time.strftime(\"%m-%d-%Y\",time.localtime())\n"
   ]
  },
  {
   "cell_type": "markdown",
   "metadata": {},
   "source": [
    "# Initialisation"
   ]
  },
  {
   "cell_type": "markdown",
   "metadata": {},
   "source": [
    "## Directory paths\n",
    "* TOP = path to the toplevel directory \n",
    "* TOP+/lib = path to the python source files that are required\n",
    "* FIG_DIR = path to where figures are stored"
   ]
  },
  {
   "cell_type": "code",
   "execution_count": 2,
   "metadata": {
    "collapsed": true,
    "jupyter": {
     "outputs_hidden": true
    }
   },
   "outputs": [],
   "source": [
    "# Set up the local source files\n",
    "TOP = os.getcwd().replace('notebooks','')\n",
    "LIB = TOP+'lib'\n",
    "if not LIB in sys.path: sys.path.append(LIB)\n",
    "\n",
    "DAT_DIR = TOP + '/data/'\n",
    "RES_DIR = TOP + '/results/'\n",
    "FIG_DIR = TOP + '/figs/'\n"
   ]
  },
  {
   "cell_type": "markdown",
   "metadata": {},
   "source": [
    "## Load packages\n",
    "Open organtox_v1 MongoDB - if this fails then check your mongodb installation"
   ]
  },
  {
   "cell_type": "code",
   "execution_count": 3,
   "metadata": {
    "collapsed": false,
    "jupyter": {
     "outputs_hidden": false
    }
   },
   "outputs": [
    {
     "name": "stderr",
     "output_type": "stream",
     "text": [
      "/usr/local/anaconda2/lib/python2.7/site-packages/sklearn/cross_validation.py:44: DeprecationWarning: This module was deprecated in version 0.18 in favor of the model_selection module into which all the refactored classes and functions are moved. Also note that the interface of the new CV iterators are different from that of this module. This module will be removed in 0.20.\n",
      "  \"This module will be removed in 0.20.\", DeprecationWarning)\n"
     ]
    },
    {
     "data": {
      "text/plain": [
       "[u'chm_fp',\n",
       " u'ml_lr_v1',\n",
       " u'ml_study_lr_v1',\n",
       " u'bio_fp',\n",
       " u'ml_summary_v2',\n",
       " u'ml_study_summary_v1',\n",
       " u'ml_summary_v1',\n",
       " u'ml_run_v1',\n",
       " u'tox_fp',\n",
       " u'ml_study_run_v1',\n",
       " u'tox2_fp']"
      ]
     },
     "execution_count": 3,
     "metadata": {},
     "output_type": "execute_result"
    }
   ],
   "source": [
    "from organtox import *\n",
    "\n",
    "DB = openMongo(host='pb.epa.gov',user='ishah',passwd='ishah',db='organtox_v1')\n",
    "GNR = openMongo(host='pb.epa.gov',user='ishah',passwd='ishah',db='genra_v3')\n",
    "DB.collection_names()"
   ]
  },
  {
   "cell_type": "markdown",
   "metadata": {},
   "source": [
    "# Toxicity data\n",
    "\n",
    "Extend the toxicity fp to include only study level hits"
   ]
  },
  {
   "cell_type": "code",
   "execution_count": 9,
   "metadata": {
    "collapsed": false,
    "jupyter": {
     "outputs_hidden": false
    }
   },
   "outputs": [
    {
     "data": {
      "text/plain": [
       "{u'_id': ObjectId('56d9da9814fd09250ac2fe7f'),\n",
       " u'casrn': u'103-90-2',\n",
       " u'dsstox_cid': u'DTXCID606',\n",
       " u'name': u'Acetaminophen',\n",
       " u'tox1': {u'ds': [u'SUB:liver',\n",
       "   u'SUB:lymph_node',\n",
       "   u'MGR:offspring_survival-early',\n",
       "   u'SUB:uterus',\n",
       "   u'SUB:body_weight',\n",
       "   u'CHR:thyroid_gland',\n",
       "   u'MGR:pituitary_gland',\n",
       "   u'SUB:mortality',\n",
       "   u'MGR:liver',\n",
       "   u'MGR:reproductive_performance',\n",
       "   u'SUB:testes',\n",
       "   u'MGR:body_weight',\n",
       "   u'SAC:body_weight',\n",
       "   u'SUB:ovary',\n",
       "   u'CHR:tissue_nos',\n",
       "   u'CHR:kidney',\n",
       "   u'SUB:thymus',\n",
       "   u'MGR:brain',\n",
       "   u'CHR:body_weight',\n",
       "   u'MGR:sperm_morphology',\n",
       "   u'SAC:food_consumption',\n",
       "   u'SUB:kidney',\n",
       "   u'SUB:food_consumption',\n",
       "   u'SUB:clinical_signs',\n",
       "   u'CHR:parathyroid_gland'],\n",
       "  u'n': 25},\n",
       " u'toxq1': {u'CHR:[not_in_list]': 0.0,\n",
       "  u'CHR:abdominal_cavity': 0.0,\n",
       "  u'CHR:adrenal_gland': 0.0,\n",
       "  u'CHR:artery_(general)': 0.0,\n",
       "  u'CHR:auditory_startle_reflex_habituation': 0.0,\n",
       "  u'CHR:bile_duct': 0.0,\n",
       "  u'CHR:blood': 0.0,\n",
       "  u'CHR:blood_vessel': 0.0,\n",
       "  u'CHR:body_weight': 90.0,\n",
       "  u'CHR:bone': 0.0,\n",
       "  u'CHR:bone_marrow': 0.0,\n",
       "  u'CHR:brain': 0.0,\n",
       "  u'CHR:bronchus': 0.0,\n",
       "  u'CHR:cervix': 0.0,\n",
       "  u'CHR:clinical_chemistry': 0.0,\n",
       "  u'CHR:clinical_signs': 0.0,\n",
       "  u'CHR:clitoral_gland': 0.0,\n",
       "  u'CHR:coagulating_gland': 0.0,\n",
       "  u'CHR:ear': 0.0,\n",
       "  u'CHR:epididymis': 0.0,\n",
       "  u'CHR:esophagus': 0.0,\n",
       "  u'CHR:estrous_cycle': 0.0,\n",
       "  u'CHR:eye': 0.0,\n",
       "  u'CHR:food_consumption': 0.0,\n",
       "  u'CHR:gallbladder': 0.0,\n",
       "  u'CHR:general': 0.0,\n",
       "  u'CHR:harderian_gland': 0.0,\n",
       "  u'CHR:heart': 0.0,\n",
       "  u'CHR:hematology': 0.0,\n",
       "  u'CHR:intestine_large': 0.0,\n",
       "  u'CHR:intestine_small': 0.0,\n",
       "  u'CHR:kidney': 30.0,\n",
       "  u'CHR:lacrimal_gland': 0.0,\n",
       "  u'CHR:larynx': 0.0,\n",
       "  u'CHR:liver': 0.0,\n",
       "  u'CHR:locomotion': 0.0,\n",
       "  u'CHR:lung': 0.0,\n",
       "  u'CHR:lymph_node': 0.0,\n",
       "  u'CHR:mammary_gland': 0.0,\n",
       "  u'CHR:mesentery': 0.0,\n",
       "  u'CHR:mortality': 0.0,\n",
       "  u'CHR:motor_activity': 0.0,\n",
       "  u'CHR:nerve': 0.0,\n",
       "  u'CHR:nose': 0.0,\n",
       "  u'CHR:oral_mucosa': 0.0,\n",
       "  u'CHR:other': 0.0,\n",
       "  u'CHR:ovary': 0.0,\n",
       "  u'CHR:pancreas': 0.0,\n",
       "  u'CHR:parathyroid': 0.0,\n",
       "  u'CHR:parathyroid_gland': 30.0,\n",
       "  u'CHR:penis': 0.0,\n",
       "  u'CHR:peritoneum': 0.0,\n",
       "  u'CHR:pharynx': 0.0,\n",
       "  u'CHR:pituitary_gland': 0.0,\n",
       "  u'CHR:pleura': 0.0,\n",
       "  u'CHR:preputial_gland': 0.0,\n",
       "  u'CHR:prostate': 0.0,\n",
       "  u'CHR:reflexes': 0.0,\n",
       "  u'CHR:salivary_glands': 0.0,\n",
       "  u'CHR:seminal_vesicle': 0.0,\n",
       "  u'CHR:skeletal_muscle': 0.0,\n",
       "  u'CHR:skin': 0.0,\n",
       "  u'CHR:sperm_measure': 0.0,\n",
       "  u'CHR:sperm_morphology': 0.0,\n",
       "  u'CHR:spinal_cord': 0.0,\n",
       "  u'CHR:spleen': 0.0,\n",
       "  u'CHR:stomach': 0.0,\n",
       "  u'CHR:testes': 0.0,\n",
       "  u'CHR:thymus': 0.0,\n",
       "  u'CHR:thyroid_gland': 90.0,\n",
       "  u'CHR:tissue_nos': 35.0,\n",
       "  u'CHR:tongue': 0.0,\n",
       "  u'CHR:tooth': 0.0,\n",
       "  u'CHR:trachea': 0.0,\n",
       "  u'CHR:uncertain_primary_site': 0.0,\n",
       "  u'CHR:ureter': 0.0,\n",
       "  u'CHR:urethra': 0.0,\n",
       "  u'CHR:urinalysis': 0.0,\n",
       "  u'CHR:urinary_bladder': 0.0,\n",
       "  u'CHR:uterus': 0.0,\n",
       "  u'CHR:vagina': 0.0,\n",
       "  u'CHR:water_consumption': 0.0,\n",
       "  u\"CHR:zymbal's_gland\": 0.0,\n",
       "  u'MGR:[clinical]': 0.0,\n",
       "  u'MGR:[not_in_list]': 0.0,\n",
       "  u'MGR:adrenal_gland': 0.0,\n",
       "  u'MGR:age_landmark': 0.0,\n",
       "  u'MGR:auditory_startle_reflex_habituation': 0.0,\n",
       "  u'MGR:blood': 0.0,\n",
       "  u'MGR:body_weight': 357.0,\n",
       "  u'MGR:bone': 0.0,\n",
       "  u'MGR:bone_marrow': 0.0,\n",
       "  u'MGR:brain': 1430.0,\n",
       "  u'MGR:cervix': 0.0,\n",
       "  u'MGR:clinical_chemistry': 0.0,\n",
       "  u'MGR:clinical_signs': 0.0,\n",
       "  u'MGR:coagulating_gland': 0.0,\n",
       "  u'MGR:coordination': 0.0,\n",
       "  u'MGR:developmental_landmark': 0.0,\n",
       "  u'MGR:diaphragm': 0.0,\n",
       "  u'MGR:ear': 0.0,\n",
       "  u'MGR:epididymis': 0.0,\n",
       "  u'MGR:esophagus': 0.0,\n",
       "  u'MGR:estrous_cycle': 0.0,\n",
       "  u'MGR:estrous_cycle_length': 0.0,\n",
       "  u'MGR:eye': 0.0,\n",
       "  u'MGR:food_consumption': 0.0,\n",
       "  u'MGR:general': 0.0,\n",
       "  u'MGR:gonad': 0.0,\n",
       "  u'MGR:hair_growth': 0.0,\n",
       "  u'MGR:heart': 0.0,\n",
       "  u'MGR:hematology': 0.0,\n",
       "  u'MGR:intestine_large': 0.0,\n",
       "  u'MGR:intestine_small': 0.0,\n",
       "  u'MGR:kidney': 0.0,\n",
       "  u'MGR:limb': 0.0,\n",
       "  u'MGR:liver': 1430.0,\n",
       "  u'MGR:locomotion': 0.0,\n",
       "  u'MGR:lung': 0.0,\n",
       "  u'MGR:lymph_node': 0.0,\n",
       "  u'MGR:mammary_gland': 0.0,\n",
       "  u'MGR:maternal_wastage': 0.0,\n",
       "  u'MGR:maze': 0.0,\n",
       "  u'MGR:mortality': 0.0,\n",
       "  u'MGR:motor_activity': 0.0,\n",
       "  u'MGR:mouth_/_jaw': 0.0,\n",
       "  u'MGR:nerve': 0.0,\n",
       "  u'MGR:nose': 0.0,\n",
       "  u'MGR:offspring_survival-early': 1430.0,\n",
       "  u'MGR:offspring_survival-late': 0.0,\n",
       "  u'MGR:other': 0.0,\n",
       "  u'MGR:ovary': 0.0,\n",
       "  u'MGR:pancreas': 0.0,\n",
       "  u'MGR:parathyroid': 0.0,\n",
       "  u'MGR:parathyroid_gland': 0.0,\n",
       "  u'MGR:paw_/_digit': 0.0,\n",
       "  u'MGR:penis': 0.0,\n",
       "  u'MGR:pituitary_gland': 1430.0,\n",
       "  u'MGR:placenta': 0.0,\n",
       "  u'MGR:prostate': 0.0,\n",
       "  u'MGR:reflexes': 0.0,\n",
       "  u'MGR:reproductive_outcome': 0.0,\n",
       "  u'MGR:reproductive_performance': 1430.0,\n",
       "  u'MGR:salivary_glands': 0.0,\n",
       "  u'MGR:seminal_vesicle': 0.0,\n",
       "  u'MGR:sexual_developmental_landmark': 0.0,\n",
       "  u'MGR:skeletal_muscle': 0.0,\n",
       "  u'MGR:skin': 0.0,\n",
       "  u'MGR:sperm_measure': 0.0,\n",
       "  u'MGR:sperm_morphology': 1430.0,\n",
       "  u'MGR:spinal_cord': 0.0,\n",
       "  u'MGR:spleen': 0.0,\n",
       "  u'MGR:stomach': 0.0,\n",
       "  u'MGR:testes': 0.0,\n",
       "  u'MGR:thymus': 0.0,\n",
       "  u'MGR:thyroid_gland': 0.0,\n",
       "  u'MGR:tissue_nos': 0.0,\n",
       "  u'MGR:tooth': 0.0,\n",
       "  u'MGR:trunk': 0.0,\n",
       "  u'MGR:ureter': 0.0,\n",
       "  u'MGR:urinalysis': 0.0,\n",
       "  u'MGR:urinary_bladder': 0.0,\n",
       "  u'MGR:uterus': 0.0,\n",
       "  u'MGR:vagina': 0.0,\n",
       "  u'MGR:water_consumption': 0.0,\n",
       "  u'SAC:[not_in_list]': 0.0,\n",
       "  u'SAC:abdominal_cavity': 0.0,\n",
       "  u'SAC:adrenal_gland': 0.0,\n",
       "  u'SAC:blood': 0.0,\n",
       "  u'SAC:blood_vessel': 0.0,\n",
       "  u'SAC:body_weight': 625.0,\n",
       "  u'SAC:bone': 0.0,\n",
       "  u'SAC:bone_marrow': 0.0,\n",
       "  u'SAC:brain': 0.0,\n",
       "  u'SAC:clinical_chemistry': 0.0,\n",
       "  u'SAC:clinical_signs': 0.0,\n",
       "  u'SAC:epididymis': 0.0,\n",
       "  u'SAC:esophagus': 0.0,\n",
       "  u'SAC:estrous_cycle': 0.0,\n",
       "  u'SAC:eye': 0.0,\n",
       "  u'SAC:food_consumption': 625.0,\n",
       "  u'SAC:gallbladder': 0.0,\n",
       "  u'SAC:general': 0.0,\n",
       "  u'SAC:heart': 0.0,\n",
       "  u'SAC:hematology': 0.0,\n",
       "  u'SAC:intestine_large': 0.0,\n",
       "  u'SAC:intestine_small': 0.0,\n",
       "  u'SAC:kidney': 0.0,\n",
       "  u'SAC:larynx': 0.0,\n",
       "  u'SAC:liver': 0.0,\n",
       "  u'SAC:lung': 0.0,\n",
       "  u'SAC:lymph_node': 0.0,\n",
       "  u'SAC:mammary_gland': 0.0,\n",
       "  u'SAC:mesentery': 0.0,\n",
       "  u'SAC:mortality': 0.0,\n",
       "  u'SAC:nerve': 0.0,\n",
       "  u'SAC:nose': 0.0,\n",
       "  u'SAC:offspring_survival-early': 0.0,\n",
       "  u'SAC:oral_mucosa': 0.0,\n",
       "  u'SAC:other': 0.0,\n",
       "  u'SAC:ovary': 0.0,\n",
       "  u'SAC:pancreas': 0.0,\n",
       "  u'SAC:penis': 0.0,\n",
       "  u'SAC:peritoneum': 0.0,\n",
       "  u'SAC:pituitary_gland': 0.0,\n",
       "  u'SAC:prostate': 0.0,\n",
       "  u'SAC:reproductive_performance': 0.0,\n",
       "  u'SAC:salivary_glands': 0.0,\n",
       "  u'SAC:seminal_vesicle': 0.0,\n",
       "  u'SAC:skeletal_muscle': 0.0,\n",
       "  u'SAC:skin': 0.0,\n",
       "  u'SAC:sperm_measure': 0.0,\n",
       "  u'SAC:sperm_morphology': 0.0,\n",
       "  u'SAC:spinal_cord': 0.0,\n",
       "  u'SAC:spleen': 0.0,\n",
       "  u'SAC:stomach': 0.0,\n",
       "  u'SAC:testes': 0.0,\n",
       "  u'SAC:thoracic_cavity': 0.0,\n",
       "  u'SAC:thymus': 0.0,\n",
       "  u'SAC:thyroid_gland': 0.0,\n",
       "  u'SAC:tissue_nos': 0.0,\n",
       "  u'SAC:tongue': 0.0,\n",
       "  u'SAC:trachea': 0.0,\n",
       "  u'SAC:urinalysis': 0.0,\n",
       "  u'SAC:urinary_bladder': 0.0,\n",
       "  u'SAC:uterus': 0.0,\n",
       "  u'SAC:vagina': 0.0,\n",
       "  u'SAC:water_consumption': 0.0,\n",
       "  u'SUB:[not_in_list]': 0.0,\n",
       "  u'SUB:abdominal_cavity': 0.0,\n",
       "  u'SUB:adrenal_gland': 0.0,\n",
       "  u'SUB:artery_(general)': 0.0,\n",
       "  u'SUB:blood': 0.0,\n",
       "  u'SUB:blood_vessel': 0.0,\n",
       "  u'SUB:body_weight': 625.0,\n",
       "  u'SUB:bone': 0.0,\n",
       "  u'SUB:bone_marrow': 0.0,\n",
       "  u'SUB:brain': 0.0,\n",
       "  u'SUB:cervix': 0.0,\n",
       "  u'SUB:clinical_chemistry': 0.0,\n",
       "  u'SUB:clinical_signs': 625.0,\n",
       "  u'SUB:clitoral_gland': 0.0,\n",
       "  u'SUB:coordination': 0.0,\n",
       "  u'SUB:ear': 0.0,\n",
       "  u'SUB:epididymis': 0.0,\n",
       "  u'SUB:esophagus': 0.0,\n",
       "  u'SUB:estrous_cycle': 0.0,\n",
       "  u'SUB:estrous_cycle_length': 0.0,\n",
       "  u'SUB:eye': 0.0,\n",
       "  u'SUB:food_consumption': 1250.0,\n",
       "  u'SUB:gallbladder': 0.0,\n",
       "  u'SUB:harderian_gland': 0.0,\n",
       "  u'SUB:heart': 0.0,\n",
       "  u'SUB:hematology': 0.0,\n",
       "  u'SUB:intestine_large': 0.0,\n",
       "  u'SUB:intestine_small': 0.0,\n",
       "  u'SUB:kidney': 40.0,\n",
       "  u'SUB:lacrimal_gland': 0.0,\n",
       "  u'SUB:large_intestine': 0.0,\n",
       "  u'SUB:larynx': 0.0,\n",
       "  u'SUB:liver': 40.0,\n",
       "  u'SUB:locomotion': 0.0,\n",
       "  u'SUB:lung': 0.0,\n",
       "  u'SUB:lymph_node': 1250.0,\n",
       "  u'SUB:mammary_gland': 0.0,\n",
       "  u'SUB:mesentery': 0.0,\n",
       "  u'SUB:mortality': 1250.0,\n",
       "  u'SUB:motor_activity': 0.0,\n",
       "  u'SUB:nerve': 0.0,\n",
       "  u'SUB:nose': 0.0,\n",
       "  u'SUB:offspring_survival-early': 0.0,\n",
       "  u'SUB:offspring_survival-late': 0.0,\n",
       "  u'SUB:oral_mucosa': 0.0,\n",
       "  u'SUB:other': 0.0,\n",
       "  u'SUB:ovary': 1250.0,\n",
       "  u'SUB:oviduct': 0.0,\n",
       "  u'SUB:pancreas': 0.0,\n",
       "  u'SUB:parathyroid': 0.0,\n",
       "  u'SUB:parathyroid_gland': 0.0,\n",
       "  u'SUB:penis': 0.0,\n",
       "  u'SUB:peritoneum': 0.0,\n",
       "  u'SUB:pharynx': 0.0,\n",
       "  u'SUB:pituitary_gland': 0.0,\n",
       "  u'SUB:pleura': 0.0,\n",
       "  u'SUB:preputial_gland': 0.0,\n",
       "  u'SUB:prostate': 0.0,\n",
       "  u'SUB:reflexes': 0.0,\n",
       "  u'SUB:reproductive_performance': 0.0,\n",
       "  u'SUB:salivary_glands': 0.0,\n",
       "  u'SUB:seminal_vesicle': 0.0,\n",
       "  u'SUB:skeletal_muscle': 0.0,\n",
       "  u'SUB:skin': 0.0,\n",
       "  u'SUB:sperm_measure': 0.0,\n",
       "  u'SUB:sperm_morphology': 0.0,\n",
       "  u'SUB:spinal_cord': 0.0,\n",
       "  u'SUB:spleen': 0.0,\n",
       "  u'SUB:stomach': 0.0,\n",
       "  u'SUB:testes': 310.0,\n",
       "  u'SUB:thoracic_cavity': 0.0,\n",
       "  u'SUB:thymus': 1250.0,\n",
       "  u'SUB:thyroid_gland': 0.0,\n",
       "  u'SUB:tissue_nos': 0.0,\n",
       "  u'SUB:tongue': 0.0,\n",
       "  u'SUB:tooth': 0.0,\n",
       "  u'SUB:trachea': 0.0,\n",
       "  u'SUB:uncertain_primary_site': 0.0,\n",
       "  u'SUB:ureter': 0.0,\n",
       "  u'SUB:urethra': 0.0,\n",
       "  u'SUB:urinalysis': 0.0,\n",
       "  u'SUB:urinary_bladder': 0.0,\n",
       "  u'SUB:uterus': 1250.0,\n",
       "  u'SUB:vagina': 0.0,\n",
       "  u'SUB:water_consumption': 0.0}}"
      ]
     },
     "execution_count": 9,
     "metadata": {},
     "output_type": "execute_result"
    }
   ],
   "source": [
    "GNR.tox_fp.find_one()"
   ]
  },
  {
   "cell_type": "code",
   "execution_count": 10,
   "metadata": {
    "collapsed": false,
    "jupyter": {
     "outputs_hidden": false
    }
   },
   "outputs": [
    {
     "data": {
      "text/plain": [
       "{u'_id': ObjectId('58591fa8072e60736e265a1b'),\n",
       " u'dsstox_cid': u'DTXCID10281',\n",
       " u'tox_fpn1': {u'ds': [u'SUB:Lung',\n",
       "   u'SUB:Mammary Gland',\n",
       "   u'SUB:Intestine Large',\n",
       "   u'MGR:Mammary Gland',\n",
       "   u'SUB:Uterus',\n",
       "   u'SUB:Thyroid Gland',\n",
       "   u'SUB:Clinical Signs',\n",
       "   u'SUB:Lymph Node',\n",
       "   u'MGR:Thyroid Gland',\n",
       "   u'SUB:Eye',\n",
       "   u'SUB:Seminal Vesicle',\n",
       "   u'MGR:Uterus',\n",
       "   u'SUB:Spinal cord',\n",
       "   u'MGR:Kidney',\n",
       "   u'SUB:Intestine Small',\n",
       "   u'MGR:Seminal Vesicle',\n",
       "   u'MGR:Ovary',\n",
       "   u'MGR:Testes',\n",
       "   u'MGR:Brain',\n",
       "   u'SUB:Vagina',\n",
       "   u'SUB:Urinary Bladder',\n",
       "   u'MGR:Heart',\n",
       "   u'SUB:Thymus',\n",
       "   u'SUB:Esophagus',\n",
       "   u'SUB:Pancreas',\n",
       "   u'SUB:Brain',\n",
       "   u'SUB:Penis',\n",
       "   u'SUB:Adrenal Gland',\n",
       "   u'SUB:Skeletal Muscle',\n",
       "   u'MGR:Epididymis',\n",
       "   u'SUB:Heart',\n",
       "   u'MGR:Lung',\n",
       "   u'MGR:Stomach',\n",
       "   u'SUB:Pituitary Gland'],\n",
       "  u'n': 34},\n",
       " u'tox_fpp1': {u'ds': [u'SUB:Testes',\n",
       "   u'SUB:Kidney',\n",
       "   u'SUB:Liver',\n",
       "   u'SUB:Bone Marrow',\n",
       "   u'SUB:Spleen',\n",
       "   u'SUB:Stomach'],\n",
       "  u'n': 6}}"
      ]
     },
     "execution_count": 10,
     "metadata": {},
     "output_type": "execute_result"
    }
   ],
   "source": [
    "DB.tox_fp.find_one()"
   ]
  },
  {
   "cell_type": "markdown",
   "metadata": {},
   "source": [
    "## Build study level descriptors\n",
    "1. Create collection tox2_fp\n",
    "2. Define tox_fpp2: study is positive if tox_fp.tox_fpp1 has STUDY\n",
    "3. Define tox_fpn2: study is negative if tox_fp.tox_fpn1 has STUDY and not tox_fpp2\n"
   ]
  },
  {
   "cell_type": "code",
   "execution_count": 28,
   "metadata": {
    "collapsed": false,
    "jupyter": {
     "outputs_hidden": false
    }
   },
   "outputs": [],
   "source": [
    "from util.jupyter import *\n",
    "\n",
    "DB.tox2_fp.drop()\n",
    "\n",
    "for FP in log_progress(DB.tox_fp.find({},dict(_id=0)),size=DB.tox_fp.count()):\n",
    "    FPN1 = FP.pop('tox_fpn1')\n",
    "    FPP1 = FP.pop('tox_fpp1')\n",
    "    \n",
    "    Pos = set([i.split(':')[0] for i in FPP1['ds']])\n",
    "    Neg = set([i.split(':')[0] for i in FPN1['ds']])\n",
    "    Neg2= list(Neg.difference(Pos))\n",
    "    \n",
    "    FPP2= dict(ds=list(Pos),n=len(Pos))\n",
    "    FPN2= dict(ds=list(Neg2),n=len(Neg2))\n",
    "    \n",
    "    FP['tox_fpp2']=FPP2\n",
    "    FP['tox_fpn2']=FPN2\n",
    "    \n",
    "    # Dose\n",
    "    X = GNR.tox_fp.find_one(dict(dsstox_cid=FP['dsstox_cid']),dict(_id=0,toxq1=1))\n",
    "    if X:\n",
    "        Toxq = pd.DataFrame(X['toxq1'].items(),columns=['effect','dose'])\n",
    "        Toxq['study']=Toxq.effect.str[:3]\n",
    "        Toxq['dose']=Toxq.dose.astype(np.float)\n",
    "        \n",
    "        Dose=Toxq.query(\"dose>0\").groupby('study').aggregate(dict(dose=dict(mn=np.min,md=np.median,mx=np.max)))\n",
    "        C = [i+'_'+j for i,j in list(Dose.columns)]\n",
    "        Dose.columns=C\n",
    "        FP['toxq2']=Dose.reset_index().to_dict('records')\n",
    "        \n",
    "    DB.tox2_fp.insert_one(FP)"
   ]
  },
  {
   "cell_type": "code",
   "execution_count": 29,
   "metadata": {
    "collapsed": false,
    "jupyter": {
     "outputs_hidden": false
    }
   },
   "outputs": [
    {
     "data": {
      "text/plain": [
       "{u'_id': ObjectId('59a5965b072e601d90cd5f4c'),\n",
       " u'dsstox_cid': u'DTXCID10194',\n",
       " u'tox_fpn2': {u'ds': [], u'n': 0},\n",
       " u'tox_fpp2': {u'ds': [u'MGR', u'CHR', u'SUB', u'DEV'], u'n': 4},\n",
       " u'toxq2': [{u'dose_md': 167.5,\n",
       "   u'dose_mn': 167.5,\n",
       "   u'dose_mx': 1100.0,\n",
       "   u'study': u'CHR'},\n",
       "  {u'dose_md': 205.5, u'dose_mn': 76.0, u'dose_mx': 1003.0, u'study': u'DEV'},\n",
       "  {u'dose_md': 4500.0,\n",
       "   u'dose_mn': 336.0,\n",
       "   u'dose_mx': 4500.0,\n",
       "   u'study': u'MGR'},\n",
       "  {u'dose_md': 1025.4,\n",
       "   u'dose_mn': 25.0,\n",
       "   u'dose_mx': 4466.7,\n",
       "   u'study': u'SUB'}]}"
      ]
     },
     "execution_count": 29,
     "metadata": {},
     "output_type": "execute_result"
    }
   ],
   "source": [
    "DB.tox2_fp.find_one({'tox_fpp2.n':{'$gte':3}})"
   ]
  },
  {
   "cell_type": "markdown",
   "metadata": {},
   "source": [
    "## See if this builds correct datasets"
   ]
  },
  {
   "cell_type": "code",
   "execution_count": 48,
   "metadata": {
    "collapsed": false,
    "jupyter": {
     "outputs_hidden": false
    }
   },
   "outputs": [],
   "source": [
    "from organtox import *\n",
    "\n",
    "DS1 = getToxDataSet('DEV',MDB=DB,col_tox='tox2_fp',tox_pos_ds='tox_fpp2.ds',tox_neg_ds='tox_fpn2.ds')"
   ]
  },
  {
   "cell_type": "code",
   "execution_count": 49,
   "metadata": {
    "collapsed": false,
    "jupyter": {
     "outputs_hidden": false
    }
   },
   "outputs": [
    {
     "data": {
      "text/plain": [
       "[['bio', (429, 780)],\n",
       " ['tox', (581, 1)],\n",
       " ['bc', (424, 2782)],\n",
       " ['bct', (424, 1151)],\n",
       " ['chm', (476, 2002)],\n",
       " ['ct', (424, 371)]]"
      ]
     },
     "execution_count": 49,
     "metadata": {},
     "output_type": "execute_result"
    }
   ],
   "source": [
    "[[k,v.shape] for k,v in DS1.iteritems()]"
   ]
  },
  {
   "cell_type": "code",
   "execution_count": 95,
   "metadata": {
    "collapsed": false,
    "jupyter": {
     "outputs_hidden": false
    }
   },
   "outputs": [],
   "source": [
    "Tox={}\n",
    "for X in DB.tox2_fp.find():\n",
    "    fp = tuple(X['tox_fpp2']['ds'])\n",
    "    if Tox.has_key(fp):\n",
    "        Tox[fp]+=1\n",
    "    else:\n",
    "        Tox[fp] =1\n",
    "        "
   ]
  },
  {
   "cell_type": "code",
   "execution_count": 96,
   "metadata": {
    "collapsed": false,
    "jupyter": {
     "outputs_hidden": false
    }
   },
   "outputs": [
    {
     "data": {
      "text/plain": [
       "{(): 63,\n",
       " (u'CHR',): 51,\n",
       " (u'CHR', u'DEV'): 33,\n",
       " (u'CHR', u'NEU', u'SUB', u'DEV'): 2,\n",
       " (u'CHR', u'REP', u'DEV'): 4,\n",
       " (u'CHR', u'REP', u'DEV', u'SUB'): 1,\n",
       " (u'CHR', u'SUB'): 65,\n",
       " (u'CHR', u'SUB', u'DEV'): 66,\n",
       " (u'CHR', u'SUB', u'DEV', u'REP'): 2,\n",
       " (u'DEV',): 64,\n",
       " (u'DNT',): 20,\n",
       " (u'DNT', u'CHR'): 3,\n",
       " (u'DNT', u'CHR', u'DEV'): 5,\n",
       " (u'DNT', u'CHR', u'DEV', u'MGR'): 7,\n",
       " (u'DNT', u'CHR', u'SUB'): 4,\n",
       " (u'DNT', u'CHR', u'SUB', u'DEV'): 6,\n",
       " (u'DNT', u'CHR', u'SUB', u'DEV', u'MGR'): 8,\n",
       " (u'DNT', u'DEV'): 3,\n",
       " (u'DNT', u'SUB', u'DEV'): 1,\n",
       " (u'DNT', u'SUB', u'DEV', u'MGR'): 1,\n",
       " (u'MGR',): 30,\n",
       " (u'MGR', u'CHR'): 9,\n",
       " (u'MGR', u'CHR', u'DEV'): 26,\n",
       " (u'MGR', u'CHR', u'DEV', u'DNT'): 8,\n",
       " (u'MGR', u'CHR', u'NEU', u'SUB'): 1,\n",
       " (u'MGR', u'CHR', u'NEU', u'SUB', u'DEV'): 3,\n",
       " (u'MGR', u'CHR', u'REP'): 1,\n",
       " (u'MGR', u'CHR', u'SUB'): 20,\n",
       " (u'MGR', u'CHR', u'SUB', u'DEV'): 163,\n",
       " (u'MGR', u'CHR', u'SUB', u'DEV', u'DNT'): 22,\n",
       " (u'MGR', u'CHR', u'SUB', u'DEV', u'REP'): 3,\n",
       " (u'MGR', u'DEV'): 15,\n",
       " (u'MGR', u'DEV', u'DNT'): 2,\n",
       " (u'MGR', u'DNT'): 2,\n",
       " (u'MGR', u'REP'): 1,\n",
       " (u'MGR', u'SUB'): 5,\n",
       " (u'MGR', u'SUB', u'DEV'): 11,\n",
       " (u'NEU', u'SUB'): 1,\n",
       " (u'NEU', u'SUB', u'DEV'): 1,\n",
       " (u'REP',): 8,\n",
       " (u'REP', u'CHR'): 1,\n",
       " (u'REP', u'CHR', u'DEV'): 2,\n",
       " (u'REP', u'CHR', u'SUB', u'DEV'): 4,\n",
       " (u'REP', u'DEV'): 6,\n",
       " (u'REP', u'SUB', u'DEV'): 2,\n",
       " (u'SUB',): 49,\n",
       " (u'SUB', u'DEV'): 55}"
      ]
     },
     "execution_count": 96,
     "metadata": {},
     "output_type": "execute_result"
    }
   ],
   "source": [
    "Tox"
   ]
  },
  {
   "cell_type": "markdown",
   "metadata": {},
   "source": [
    "# Run ML Analysis"
   ]
  },
  {
   "cell_type": "markdown",
   "metadata": {},
   "source": [
    "## Parallelisation"
   ]
  },
  {
   "cell_type": "code",
   "execution_count": 6,
   "metadata": {
    "collapsed": false,
    "jupyter": {
     "outputs_hidden": false
    }
   },
   "outputs": [
    {
     "data": {
      "text/plain": [
       "<DirectView [0, 1, 2, 3,...]>"
      ]
     },
     "execution_count": 6,
     "metadata": {},
     "output_type": "execute_result"
    }
   ],
   "source": [
    "from organtox import *\n",
    "\n",
    "initParallel(parallel_machine='pb_parallel')\n",
    "\n",
    "d_view"
   ]
  },
  {
   "cell_type": "code",
   "execution_count": 7,
   "metadata": {
    "collapsed": false,
    "jupyter": {
     "outputs_hidden": false
    }
   },
   "outputs": [
    {
     "data": {
      "text/plain": [
       "<AsyncResult: execute:finished>"
      ]
     },
     "execution_count": 7,
     "metadata": {},
     "output_type": "execute_result"
    }
   ],
   "source": [
    "resp=d_view.push(dict(TOP=TOP,LIB=LIB))\n",
    "\n",
    "d_view.execute(\"\"\"\n",
    "import sys\n",
    "if not LIB in sys.path: sys.path.append(LIB)\n",
    "from organtox import *\n",
    "DB = openMongo(host='pb.epa.gov',user='ishah',passwd='ishah',db='organtox_v1')\n",
    "\"\"\")\n"
   ]
  },
  {
   "cell_type": "code",
   "execution_count": 7,
   "metadata": {
    "collapsed": false,
    "jupyter": {
     "outputs_hidden": false
    }
   },
   "outputs": [],
   "source": [
    "#d_view.map(lambda x: DB.ml_study_run_v1.count(), range(10))"
   ]
  },
  {
   "cell_type": "code",
   "execution_count": 10,
   "metadata": {
    "collapsed": false,
    "jupyter": {
     "outputs_hidden": false
    }
   },
   "outputs": [
    {
     "name": "stdout",
     "output_type": "stream",
     "text": [
      "> Tox  SUB 496 + 31 - 19:26\n",
      "> Tox  CHR 520 + 19 - 19:26\n",
      "> Tox  DEV 526 + 55 - 19:26\n",
      "> Tox  DNT 92 + 19 - 19:26\n",
      "> Tox  MGR 338 + 101 - 19:27\n"
     ]
    }
   ],
   "source": [
    "from organtox import *\n",
    "import random\n",
    "P_ALL = []\n",
    "\n",
    "DB.ml_study_run_v1.drop()\n",
    "n_np = 0\n",
    "Outcomes = DB.tox2_fp.distinct('tox_fpp2.ds')\n",
    "for tox in Outcomes:\n",
    "    RN0=[]\n",
    "    # Get one seed for each toxicity classification\n",
    "    seed = random.randint(1,1e6)      \n",
    "    \n",
    "    # Get the data \n",
    "    DS0 = getToxDataSet(tox,MDB=DB,col_tox='tox2_fp',tox_pos_ds='tox_fpp2.ds',tox_neg_ds='tox_fpn2.ds')\n",
    "\n",
    "    N_p,N_n = (DS0['tox'][tox]==1).sum(),(DS0['tox'][tox]==0).sum()\n",
    "    \n",
    "    if N_p==0 or N_n==0: continue\n",
    "    print \"> Tox \",tox,N_p,'+', N_n,'-',time.strftime(\"%H:%M\",time.localtime())\n",
    "    sys.stdout.flush()\n",
    "    sys.stderr.flush()\n",
    "    \n",
    "    for n_p in range(N_n,N_p,20):\n",
    "        for dt in ['bio','chm','ct','bc','bct']:\n",
    "            RN0.append(dict(tox_class=tox,descriptor_type=dt,\n",
    "                            n_neg=N_n,n_pos=n_p,rand_seed=seed))\n",
    "            \n",
    "    DB.ml_study_run_v1.insert_many(RN0)\n"
   ]
  },
  {
   "cell_type": "code",
   "execution_count": 11,
   "metadata": {
    "collapsed": false,
    "jupyter": {
     "outputs_hidden": false
    }
   },
   "outputs": [
    {
     "name": "stdout",
     "output_type": "stream",
     "text": [
      "450\n"
     ]
    }
   ],
   "source": [
    "print DB.ml_study_run_v1.count()\n",
    "#pd.DataFrame(list(DB.ml_study_run_v1.find(dict(tox_class='DEV',descriptor_type='bio'),dict(_id=0))))"
   ]
  },
  {
   "cell_type": "code",
   "execution_count": 12,
   "metadata": {
    "collapsed": false,
    "jupyter": {
     "outputs_hidden": false
    }
   },
   "outputs": [
    {
     "name": "stdout",
     "output_type": "stream",
     "text": [
      "Starting ML Analysis to assign toxicity 29/08/2017 19:28\n",
      "Data sets:  450\n"
     ]
    },
    {
     "ename": "CompositeError",
     "evalue": "one or more exceptions from call to method: <lambda>\n[7:apply]: DataError: No numeric types to aggregate\n[15:apply]: DataError: No numeric types to aggregate\n[28:apply]: DataError: No numeric types to aggregate",
     "output_type": "error",
     "traceback": [
      "[7:apply]: ",
      "\u001b[0;31m\u001b[0m\u001b[0;31mDataError\u001b[0mTraceback (most recent call last)\u001b[0;32m<string>\u001b[0m in \u001b[0;36m<module>\u001b[0;34m()\u001b[0m",
      "\u001b[0;32m<ipython-input-12-0256282f31ce>\u001b[0m in \u001b[0;36m<lambda>\u001b[0;34m((tox_i, dt_i, np_i, nn_i, rs_i))\u001b[0m",
      "\u001b[0;32m/share/home/ishah/ipynb/pb/OrganTox/lib/organtox.pyc\u001b[0m in \u001b[0;36mrunStudyToxML\u001b[0;34m(y_out, dt, n_pos, n_neg, r_seed, col_tox, tox_pos_ds, tox_neg_ds, n_ss2, n_ds_min, n_ds_max, n_ds_step, ss_iters, cv_iters, cv_nfolds, Col_ds, Col_lr, MDB)\u001b[0m",
      "\u001b[1;32m    242\u001b[0m                    \u001b[0mdt_out\u001b[0m\u001b[0;34m=\u001b[0m\u001b[0;34m'tox'\u001b[0m\u001b[0;34m,\u001b[0m\u001b[0mdt_in\u001b[0m\u001b[0;34m=\u001b[0m\u001b[0mdt\u001b[0m\u001b[0;34m,\u001b[0m\u001b[0mn_ds\u001b[0m\u001b[0;34m=\u001b[0m\u001b[0mi_ds\u001b[0m\u001b[0;34m,\u001b[0m\u001b[0;34m\u001b[0m\u001b[0m",
      "\u001b[1;32m    243\u001b[0m                    \u001b[0mcv_iters\u001b[0m\u001b[0;34m=\u001b[0m\u001b[0mcv_iters\u001b[0m\u001b[0;34m,\u001b[0m\u001b[0mcv_nfolds\u001b[0m\u001b[0;34m=\u001b[0m\u001b[0mcv_nfolds\u001b[0m\u001b[0;34m,\u001b[0m\u001b[0;34m\u001b[0m\u001b[0m",
      "\u001b[0;32m--> 244\u001b[0;31m                    Col_ds=Col_ds,Col_lr=Col_lr)",
      "\u001b[0m\u001b[1;32m    245\u001b[0m \u001b[0;34m\u001b[0m\u001b[0m",
      "\u001b[1;32m    246\u001b[0m     \u001b[0;32mreturn\u001b[0m \u001b[0mTrue\u001b[0m\u001b[0;34m\u001b[0m\u001b[0m",
      "\u001b[0;32m/share/home/ishah/ipynb/pb/OrganTox/lib/organtox.pyc\u001b[0m in \u001b[0;36mrunML1\u001b[0;34m(Data_cv, y, dt_out, dt_in, n_ds, cv_nfolds, cv_iters, CLF, DS_top, save, Col_ds, Col_lr)\u001b[0m",
      "\u001b[1;32m    288\u001b[0m         \u001b[0mPerf\u001b[0m \u001b[0;34m+=\u001b[0m \u001b[0mP\u001b[0m\u001b[0;34m\u001b[0m\u001b[0m",
      "\u001b[1;32m    289\u001b[0m \u001b[0;34m\u001b[0m\u001b[0m",
      "\u001b[0;32m--> 290\u001b[0;31m     \u001b[0mP1\u001b[0m \u001b[0;34m=\u001b[0m\u001b[0msummarizePerf\u001b[0m\u001b[0;34m(\u001b[0m\u001b[0mPerf\u001b[0m\u001b[0;34m)\u001b[0m\u001b[0;34m\u001b[0m\u001b[0m",
      "\u001b[0m\u001b[1;32m    291\u001b[0m     \u001b[0mP1\u001b[0m\u001b[0;34m[\u001b[0m\u001b[0;34m'n_iter'\u001b[0m\u001b[0;34m]\u001b[0m\u001b[0;34m=\u001b[0m\u001b[0mcv_iters\u001b[0m\u001b[0;34m\u001b[0m\u001b[0m",
      "\u001b[1;32m    292\u001b[0m     \u001b[0mP1a\u001b[0m \u001b[0;34m=\u001b[0m \u001b[0;34m{\u001b[0m\u001b[0mi\u001b[0m\u001b[0;34m[\u001b[0m\u001b[0;34m'lr'\u001b[0m\u001b[0;34m]\u001b[0m\u001b[0;34m:\u001b[0m\u001b[0mi\u001b[0m \u001b[0;32mfor\u001b[0m \u001b[0mi\u001b[0m \u001b[0;32min\u001b[0m \u001b[0mP1\u001b[0m\u001b[0;34m.\u001b[0m\u001b[0mto_dict\u001b[0m\u001b[0;34m(\u001b[0m\u001b[0;34m'records'\u001b[0m\u001b[0;34m)\u001b[0m\u001b[0;34m}\u001b[0m\u001b[0;34m\u001b[0m\u001b[0m",
      "\u001b[0;32m/share/home/ishah/ipynb/pb/OrganTox/lib/organtox.pyc\u001b[0m in \u001b[0;36msummarizePerf\u001b[0;34m(P)\u001b[0m",
      "\u001b[1;32m    388\u001b[0m                \u001b[0mn_test\u001b[0m \u001b[0;34m=\u001b[0m\u001b[0mdict\u001b[0m\u001b[0;34m(\u001b[0m\u001b[0mmn\u001b[0m\u001b[0;34m=\u001b[0m\u001b[0mnp\u001b[0m\u001b[0;34m.\u001b[0m\u001b[0mmedian\u001b[0m\u001b[0;34m)\u001b[0m\u001b[0;34m\u001b[0m\u001b[0m",
      "\u001b[1;32m    389\u001b[0m               )",
      "\u001b[0;32m--> 390\u001b[0;31m     \u001b[0mP1\u001b[0m\u001b[0;34m=\u001b[0m\u001b[0mP0\u001b[0m\u001b[0;34m.\u001b[0m\u001b[0mgroupby\u001b[0m\u001b[0;34m(\u001b[0m\u001b[0mby\u001b[0m\u001b[0;34m=\u001b[0m\u001b[0;34m[\u001b[0m\u001b[0;34m'lr'\u001b[0m\u001b[0;34m,\u001b[0m\u001b[0;34m'pt'\u001b[0m\u001b[0;34m,\u001b[0m\u001b[0;34m'cv_kfold'\u001b[0m\u001b[0;34m]\u001b[0m\u001b[0;34m)\u001b[0m\u001b[0;34m.\u001b[0m\u001b[0maggregate\u001b[0m\u001b[0;34m(\u001b[0m\u001b[0mAgg\u001b[0m\u001b[0;34m)\u001b[0m\u001b[0;34m\u001b[0m\u001b[0m",
      "\u001b[0m\u001b[1;32m    391\u001b[0m     \u001b[0mP2\u001b[0m\u001b[0;34m=\u001b[0m\u001b[0mP1\u001b[0m\u001b[0;34m.\u001b[0m\u001b[0mreset_index\u001b[0m\u001b[0;34m(\u001b[0m\u001b[0;34m)\u001b[0m\u001b[0;34m\u001b[0m\u001b[0m",
      "\u001b[1;32m    392\u001b[0m     \u001b[0mC\u001b[0m\u001b[0;34m=\u001b[0m\u001b[0;34m[\u001b[0m\u001b[0;34m'_'\u001b[0m\u001b[0;34m.\u001b[0m\u001b[0mjoin\u001b[0m\u001b[0;34m(\u001b[0m\u001b[0;34m[\u001b[0m\u001b[0mk\u001b[0m \u001b[0;32mfor\u001b[0m \u001b[0mk\u001b[0m \u001b[0;32min\u001b[0m \u001b[0mi\u001b[0m \u001b[0;32mif\u001b[0m \u001b[0mk\u001b[0m\u001b[0;34m]\u001b[0m\u001b[0;34m)\u001b[0m \u001b[0;32mfor\u001b[0m \u001b[0mi\u001b[0m \u001b[0;32min\u001b[0m \u001b[0mP2\u001b[0m\u001b[0;34m.\u001b[0m\u001b[0mcolumns\u001b[0m\u001b[0;34m]\u001b[0m\u001b[0;34m\u001b[0m\u001b[0m",
      "\u001b[0;32m/usr/local/anaconda2/lib/python2.7/site-packages/pandas/core/groupby.pyc\u001b[0m in \u001b[0;36maggregate\u001b[0;34m(self, arg, *args, **kwargs)\u001b[0m",
      "\u001b[1;32m   3702\u001b[0m     \u001b[0;34m@\u001b[0m\u001b[0mAppender\u001b[0m\u001b[0;34m(\u001b[0m\u001b[0mSelectionMixin\u001b[0m\u001b[0;34m.\u001b[0m\u001b[0m_agg_doc\u001b[0m\u001b[0;34m)\u001b[0m\u001b[0;34m\u001b[0m\u001b[0m",
      "\u001b[1;32m   3703\u001b[0m     \u001b[0;32mdef\u001b[0m \u001b[0maggregate\u001b[0m\u001b[0;34m(\u001b[0m\u001b[0mself\u001b[0m\u001b[0;34m,\u001b[0m \u001b[0marg\u001b[0m\u001b[0;34m,\u001b[0m \u001b[0;34m*\u001b[0m\u001b[0margs\u001b[0m\u001b[0;34m,\u001b[0m \u001b[0;34m**\u001b[0m\u001b[0mkwargs\u001b[0m\u001b[0;34m)\u001b[0m\u001b[0;34m:\u001b[0m\u001b[0;34m\u001b[0m\u001b[0m",
      "\u001b[0;32m-> 3704\u001b[0;31m         \u001b[0;32mreturn\u001b[0m \u001b[0msuper\u001b[0m\u001b[0;34m(\u001b[0m\u001b[0mDataFrameGroupBy\u001b[0m\u001b[0;34m,\u001b[0m \u001b[0mself\u001b[0m\u001b[0;34m)\u001b[0m\u001b[0;34m.\u001b[0m\u001b[0maggregate\u001b[0m\u001b[0;34m(\u001b[0m\u001b[0marg\u001b[0m\u001b[0;34m,\u001b[0m \u001b[0;34m*\u001b[0m\u001b[0margs\u001b[0m\u001b[0;34m,\u001b[0m \u001b[0;34m**\u001b[0m\u001b[0mkwargs\u001b[0m\u001b[0;34m)\u001b[0m\u001b[0;34m\u001b[0m\u001b[0m",
      "\u001b[0m\u001b[1;32m   3705\u001b[0m \u001b[0;34m\u001b[0m\u001b[0m",
      "\u001b[1;32m   3706\u001b[0m     \u001b[0magg\u001b[0m \u001b[0;34m=\u001b[0m \u001b[0maggregate\u001b[0m\u001b[0;34m\u001b[0m\u001b[0m",
      "\u001b[0;32m/usr/local/anaconda2/lib/python2.7/site-packages/pandas/core/groupby.pyc\u001b[0m in \u001b[0;36maggregate\u001b[0;34m(self, arg, *args, **kwargs)\u001b[0m",
      "\u001b[1;32m   3191\u001b[0m \u001b[0;34m\u001b[0m\u001b[0m",
      "\u001b[1;32m   3192\u001b[0m         \u001b[0m_level\u001b[0m \u001b[0;34m=\u001b[0m \u001b[0mkwargs\u001b[0m\u001b[0;34m.\u001b[0m\u001b[0mpop\u001b[0m\u001b[0;34m(\u001b[0m\u001b[0;34m'_level'\u001b[0m\u001b[0;34m,\u001b[0m \u001b[0mNone\u001b[0m\u001b[0;34m)\u001b[0m\u001b[0;34m\u001b[0m\u001b[0m",
      "\u001b[0;32m-> 3193\u001b[0;31m         \u001b[0mresult\u001b[0m\u001b[0;34m,\u001b[0m \u001b[0mhow\u001b[0m \u001b[0;34m=\u001b[0m \u001b[0mself\u001b[0m\u001b[0;34m.\u001b[0m\u001b[0m_aggregate\u001b[0m\u001b[0;34m(\u001b[0m\u001b[0marg\u001b[0m\u001b[0;34m,\u001b[0m \u001b[0m_level\u001b[0m\u001b[0;34m=\u001b[0m\u001b[0m_level\u001b[0m\u001b[0;34m,\u001b[0m \u001b[0;34m*\u001b[0m\u001b[0margs\u001b[0m\u001b[0;34m,\u001b[0m \u001b[0;34m**\u001b[0m\u001b[0mkwargs\u001b[0m\u001b[0;34m)\u001b[0m\u001b[0;34m\u001b[0m\u001b[0m",
      "\u001b[0m\u001b[1;32m   3194\u001b[0m         \u001b[0;32mif\u001b[0m \u001b[0mhow\u001b[0m \u001b[0;32mis\u001b[0m \u001b[0mNone\u001b[0m\u001b[0;34m:\u001b[0m\u001b[0;34m\u001b[0m\u001b[0m",
      "\u001b[1;32m   3195\u001b[0m             \u001b[0;32mreturn\u001b[0m \u001b[0mresult\u001b[0m\u001b[0;34m\u001b[0m\u001b[0m",
      "\u001b[0;32m/usr/local/anaconda2/lib/python2.7/site-packages/pandas/core/base.pyc\u001b[0m in \u001b[0;36m_aggregate\u001b[0;34m(self, arg, *args, **kwargs)\u001b[0m",
      "\u001b[1;32m    507\u001b[0m             \u001b[0;31m# nested renamer\u001b[0m\u001b[0;34m\u001b[0m\u001b[0;34m\u001b[0m\u001b[0m",
      "\u001b[1;32m    508\u001b[0m             \u001b[0;32mif\u001b[0m \u001b[0mis_nested_renamer\u001b[0m\u001b[0;34m:\u001b[0m\u001b[0;34m\u001b[0m\u001b[0m",
      "\u001b[0;32m--> 509\u001b[0;31m                 \u001b[0mresult\u001b[0m \u001b[0;34m=\u001b[0m \u001b[0mlist\u001b[0m\u001b[0;34m(\u001b[0m\u001b[0m_agg\u001b[0m\u001b[0;34m(\u001b[0m\u001b[0marg\u001b[0m\u001b[0;34m,\u001b[0m \u001b[0m_agg_1dim\u001b[0m\u001b[0;34m)\u001b[0m\u001b[0;34m.\u001b[0m\u001b[0mvalues\u001b[0m\u001b[0;34m(\u001b[0m\u001b[0;34m)\u001b[0m\u001b[0;34m)\u001b[0m\u001b[0;34m\u001b[0m\u001b[0m",
      "\u001b[0m\u001b[1;32m    510\u001b[0m \u001b[0;34m\u001b[0m\u001b[0m",
      "\u001b[1;32m    511\u001b[0m                 \u001b[0;32mif\u001b[0m \u001b[0mall\u001b[0m\u001b[0;34m(\u001b[0m\u001b[0misinstance\u001b[0m\u001b[0;34m(\u001b[0m\u001b[0mr\u001b[0m\u001b[0;34m,\u001b[0m \u001b[0mdict\u001b[0m\u001b[0;34m)\u001b[0m \u001b[0;32mfor\u001b[0m \u001b[0mr\u001b[0m \u001b[0;32min\u001b[0m \u001b[0mresult\u001b[0m\u001b[0;34m)\u001b[0m\u001b[0;34m:\u001b[0m\u001b[0;34m\u001b[0m\u001b[0m",
      "\u001b[0;32m/usr/local/anaconda2/lib/python2.7/site-packages/pandas/core/base.pyc\u001b[0m in \u001b[0;36m_agg\u001b[0;34m(arg, func)\u001b[0m",
      "\u001b[1;32m    498\u001b[0m                 \u001b[0mresult\u001b[0m \u001b[0;34m=\u001b[0m \u001b[0mcompat\u001b[0m\u001b[0;34m.\u001b[0m\u001b[0mOrderedDict\u001b[0m\u001b[0;34m(\u001b[0m\u001b[0;34m)\u001b[0m\u001b[0;34m\u001b[0m\u001b[0m",
      "\u001b[1;32m    499\u001b[0m                 \u001b[0;32mfor\u001b[0m \u001b[0mfname\u001b[0m\u001b[0;34m,\u001b[0m \u001b[0magg_how\u001b[0m \u001b[0;32min\u001b[0m \u001b[0mcompat\u001b[0m\u001b[0;34m.\u001b[0m\u001b[0miteritems\u001b[0m\u001b[0;34m(\u001b[0m\u001b[0marg\u001b[0m\u001b[0;34m)\u001b[0m\u001b[0;34m:\u001b[0m\u001b[0;34m\u001b[0m\u001b[0m",
      "\u001b[0;32m--> 500\u001b[0;31m                     \u001b[0mresult\u001b[0m\u001b[0;34m[\u001b[0m\u001b[0mfname\u001b[0m\u001b[0;34m]\u001b[0m \u001b[0;34m=\u001b[0m \u001b[0mfunc\u001b[0m\u001b[0;34m(\u001b[0m\u001b[0mfname\u001b[0m\u001b[0;34m,\u001b[0m \u001b[0magg_how\u001b[0m\u001b[0;34m)\u001b[0m\u001b[0;34m\u001b[0m\u001b[0m",
      "\u001b[0m\u001b[1;32m    501\u001b[0m                 \u001b[0;32mreturn\u001b[0m \u001b[0mresult\u001b[0m\u001b[0;34m\u001b[0m\u001b[0m",
      "\u001b[1;32m    502\u001b[0m \u001b[0;34m\u001b[0m\u001b[0m",
      "\u001b[0;32m/usr/local/anaconda2/lib/python2.7/site-packages/pandas/core/base.pyc\u001b[0m in \u001b[0;36m_agg_1dim\u001b[0;34m(name, how, subset)\u001b[0m",
      "\u001b[1;32m    481\u001b[0m                     raise SpecificationError(\"nested dictionary is ambiguous \"",
      "\u001b[1;32m    482\u001b[0m                                              \"in aggregation\")",
      "\u001b[0;32m--> 483\u001b[0;31m                 \u001b[0;32mreturn\u001b[0m \u001b[0mcolg\u001b[0m\u001b[0;34m.\u001b[0m\u001b[0maggregate\u001b[0m\u001b[0;34m(\u001b[0m\u001b[0mhow\u001b[0m\u001b[0;34m,\u001b[0m \u001b[0m_level\u001b[0m\u001b[0;34m=\u001b[0m\u001b[0;34m(\u001b[0m\u001b[0m_level\u001b[0m \u001b[0;32mor\u001b[0m \u001b[0;36m0\u001b[0m\u001b[0;34m)\u001b[0m \u001b[0;34m+\u001b[0m \u001b[0;36m1\u001b[0m\u001b[0;34m)\u001b[0m\u001b[0;34m\u001b[0m\u001b[0m",
      "\u001b[0m\u001b[1;32m    484\u001b[0m \u001b[0;34m\u001b[0m\u001b[0m",
      "\u001b[1;32m    485\u001b[0m             \u001b[0;32mdef\u001b[0m \u001b[0m_agg_2dim\u001b[0m\u001b[0;34m(\u001b[0m\u001b[0mname\u001b[0m\u001b[0;34m,\u001b[0m \u001b[0mhow\u001b[0m\u001b[0;34m)\u001b[0m\u001b[0;34m:\u001b[0m\u001b[0;34m\u001b[0m\u001b[0m",
      "\u001b[0;32m/usr/local/anaconda2/lib/python2.7/site-packages/pandas/core/groupby.pyc\u001b[0m in \u001b[0;36maggregate\u001b[0;34m(self, func_or_funcs, *args, **kwargs)\u001b[0m",
      "\u001b[1;32m   2654\u001b[0m         \u001b[0;32mif\u001b[0m \u001b[0mhasattr\u001b[0m\u001b[0;34m(\u001b[0m\u001b[0mfunc_or_funcs\u001b[0m\u001b[0;34m,\u001b[0m \u001b[0;34m'__iter__'\u001b[0m\u001b[0;34m)\u001b[0m\u001b[0;34m:\u001b[0m\u001b[0;34m\u001b[0m\u001b[0m",
      "\u001b[1;32m   2655\u001b[0m             ret = self._aggregate_multiple_funcs(func_or_funcs,",
      "\u001b[0;32m-> 2656\u001b[0;31m                                                  (_level or 0) + 1)",
      "\u001b[0m\u001b[1;32m   2657\u001b[0m         \u001b[0;32melse\u001b[0m\u001b[0;34m:\u001b[0m\u001b[0;34m\u001b[0m\u001b[0m",
      "\u001b[1;32m   2658\u001b[0m             \u001b[0mcyfunc\u001b[0m \u001b[0;34m=\u001b[0m \u001b[0mself\u001b[0m\u001b[0;34m.\u001b[0m\u001b[0m_is_cython_func\u001b[0m\u001b[0;34m(\u001b[0m\u001b[0mfunc_or_funcs\u001b[0m\u001b[0;34m)\u001b[0m\u001b[0;34m\u001b[0m\u001b[0m",
      "\u001b[0;32m/usr/local/anaconda2/lib/python2.7/site-packages/pandas/core/groupby.pyc\u001b[0m in \u001b[0;36m_aggregate_multiple_funcs\u001b[0;34m(self, arg, _level)\u001b[0m",
      "\u001b[1;32m   2716\u001b[0m                 \u001b[0mobj\u001b[0m\u001b[0;34m.\u001b[0m\u001b[0m_reset_cache\u001b[0m\u001b[0;34m(\u001b[0m\u001b[0;34m)\u001b[0m\u001b[0;34m\u001b[0m\u001b[0m",
      "\u001b[1;32m   2717\u001b[0m                 \u001b[0mobj\u001b[0m\u001b[0;34m.\u001b[0m\u001b[0m_selection\u001b[0m \u001b[0;34m=\u001b[0m \u001b[0mname\u001b[0m\u001b[0;34m\u001b[0m\u001b[0m",
      "\u001b[0;32m-> 2718\u001b[0;31m             \u001b[0mresults\u001b[0m\u001b[0;34m[\u001b[0m\u001b[0mname\u001b[0m\u001b[0;34m]\u001b[0m \u001b[0;34m=\u001b[0m \u001b[0mobj\u001b[0m\u001b[0;34m.\u001b[0m\u001b[0maggregate\u001b[0m\u001b[0;34m(\u001b[0m\u001b[0mfunc\u001b[0m\u001b[0;34m)\u001b[0m\u001b[0;34m\u001b[0m\u001b[0m",
      "\u001b[0m\u001b[1;32m   2719\u001b[0m \u001b[0;34m\u001b[0m\u001b[0m",
      "\u001b[1;32m   2720\u001b[0m         if isinstance(list(compat.itervalues(results))[0],",
      "\u001b[0;32m/usr/local/anaconda2/lib/python2.7/site-packages/pandas/core/groupby.pyc\u001b[0m in \u001b[0;36maggregate\u001b[0;34m(self, func_or_funcs, *args, **kwargs)\u001b[0m",
      "\u001b[1;32m   2658\u001b[0m             \u001b[0mcyfunc\u001b[0m \u001b[0;34m=\u001b[0m \u001b[0mself\u001b[0m\u001b[0;34m.\u001b[0m\u001b[0m_is_cython_func\u001b[0m\u001b[0;34m(\u001b[0m\u001b[0mfunc_or_funcs\u001b[0m\u001b[0;34m)\u001b[0m\u001b[0;34m\u001b[0m\u001b[0m",
      "\u001b[1;32m   2659\u001b[0m             \u001b[0;32mif\u001b[0m \u001b[0mcyfunc\u001b[0m \u001b[0;32mand\u001b[0m \u001b[0;32mnot\u001b[0m \u001b[0margs\u001b[0m \u001b[0;32mand\u001b[0m \u001b[0;32mnot\u001b[0m \u001b[0mkwargs\u001b[0m\u001b[0;34m:\u001b[0m\u001b[0;34m\u001b[0m\u001b[0m",
      "\u001b[0;32m-> 2660\u001b[0;31m                 \u001b[0;32mreturn\u001b[0m \u001b[0mgetattr\u001b[0m\u001b[0;34m(\u001b[0m\u001b[0mself\u001b[0m\u001b[0;34m,\u001b[0m \u001b[0mcyfunc\u001b[0m\u001b[0;34m)\u001b[0m\u001b[0;34m(\u001b[0m\u001b[0;34m)\u001b[0m\u001b[0;34m\u001b[0m\u001b[0m",
      "\u001b[0m\u001b[1;32m   2661\u001b[0m \u001b[0;34m\u001b[0m\u001b[0m",
      "\u001b[1;32m   2662\u001b[0m             \u001b[0;32mif\u001b[0m \u001b[0mself\u001b[0m\u001b[0;34m.\u001b[0m\u001b[0mgrouper\u001b[0m\u001b[0;34m.\u001b[0m\u001b[0mnkeys\u001b[0m \u001b[0;34m>\u001b[0m \u001b[0;36m1\u001b[0m\u001b[0;34m:\u001b[0m\u001b[0;34m\u001b[0m\u001b[0m",
      "\u001b[0;32m/usr/local/anaconda2/lib/python2.7/site-packages/pandas/core/groupby.pyc\u001b[0m in \u001b[0;36mmean\u001b[0;34m(self, *args, **kwargs)\u001b[0m",
      "\u001b[1;32m   1017\u001b[0m         \u001b[0mnv\u001b[0m\u001b[0;34m.\u001b[0m\u001b[0mvalidate_groupby_func\u001b[0m\u001b[0;34m(\u001b[0m\u001b[0;34m'mean'\u001b[0m\u001b[0;34m,\u001b[0m \u001b[0margs\u001b[0m\u001b[0;34m,\u001b[0m \u001b[0mkwargs\u001b[0m\u001b[0;34m)\u001b[0m\u001b[0;34m\u001b[0m\u001b[0m",
      "\u001b[1;32m   1018\u001b[0m         \u001b[0;32mtry\u001b[0m\u001b[0;34m:\u001b[0m\u001b[0;34m\u001b[0m\u001b[0m",
      "\u001b[0;32m-> 1019\u001b[0;31m             \u001b[0;32mreturn\u001b[0m \u001b[0mself\u001b[0m\u001b[0;34m.\u001b[0m\u001b[0m_cython_agg_general\u001b[0m\u001b[0;34m(\u001b[0m\u001b[0;34m'mean'\u001b[0m\u001b[0;34m)\u001b[0m\u001b[0;34m\u001b[0m\u001b[0m",
      "\u001b[0m\u001b[1;32m   1020\u001b[0m         \u001b[0;32mexcept\u001b[0m \u001b[0mGroupByError\u001b[0m\u001b[0;34m:\u001b[0m\u001b[0;34m\u001b[0m\u001b[0m",
      "\u001b[1;32m   1021\u001b[0m             \u001b[0;32mraise\u001b[0m\u001b[0;34m\u001b[0m\u001b[0m",
      "\u001b[0;32m/usr/local/anaconda2/lib/python2.7/site-packages/pandas/core/groupby.pyc\u001b[0m in \u001b[0;36m_cython_agg_general\u001b[0;34m(self, how, numeric_only)\u001b[0m",
      "\u001b[1;32m    806\u001b[0m \u001b[0;34m\u001b[0m\u001b[0m",
      "\u001b[1;32m    807\u001b[0m         \u001b[0;32mif\u001b[0m \u001b[0mlen\u001b[0m\u001b[0;34m(\u001b[0m\u001b[0moutput\u001b[0m\u001b[0;34m)\u001b[0m \u001b[0;34m==\u001b[0m \u001b[0;36m0\u001b[0m\u001b[0;34m:\u001b[0m\u001b[0;34m\u001b[0m\u001b[0m",
      "\u001b[0;32m--> 808\u001b[0;31m             \u001b[0;32mraise\u001b[0m \u001b[0mDataError\u001b[0m\u001b[0;34m(\u001b[0m\u001b[0;34m'No numeric types to aggregate'\u001b[0m\u001b[0;34m)\u001b[0m\u001b[0;34m\u001b[0m\u001b[0m",
      "\u001b[0m\u001b[1;32m    809\u001b[0m \u001b[0;34m\u001b[0m\u001b[0m",
      "\u001b[1;32m    810\u001b[0m         \u001b[0;32mreturn\u001b[0m \u001b[0mself\u001b[0m\u001b[0;34m.\u001b[0m\u001b[0m_wrap_aggregated_output\u001b[0m\u001b[0;34m(\u001b[0m\u001b[0moutput\u001b[0m\u001b[0;34m,\u001b[0m \u001b[0mnames\u001b[0m\u001b[0;34m)\u001b[0m\u001b[0;34m\u001b[0m\u001b[0m",
      "\u001b[0;31mDataError\u001b[0m: No numeric types to aggregate",
      "",
      "[15:apply]: ",
      "\u001b[0;31m\u001b[0m\u001b[0;31mDataError\u001b[0mTraceback (most recent call last)\u001b[0;32m<string>\u001b[0m in \u001b[0;36m<module>\u001b[0;34m()\u001b[0m",
      "\u001b[0;32m<ipython-input-12-0256282f31ce>\u001b[0m in \u001b[0;36m<lambda>\u001b[0;34m((tox_i, dt_i, np_i, nn_i, rs_i))\u001b[0m",
      "\u001b[0;32m/share/home/ishah/ipynb/pb/OrganTox/lib/organtox.pyc\u001b[0m in \u001b[0;36mrunStudyToxML\u001b[0;34m(y_out, dt, n_pos, n_neg, r_seed, col_tox, tox_pos_ds, tox_neg_ds, n_ss2, n_ds_min, n_ds_max, n_ds_step, ss_iters, cv_iters, cv_nfolds, Col_ds, Col_lr, MDB)\u001b[0m",
      "\u001b[1;32m    242\u001b[0m                    \u001b[0mdt_out\u001b[0m\u001b[0;34m=\u001b[0m\u001b[0;34m'tox'\u001b[0m\u001b[0;34m,\u001b[0m\u001b[0mdt_in\u001b[0m\u001b[0;34m=\u001b[0m\u001b[0mdt\u001b[0m\u001b[0;34m,\u001b[0m\u001b[0mn_ds\u001b[0m\u001b[0;34m=\u001b[0m\u001b[0mi_ds\u001b[0m\u001b[0;34m,\u001b[0m\u001b[0;34m\u001b[0m\u001b[0m",
      "\u001b[1;32m    243\u001b[0m                    \u001b[0mcv_iters\u001b[0m\u001b[0;34m=\u001b[0m\u001b[0mcv_iters\u001b[0m\u001b[0;34m,\u001b[0m\u001b[0mcv_nfolds\u001b[0m\u001b[0;34m=\u001b[0m\u001b[0mcv_nfolds\u001b[0m\u001b[0;34m,\u001b[0m\u001b[0;34m\u001b[0m\u001b[0m",
      "\u001b[0;32m--> 244\u001b[0;31m                    Col_ds=Col_ds,Col_lr=Col_lr)",
      "\u001b[0m\u001b[1;32m    245\u001b[0m \u001b[0;34m\u001b[0m\u001b[0m",
      "\u001b[1;32m    246\u001b[0m     \u001b[0;32mreturn\u001b[0m \u001b[0mTrue\u001b[0m\u001b[0;34m\u001b[0m\u001b[0m",
      "\u001b[0;32m/share/home/ishah/ipynb/pb/OrganTox/lib/organtox.pyc\u001b[0m in \u001b[0;36mrunML1\u001b[0;34m(Data_cv, y, dt_out, dt_in, n_ds, cv_nfolds, cv_iters, CLF, DS_top, save, Col_ds, Col_lr)\u001b[0m",
      "\u001b[1;32m    288\u001b[0m         \u001b[0mPerf\u001b[0m \u001b[0;34m+=\u001b[0m \u001b[0mP\u001b[0m\u001b[0;34m\u001b[0m\u001b[0m",
      "\u001b[1;32m    289\u001b[0m \u001b[0;34m\u001b[0m\u001b[0m",
      "\u001b[0;32m--> 290\u001b[0;31m     \u001b[0mP1\u001b[0m \u001b[0;34m=\u001b[0m\u001b[0msummarizePerf\u001b[0m\u001b[0;34m(\u001b[0m\u001b[0mPerf\u001b[0m\u001b[0;34m)\u001b[0m\u001b[0;34m\u001b[0m\u001b[0m",
      "\u001b[0m\u001b[1;32m    291\u001b[0m     \u001b[0mP1\u001b[0m\u001b[0;34m[\u001b[0m\u001b[0;34m'n_iter'\u001b[0m\u001b[0;34m]\u001b[0m\u001b[0;34m=\u001b[0m\u001b[0mcv_iters\u001b[0m\u001b[0;34m\u001b[0m\u001b[0m",
      "\u001b[1;32m    292\u001b[0m     \u001b[0mP1a\u001b[0m \u001b[0;34m=\u001b[0m \u001b[0;34m{\u001b[0m\u001b[0mi\u001b[0m\u001b[0;34m[\u001b[0m\u001b[0;34m'lr'\u001b[0m\u001b[0;34m]\u001b[0m\u001b[0;34m:\u001b[0m\u001b[0mi\u001b[0m \u001b[0;32mfor\u001b[0m \u001b[0mi\u001b[0m \u001b[0;32min\u001b[0m \u001b[0mP1\u001b[0m\u001b[0;34m.\u001b[0m\u001b[0mto_dict\u001b[0m\u001b[0;34m(\u001b[0m\u001b[0;34m'records'\u001b[0m\u001b[0;34m)\u001b[0m\u001b[0;34m}\u001b[0m\u001b[0;34m\u001b[0m\u001b[0m",
      "\u001b[0;32m/share/home/ishah/ipynb/pb/OrganTox/lib/organtox.pyc\u001b[0m in \u001b[0;36msummarizePerf\u001b[0;34m(P)\u001b[0m",
      "\u001b[1;32m    388\u001b[0m                \u001b[0mn_test\u001b[0m \u001b[0;34m=\u001b[0m\u001b[0mdict\u001b[0m\u001b[0;34m(\u001b[0m\u001b[0mmn\u001b[0m\u001b[0;34m=\u001b[0m\u001b[0mnp\u001b[0m\u001b[0;34m.\u001b[0m\u001b[0mmedian\u001b[0m\u001b[0;34m)\u001b[0m\u001b[0;34m\u001b[0m\u001b[0m",
      "\u001b[1;32m    389\u001b[0m               )",
      "\u001b[0;32m--> 390\u001b[0;31m     \u001b[0mP1\u001b[0m\u001b[0;34m=\u001b[0m\u001b[0mP0\u001b[0m\u001b[0;34m.\u001b[0m\u001b[0mgroupby\u001b[0m\u001b[0;34m(\u001b[0m\u001b[0mby\u001b[0m\u001b[0;34m=\u001b[0m\u001b[0;34m[\u001b[0m\u001b[0;34m'lr'\u001b[0m\u001b[0;34m,\u001b[0m\u001b[0;34m'pt'\u001b[0m\u001b[0;34m,\u001b[0m\u001b[0;34m'cv_kfold'\u001b[0m\u001b[0;34m]\u001b[0m\u001b[0;34m)\u001b[0m\u001b[0;34m.\u001b[0m\u001b[0maggregate\u001b[0m\u001b[0;34m(\u001b[0m\u001b[0mAgg\u001b[0m\u001b[0;34m)\u001b[0m\u001b[0;34m\u001b[0m\u001b[0m",
      "\u001b[0m\u001b[1;32m    391\u001b[0m     \u001b[0mP2\u001b[0m\u001b[0;34m=\u001b[0m\u001b[0mP1\u001b[0m\u001b[0;34m.\u001b[0m\u001b[0mreset_index\u001b[0m\u001b[0;34m(\u001b[0m\u001b[0;34m)\u001b[0m\u001b[0;34m\u001b[0m\u001b[0m",
      "\u001b[1;32m    392\u001b[0m     \u001b[0mC\u001b[0m\u001b[0;34m=\u001b[0m\u001b[0;34m[\u001b[0m\u001b[0;34m'_'\u001b[0m\u001b[0;34m.\u001b[0m\u001b[0mjoin\u001b[0m\u001b[0;34m(\u001b[0m\u001b[0;34m[\u001b[0m\u001b[0mk\u001b[0m \u001b[0;32mfor\u001b[0m \u001b[0mk\u001b[0m \u001b[0;32min\u001b[0m \u001b[0mi\u001b[0m \u001b[0;32mif\u001b[0m \u001b[0mk\u001b[0m\u001b[0;34m]\u001b[0m\u001b[0;34m)\u001b[0m \u001b[0;32mfor\u001b[0m \u001b[0mi\u001b[0m \u001b[0;32min\u001b[0m \u001b[0mP2\u001b[0m\u001b[0;34m.\u001b[0m\u001b[0mcolumns\u001b[0m\u001b[0;34m]\u001b[0m\u001b[0;34m\u001b[0m\u001b[0m",
      "\u001b[0;32m/usr/local/anaconda2/lib/python2.7/site-packages/pandas/core/groupby.pyc\u001b[0m in \u001b[0;36maggregate\u001b[0;34m(self, arg, *args, **kwargs)\u001b[0m",
      "\u001b[1;32m   3702\u001b[0m     \u001b[0;34m@\u001b[0m\u001b[0mAppender\u001b[0m\u001b[0;34m(\u001b[0m\u001b[0mSelectionMixin\u001b[0m\u001b[0;34m.\u001b[0m\u001b[0m_agg_doc\u001b[0m\u001b[0;34m)\u001b[0m\u001b[0;34m\u001b[0m\u001b[0m",
      "\u001b[1;32m   3703\u001b[0m     \u001b[0;32mdef\u001b[0m \u001b[0maggregate\u001b[0m\u001b[0;34m(\u001b[0m\u001b[0mself\u001b[0m\u001b[0;34m,\u001b[0m \u001b[0marg\u001b[0m\u001b[0;34m,\u001b[0m \u001b[0;34m*\u001b[0m\u001b[0margs\u001b[0m\u001b[0;34m,\u001b[0m \u001b[0;34m**\u001b[0m\u001b[0mkwargs\u001b[0m\u001b[0;34m)\u001b[0m\u001b[0;34m:\u001b[0m\u001b[0;34m\u001b[0m\u001b[0m",
      "\u001b[0;32m-> 3704\u001b[0;31m         \u001b[0;32mreturn\u001b[0m \u001b[0msuper\u001b[0m\u001b[0;34m(\u001b[0m\u001b[0mDataFrameGroupBy\u001b[0m\u001b[0;34m,\u001b[0m \u001b[0mself\u001b[0m\u001b[0;34m)\u001b[0m\u001b[0;34m.\u001b[0m\u001b[0maggregate\u001b[0m\u001b[0;34m(\u001b[0m\u001b[0marg\u001b[0m\u001b[0;34m,\u001b[0m \u001b[0;34m*\u001b[0m\u001b[0margs\u001b[0m\u001b[0;34m,\u001b[0m \u001b[0;34m**\u001b[0m\u001b[0mkwargs\u001b[0m\u001b[0;34m)\u001b[0m\u001b[0;34m\u001b[0m\u001b[0m",
      "\u001b[0m\u001b[1;32m   3705\u001b[0m \u001b[0;34m\u001b[0m\u001b[0m",
      "\u001b[1;32m   3706\u001b[0m     \u001b[0magg\u001b[0m \u001b[0;34m=\u001b[0m \u001b[0maggregate\u001b[0m\u001b[0;34m\u001b[0m\u001b[0m",
      "\u001b[0;32m/usr/local/anaconda2/lib/python2.7/site-packages/pandas/core/groupby.pyc\u001b[0m in \u001b[0;36maggregate\u001b[0;34m(self, arg, *args, **kwargs)\u001b[0m",
      "\u001b[1;32m   3191\u001b[0m \u001b[0;34m\u001b[0m\u001b[0m",
      "\u001b[1;32m   3192\u001b[0m         \u001b[0m_level\u001b[0m \u001b[0;34m=\u001b[0m \u001b[0mkwargs\u001b[0m\u001b[0;34m.\u001b[0m\u001b[0mpop\u001b[0m\u001b[0;34m(\u001b[0m\u001b[0;34m'_level'\u001b[0m\u001b[0;34m,\u001b[0m \u001b[0mNone\u001b[0m\u001b[0;34m)\u001b[0m\u001b[0;34m\u001b[0m\u001b[0m",
      "\u001b[0;32m-> 3193\u001b[0;31m         \u001b[0mresult\u001b[0m\u001b[0;34m,\u001b[0m \u001b[0mhow\u001b[0m \u001b[0;34m=\u001b[0m \u001b[0mself\u001b[0m\u001b[0;34m.\u001b[0m\u001b[0m_aggregate\u001b[0m\u001b[0;34m(\u001b[0m\u001b[0marg\u001b[0m\u001b[0;34m,\u001b[0m \u001b[0m_level\u001b[0m\u001b[0;34m=\u001b[0m\u001b[0m_level\u001b[0m\u001b[0;34m,\u001b[0m \u001b[0;34m*\u001b[0m\u001b[0margs\u001b[0m\u001b[0;34m,\u001b[0m \u001b[0;34m**\u001b[0m\u001b[0mkwargs\u001b[0m\u001b[0;34m)\u001b[0m\u001b[0;34m\u001b[0m\u001b[0m",
      "\u001b[0m\u001b[1;32m   3194\u001b[0m         \u001b[0;32mif\u001b[0m \u001b[0mhow\u001b[0m \u001b[0;32mis\u001b[0m \u001b[0mNone\u001b[0m\u001b[0;34m:\u001b[0m\u001b[0;34m\u001b[0m\u001b[0m",
      "\u001b[1;32m   3195\u001b[0m             \u001b[0;32mreturn\u001b[0m \u001b[0mresult\u001b[0m\u001b[0;34m\u001b[0m\u001b[0m",
      "\u001b[0;32m/usr/local/anaconda2/lib/python2.7/site-packages/pandas/core/base.pyc\u001b[0m in \u001b[0;36m_aggregate\u001b[0;34m(self, arg, *args, **kwargs)\u001b[0m",
      "\u001b[1;32m    507\u001b[0m             \u001b[0;31m# nested renamer\u001b[0m\u001b[0;34m\u001b[0m\u001b[0;34m\u001b[0m\u001b[0m",
      "\u001b[1;32m    508\u001b[0m             \u001b[0;32mif\u001b[0m \u001b[0mis_nested_renamer\u001b[0m\u001b[0;34m:\u001b[0m\u001b[0;34m\u001b[0m\u001b[0m",
      "\u001b[0;32m--> 509\u001b[0;31m                 \u001b[0mresult\u001b[0m \u001b[0;34m=\u001b[0m \u001b[0mlist\u001b[0m\u001b[0;34m(\u001b[0m\u001b[0m_agg\u001b[0m\u001b[0;34m(\u001b[0m\u001b[0marg\u001b[0m\u001b[0;34m,\u001b[0m \u001b[0m_agg_1dim\u001b[0m\u001b[0;34m)\u001b[0m\u001b[0;34m.\u001b[0m\u001b[0mvalues\u001b[0m\u001b[0;34m(\u001b[0m\u001b[0;34m)\u001b[0m\u001b[0;34m)\u001b[0m\u001b[0;34m\u001b[0m\u001b[0m",
      "\u001b[0m\u001b[1;32m    510\u001b[0m \u001b[0;34m\u001b[0m\u001b[0m",
      "\u001b[1;32m    511\u001b[0m                 \u001b[0;32mif\u001b[0m \u001b[0mall\u001b[0m\u001b[0;34m(\u001b[0m\u001b[0misinstance\u001b[0m\u001b[0;34m(\u001b[0m\u001b[0mr\u001b[0m\u001b[0;34m,\u001b[0m \u001b[0mdict\u001b[0m\u001b[0;34m)\u001b[0m \u001b[0;32mfor\u001b[0m \u001b[0mr\u001b[0m \u001b[0;32min\u001b[0m \u001b[0mresult\u001b[0m\u001b[0;34m)\u001b[0m\u001b[0;34m:\u001b[0m\u001b[0;34m\u001b[0m\u001b[0m",
      "\u001b[0;32m/usr/local/anaconda2/lib/python2.7/site-packages/pandas/core/base.pyc\u001b[0m in \u001b[0;36m_agg\u001b[0;34m(arg, func)\u001b[0m",
      "\u001b[1;32m    498\u001b[0m                 \u001b[0mresult\u001b[0m \u001b[0;34m=\u001b[0m \u001b[0mcompat\u001b[0m\u001b[0;34m.\u001b[0m\u001b[0mOrderedDict\u001b[0m\u001b[0;34m(\u001b[0m\u001b[0;34m)\u001b[0m\u001b[0;34m\u001b[0m\u001b[0m",
      "\u001b[1;32m    499\u001b[0m                 \u001b[0;32mfor\u001b[0m \u001b[0mfname\u001b[0m\u001b[0;34m,\u001b[0m \u001b[0magg_how\u001b[0m \u001b[0;32min\u001b[0m \u001b[0mcompat\u001b[0m\u001b[0;34m.\u001b[0m\u001b[0miteritems\u001b[0m\u001b[0;34m(\u001b[0m\u001b[0marg\u001b[0m\u001b[0;34m)\u001b[0m\u001b[0;34m:\u001b[0m\u001b[0;34m\u001b[0m\u001b[0m",
      "\u001b[0;32m--> 500\u001b[0;31m                     \u001b[0mresult\u001b[0m\u001b[0;34m[\u001b[0m\u001b[0mfname\u001b[0m\u001b[0;34m]\u001b[0m \u001b[0;34m=\u001b[0m \u001b[0mfunc\u001b[0m\u001b[0;34m(\u001b[0m\u001b[0mfname\u001b[0m\u001b[0;34m,\u001b[0m \u001b[0magg_how\u001b[0m\u001b[0;34m)\u001b[0m\u001b[0;34m\u001b[0m\u001b[0m",
      "\u001b[0m\u001b[1;32m    501\u001b[0m                 \u001b[0;32mreturn\u001b[0m \u001b[0mresult\u001b[0m\u001b[0;34m\u001b[0m\u001b[0m",
      "\u001b[1;32m    502\u001b[0m \u001b[0;34m\u001b[0m\u001b[0m",
      "\u001b[0;32m/usr/local/anaconda2/lib/python2.7/site-packages/pandas/core/base.pyc\u001b[0m in \u001b[0;36m_agg_1dim\u001b[0;34m(name, how, subset)\u001b[0m",
      "\u001b[1;32m    481\u001b[0m                     raise SpecificationError(\"nested dictionary is ambiguous \"",
      "\u001b[1;32m    482\u001b[0m                                              \"in aggregation\")",
      "\u001b[0;32m--> 483\u001b[0;31m                 \u001b[0;32mreturn\u001b[0m \u001b[0mcolg\u001b[0m\u001b[0;34m.\u001b[0m\u001b[0maggregate\u001b[0m\u001b[0;34m(\u001b[0m\u001b[0mhow\u001b[0m\u001b[0;34m,\u001b[0m \u001b[0m_level\u001b[0m\u001b[0;34m=\u001b[0m\u001b[0;34m(\u001b[0m\u001b[0m_level\u001b[0m \u001b[0;32mor\u001b[0m \u001b[0;36m0\u001b[0m\u001b[0;34m)\u001b[0m \u001b[0;34m+\u001b[0m \u001b[0;36m1\u001b[0m\u001b[0;34m)\u001b[0m\u001b[0;34m\u001b[0m\u001b[0m",
      "\u001b[0m\u001b[1;32m    484\u001b[0m \u001b[0;34m\u001b[0m\u001b[0m",
      "\u001b[1;32m    485\u001b[0m             \u001b[0;32mdef\u001b[0m \u001b[0m_agg_2dim\u001b[0m\u001b[0;34m(\u001b[0m\u001b[0mname\u001b[0m\u001b[0;34m,\u001b[0m \u001b[0mhow\u001b[0m\u001b[0;34m)\u001b[0m\u001b[0;34m:\u001b[0m\u001b[0;34m\u001b[0m\u001b[0m",
      "\u001b[0;32m/usr/local/anaconda2/lib/python2.7/site-packages/pandas/core/groupby.pyc\u001b[0m in \u001b[0;36maggregate\u001b[0;34m(self, func_or_funcs, *args, **kwargs)\u001b[0m",
      "\u001b[1;32m   2654\u001b[0m         \u001b[0;32mif\u001b[0m \u001b[0mhasattr\u001b[0m\u001b[0;34m(\u001b[0m\u001b[0mfunc_or_funcs\u001b[0m\u001b[0;34m,\u001b[0m \u001b[0;34m'__iter__'\u001b[0m\u001b[0;34m)\u001b[0m\u001b[0;34m:\u001b[0m\u001b[0;34m\u001b[0m\u001b[0m",
      "\u001b[1;32m   2655\u001b[0m             ret = self._aggregate_multiple_funcs(func_or_funcs,",
      "\u001b[0;32m-> 2656\u001b[0;31m                                                  (_level or 0) + 1)",
      "\u001b[0m\u001b[1;32m   2657\u001b[0m         \u001b[0;32melse\u001b[0m\u001b[0;34m:\u001b[0m\u001b[0;34m\u001b[0m\u001b[0m",
      "\u001b[1;32m   2658\u001b[0m             \u001b[0mcyfunc\u001b[0m \u001b[0;34m=\u001b[0m \u001b[0mself\u001b[0m\u001b[0;34m.\u001b[0m\u001b[0m_is_cython_func\u001b[0m\u001b[0;34m(\u001b[0m\u001b[0mfunc_or_funcs\u001b[0m\u001b[0;34m)\u001b[0m\u001b[0;34m\u001b[0m\u001b[0m",
      "\u001b[0;32m/usr/local/anaconda2/lib/python2.7/site-packages/pandas/core/groupby.pyc\u001b[0m in \u001b[0;36m_aggregate_multiple_funcs\u001b[0;34m(self, arg, _level)\u001b[0m",
      "\u001b[1;32m   2716\u001b[0m                 \u001b[0mobj\u001b[0m\u001b[0;34m.\u001b[0m\u001b[0m_reset_cache\u001b[0m\u001b[0;34m(\u001b[0m\u001b[0;34m)\u001b[0m\u001b[0;34m\u001b[0m\u001b[0m",
      "\u001b[1;32m   2717\u001b[0m                 \u001b[0mobj\u001b[0m\u001b[0;34m.\u001b[0m\u001b[0m_selection\u001b[0m \u001b[0;34m=\u001b[0m \u001b[0mname\u001b[0m\u001b[0;34m\u001b[0m\u001b[0m",
      "\u001b[0;32m-> 2718\u001b[0;31m             \u001b[0mresults\u001b[0m\u001b[0;34m[\u001b[0m\u001b[0mname\u001b[0m\u001b[0;34m]\u001b[0m \u001b[0;34m=\u001b[0m \u001b[0mobj\u001b[0m\u001b[0;34m.\u001b[0m\u001b[0maggregate\u001b[0m\u001b[0;34m(\u001b[0m\u001b[0mfunc\u001b[0m\u001b[0;34m)\u001b[0m\u001b[0;34m\u001b[0m\u001b[0m",
      "\u001b[0m\u001b[1;32m   2719\u001b[0m \u001b[0;34m\u001b[0m\u001b[0m",
      "\u001b[1;32m   2720\u001b[0m         if isinstance(list(compat.itervalues(results))[0],",
      "\u001b[0;32m/usr/local/anaconda2/lib/python2.7/site-packages/pandas/core/groupby.pyc\u001b[0m in \u001b[0;36maggregate\u001b[0;34m(self, func_or_funcs, *args, **kwargs)\u001b[0m",
      "\u001b[1;32m   2658\u001b[0m             \u001b[0mcyfunc\u001b[0m \u001b[0;34m=\u001b[0m \u001b[0mself\u001b[0m\u001b[0;34m.\u001b[0m\u001b[0m_is_cython_func\u001b[0m\u001b[0;34m(\u001b[0m\u001b[0mfunc_or_funcs\u001b[0m\u001b[0;34m)\u001b[0m\u001b[0;34m\u001b[0m\u001b[0m",
      "\u001b[1;32m   2659\u001b[0m             \u001b[0;32mif\u001b[0m \u001b[0mcyfunc\u001b[0m \u001b[0;32mand\u001b[0m \u001b[0;32mnot\u001b[0m \u001b[0margs\u001b[0m \u001b[0;32mand\u001b[0m \u001b[0;32mnot\u001b[0m \u001b[0mkwargs\u001b[0m\u001b[0;34m:\u001b[0m\u001b[0;34m\u001b[0m\u001b[0m",
      "\u001b[0;32m-> 2660\u001b[0;31m                 \u001b[0;32mreturn\u001b[0m \u001b[0mgetattr\u001b[0m\u001b[0;34m(\u001b[0m\u001b[0mself\u001b[0m\u001b[0;34m,\u001b[0m \u001b[0mcyfunc\u001b[0m\u001b[0;34m)\u001b[0m\u001b[0;34m(\u001b[0m\u001b[0;34m)\u001b[0m\u001b[0;34m\u001b[0m\u001b[0m",
      "\u001b[0m\u001b[1;32m   2661\u001b[0m \u001b[0;34m\u001b[0m\u001b[0m",
      "\u001b[1;32m   2662\u001b[0m             \u001b[0;32mif\u001b[0m \u001b[0mself\u001b[0m\u001b[0;34m.\u001b[0m\u001b[0mgrouper\u001b[0m\u001b[0;34m.\u001b[0m\u001b[0mnkeys\u001b[0m \u001b[0;34m>\u001b[0m \u001b[0;36m1\u001b[0m\u001b[0;34m:\u001b[0m\u001b[0;34m\u001b[0m\u001b[0m",
      "\u001b[0;32m/usr/local/anaconda2/lib/python2.7/site-packages/pandas/core/groupby.pyc\u001b[0m in \u001b[0;36mmean\u001b[0;34m(self, *args, **kwargs)\u001b[0m",
      "\u001b[1;32m   1017\u001b[0m         \u001b[0mnv\u001b[0m\u001b[0;34m.\u001b[0m\u001b[0mvalidate_groupby_func\u001b[0m\u001b[0;34m(\u001b[0m\u001b[0;34m'mean'\u001b[0m\u001b[0;34m,\u001b[0m \u001b[0margs\u001b[0m\u001b[0;34m,\u001b[0m \u001b[0mkwargs\u001b[0m\u001b[0;34m)\u001b[0m\u001b[0;34m\u001b[0m\u001b[0m",
      "\u001b[1;32m   1018\u001b[0m         \u001b[0;32mtry\u001b[0m\u001b[0;34m:\u001b[0m\u001b[0;34m\u001b[0m\u001b[0m",
      "\u001b[0;32m-> 1019\u001b[0;31m             \u001b[0;32mreturn\u001b[0m \u001b[0mself\u001b[0m\u001b[0;34m.\u001b[0m\u001b[0m_cython_agg_general\u001b[0m\u001b[0;34m(\u001b[0m\u001b[0;34m'mean'\u001b[0m\u001b[0;34m)\u001b[0m\u001b[0;34m\u001b[0m\u001b[0m",
      "\u001b[0m\u001b[1;32m   1020\u001b[0m         \u001b[0;32mexcept\u001b[0m \u001b[0mGroupByError\u001b[0m\u001b[0;34m:\u001b[0m\u001b[0;34m\u001b[0m\u001b[0m",
      "\u001b[1;32m   1021\u001b[0m             \u001b[0;32mraise\u001b[0m\u001b[0;34m\u001b[0m\u001b[0m",
      "\u001b[0;32m/usr/local/anaconda2/lib/python2.7/site-packages/pandas/core/groupby.pyc\u001b[0m in \u001b[0;36m_cython_agg_general\u001b[0;34m(self, how, numeric_only)\u001b[0m",
      "\u001b[1;32m    806\u001b[0m \u001b[0;34m\u001b[0m\u001b[0m",
      "\u001b[1;32m    807\u001b[0m         \u001b[0;32mif\u001b[0m \u001b[0mlen\u001b[0m\u001b[0;34m(\u001b[0m\u001b[0moutput\u001b[0m\u001b[0;34m)\u001b[0m \u001b[0;34m==\u001b[0m \u001b[0;36m0\u001b[0m\u001b[0;34m:\u001b[0m\u001b[0;34m\u001b[0m\u001b[0m",
      "\u001b[0;32m--> 808\u001b[0;31m             \u001b[0;32mraise\u001b[0m \u001b[0mDataError\u001b[0m\u001b[0;34m(\u001b[0m\u001b[0;34m'No numeric types to aggregate'\u001b[0m\u001b[0;34m)\u001b[0m\u001b[0;34m\u001b[0m\u001b[0m",
      "\u001b[0m\u001b[1;32m    809\u001b[0m \u001b[0;34m\u001b[0m\u001b[0m",
      "\u001b[1;32m    810\u001b[0m         \u001b[0;32mreturn\u001b[0m \u001b[0mself\u001b[0m\u001b[0;34m.\u001b[0m\u001b[0m_wrap_aggregated_output\u001b[0m\u001b[0;34m(\u001b[0m\u001b[0moutput\u001b[0m\u001b[0;34m,\u001b[0m \u001b[0mnames\u001b[0m\u001b[0;34m)\u001b[0m\u001b[0;34m\u001b[0m\u001b[0m",
      "\u001b[0;31mDataError\u001b[0m: No numeric types to aggregate",
      "",
      "[28:apply]: ",
      "\u001b[0;31m\u001b[0m\u001b[0;31mDataError\u001b[0mTraceback (most recent call last)\u001b[0;32m<string>\u001b[0m in \u001b[0;36m<module>\u001b[0;34m()\u001b[0m",
      "\u001b[0;32m<ipython-input-12-0256282f31ce>\u001b[0m in \u001b[0;36m<lambda>\u001b[0;34m((tox_i, dt_i, np_i, nn_i, rs_i))\u001b[0m",
      "\u001b[0;32m/share/home/ishah/ipynb/pb/OrganTox/lib/organtox.pyc\u001b[0m in \u001b[0;36mrunStudyToxML\u001b[0;34m(y_out, dt, n_pos, n_neg, r_seed, col_tox, tox_pos_ds, tox_neg_ds, n_ss2, n_ds_min, n_ds_max, n_ds_step, ss_iters, cv_iters, cv_nfolds, Col_ds, Col_lr, MDB)\u001b[0m",
      "\u001b[1;32m    242\u001b[0m                    \u001b[0mdt_out\u001b[0m\u001b[0;34m=\u001b[0m\u001b[0;34m'tox'\u001b[0m\u001b[0;34m,\u001b[0m\u001b[0mdt_in\u001b[0m\u001b[0;34m=\u001b[0m\u001b[0mdt\u001b[0m\u001b[0;34m,\u001b[0m\u001b[0mn_ds\u001b[0m\u001b[0;34m=\u001b[0m\u001b[0mi_ds\u001b[0m\u001b[0;34m,\u001b[0m\u001b[0;34m\u001b[0m\u001b[0m",
      "\u001b[1;32m    243\u001b[0m                    \u001b[0mcv_iters\u001b[0m\u001b[0;34m=\u001b[0m\u001b[0mcv_iters\u001b[0m\u001b[0;34m,\u001b[0m\u001b[0mcv_nfolds\u001b[0m\u001b[0;34m=\u001b[0m\u001b[0mcv_nfolds\u001b[0m\u001b[0;34m,\u001b[0m\u001b[0;34m\u001b[0m\u001b[0m",
      "\u001b[0;32m--> 244\u001b[0;31m                    Col_ds=Col_ds,Col_lr=Col_lr)",
      "\u001b[0m\u001b[1;32m    245\u001b[0m \u001b[0;34m\u001b[0m\u001b[0m",
      "\u001b[1;32m    246\u001b[0m     \u001b[0;32mreturn\u001b[0m \u001b[0mTrue\u001b[0m\u001b[0;34m\u001b[0m\u001b[0m",
      "\u001b[0;32m/share/home/ishah/ipynb/pb/OrganTox/lib/organtox.pyc\u001b[0m in \u001b[0;36mrunML1\u001b[0;34m(Data_cv, y, dt_out, dt_in, n_ds, cv_nfolds, cv_iters, CLF, DS_top, save, Col_ds, Col_lr)\u001b[0m",
      "\u001b[1;32m    288\u001b[0m         \u001b[0mPerf\u001b[0m \u001b[0;34m+=\u001b[0m \u001b[0mP\u001b[0m\u001b[0;34m\u001b[0m\u001b[0m",
      "\u001b[1;32m    289\u001b[0m \u001b[0;34m\u001b[0m\u001b[0m",
      "\u001b[0;32m--> 290\u001b[0;31m     \u001b[0mP1\u001b[0m \u001b[0;34m=\u001b[0m\u001b[0msummarizePerf\u001b[0m\u001b[0;34m(\u001b[0m\u001b[0mPerf\u001b[0m\u001b[0;34m)\u001b[0m\u001b[0;34m\u001b[0m\u001b[0m",
      "\u001b[0m\u001b[1;32m    291\u001b[0m     \u001b[0mP1\u001b[0m\u001b[0;34m[\u001b[0m\u001b[0;34m'n_iter'\u001b[0m\u001b[0;34m]\u001b[0m\u001b[0;34m=\u001b[0m\u001b[0mcv_iters\u001b[0m\u001b[0;34m\u001b[0m\u001b[0m",
      "\u001b[1;32m    292\u001b[0m     \u001b[0mP1a\u001b[0m \u001b[0;34m=\u001b[0m \u001b[0;34m{\u001b[0m\u001b[0mi\u001b[0m\u001b[0;34m[\u001b[0m\u001b[0;34m'lr'\u001b[0m\u001b[0;34m]\u001b[0m\u001b[0;34m:\u001b[0m\u001b[0mi\u001b[0m \u001b[0;32mfor\u001b[0m \u001b[0mi\u001b[0m \u001b[0;32min\u001b[0m \u001b[0mP1\u001b[0m\u001b[0;34m.\u001b[0m\u001b[0mto_dict\u001b[0m\u001b[0;34m(\u001b[0m\u001b[0;34m'records'\u001b[0m\u001b[0;34m)\u001b[0m\u001b[0;34m}\u001b[0m\u001b[0;34m\u001b[0m\u001b[0m",
      "\u001b[0;32m/share/home/ishah/ipynb/pb/OrganTox/lib/organtox.pyc\u001b[0m in \u001b[0;36msummarizePerf\u001b[0;34m(P)\u001b[0m",
      "\u001b[1;32m    388\u001b[0m                \u001b[0mn_test\u001b[0m \u001b[0;34m=\u001b[0m\u001b[0mdict\u001b[0m\u001b[0;34m(\u001b[0m\u001b[0mmn\u001b[0m\u001b[0;34m=\u001b[0m\u001b[0mnp\u001b[0m\u001b[0;34m.\u001b[0m\u001b[0mmedian\u001b[0m\u001b[0;34m)\u001b[0m\u001b[0;34m\u001b[0m\u001b[0m",
      "\u001b[1;32m    389\u001b[0m               )",
      "\u001b[0;32m--> 390\u001b[0;31m     \u001b[0mP1\u001b[0m\u001b[0;34m=\u001b[0m\u001b[0mP0\u001b[0m\u001b[0;34m.\u001b[0m\u001b[0mgroupby\u001b[0m\u001b[0;34m(\u001b[0m\u001b[0mby\u001b[0m\u001b[0;34m=\u001b[0m\u001b[0;34m[\u001b[0m\u001b[0;34m'lr'\u001b[0m\u001b[0;34m,\u001b[0m\u001b[0;34m'pt'\u001b[0m\u001b[0;34m,\u001b[0m\u001b[0;34m'cv_kfold'\u001b[0m\u001b[0;34m]\u001b[0m\u001b[0;34m)\u001b[0m\u001b[0;34m.\u001b[0m\u001b[0maggregate\u001b[0m\u001b[0;34m(\u001b[0m\u001b[0mAgg\u001b[0m\u001b[0;34m)\u001b[0m\u001b[0;34m\u001b[0m\u001b[0m",
      "\u001b[0m\u001b[1;32m    391\u001b[0m     \u001b[0mP2\u001b[0m\u001b[0;34m=\u001b[0m\u001b[0mP1\u001b[0m\u001b[0;34m.\u001b[0m\u001b[0mreset_index\u001b[0m\u001b[0;34m(\u001b[0m\u001b[0;34m)\u001b[0m\u001b[0;34m\u001b[0m\u001b[0m",
      "\u001b[1;32m    392\u001b[0m     \u001b[0mC\u001b[0m\u001b[0;34m=\u001b[0m\u001b[0;34m[\u001b[0m\u001b[0;34m'_'\u001b[0m\u001b[0;34m.\u001b[0m\u001b[0mjoin\u001b[0m\u001b[0;34m(\u001b[0m\u001b[0;34m[\u001b[0m\u001b[0mk\u001b[0m \u001b[0;32mfor\u001b[0m \u001b[0mk\u001b[0m \u001b[0;32min\u001b[0m \u001b[0mi\u001b[0m \u001b[0;32mif\u001b[0m \u001b[0mk\u001b[0m\u001b[0;34m]\u001b[0m\u001b[0;34m)\u001b[0m \u001b[0;32mfor\u001b[0m \u001b[0mi\u001b[0m \u001b[0;32min\u001b[0m \u001b[0mP2\u001b[0m\u001b[0;34m.\u001b[0m\u001b[0mcolumns\u001b[0m\u001b[0;34m]\u001b[0m\u001b[0;34m\u001b[0m\u001b[0m",
      "\u001b[0;32m/usr/local/anaconda2/lib/python2.7/site-packages/pandas/core/groupby.pyc\u001b[0m in \u001b[0;36maggregate\u001b[0;34m(self, arg, *args, **kwargs)\u001b[0m",
      "\u001b[1;32m   3702\u001b[0m     \u001b[0;34m@\u001b[0m\u001b[0mAppender\u001b[0m\u001b[0;34m(\u001b[0m\u001b[0mSelectionMixin\u001b[0m\u001b[0;34m.\u001b[0m\u001b[0m_agg_doc\u001b[0m\u001b[0;34m)\u001b[0m\u001b[0;34m\u001b[0m\u001b[0m",
      "\u001b[1;32m   3703\u001b[0m     \u001b[0;32mdef\u001b[0m \u001b[0maggregate\u001b[0m\u001b[0;34m(\u001b[0m\u001b[0mself\u001b[0m\u001b[0;34m,\u001b[0m \u001b[0marg\u001b[0m\u001b[0;34m,\u001b[0m \u001b[0;34m*\u001b[0m\u001b[0margs\u001b[0m\u001b[0;34m,\u001b[0m \u001b[0;34m**\u001b[0m\u001b[0mkwargs\u001b[0m\u001b[0;34m)\u001b[0m\u001b[0;34m:\u001b[0m\u001b[0;34m\u001b[0m\u001b[0m",
      "\u001b[0;32m-> 3704\u001b[0;31m         \u001b[0;32mreturn\u001b[0m \u001b[0msuper\u001b[0m\u001b[0;34m(\u001b[0m\u001b[0mDataFrameGroupBy\u001b[0m\u001b[0;34m,\u001b[0m \u001b[0mself\u001b[0m\u001b[0;34m)\u001b[0m\u001b[0;34m.\u001b[0m\u001b[0maggregate\u001b[0m\u001b[0;34m(\u001b[0m\u001b[0marg\u001b[0m\u001b[0;34m,\u001b[0m \u001b[0;34m*\u001b[0m\u001b[0margs\u001b[0m\u001b[0;34m,\u001b[0m \u001b[0;34m**\u001b[0m\u001b[0mkwargs\u001b[0m\u001b[0;34m)\u001b[0m\u001b[0;34m\u001b[0m\u001b[0m",
      "\u001b[0m\u001b[1;32m   3705\u001b[0m \u001b[0;34m\u001b[0m\u001b[0m",
      "\u001b[1;32m   3706\u001b[0m     \u001b[0magg\u001b[0m \u001b[0;34m=\u001b[0m \u001b[0maggregate\u001b[0m\u001b[0;34m\u001b[0m\u001b[0m",
      "\u001b[0;32m/usr/local/anaconda2/lib/python2.7/site-packages/pandas/core/groupby.pyc\u001b[0m in \u001b[0;36maggregate\u001b[0;34m(self, arg, *args, **kwargs)\u001b[0m",
      "\u001b[1;32m   3191\u001b[0m \u001b[0;34m\u001b[0m\u001b[0m",
      "\u001b[1;32m   3192\u001b[0m         \u001b[0m_level\u001b[0m \u001b[0;34m=\u001b[0m \u001b[0mkwargs\u001b[0m\u001b[0;34m.\u001b[0m\u001b[0mpop\u001b[0m\u001b[0;34m(\u001b[0m\u001b[0;34m'_level'\u001b[0m\u001b[0;34m,\u001b[0m \u001b[0mNone\u001b[0m\u001b[0;34m)\u001b[0m\u001b[0;34m\u001b[0m\u001b[0m",
      "\u001b[0;32m-> 3193\u001b[0;31m         \u001b[0mresult\u001b[0m\u001b[0;34m,\u001b[0m \u001b[0mhow\u001b[0m \u001b[0;34m=\u001b[0m \u001b[0mself\u001b[0m\u001b[0;34m.\u001b[0m\u001b[0m_aggregate\u001b[0m\u001b[0;34m(\u001b[0m\u001b[0marg\u001b[0m\u001b[0;34m,\u001b[0m \u001b[0m_level\u001b[0m\u001b[0;34m=\u001b[0m\u001b[0m_level\u001b[0m\u001b[0;34m,\u001b[0m \u001b[0;34m*\u001b[0m\u001b[0margs\u001b[0m\u001b[0;34m,\u001b[0m \u001b[0;34m**\u001b[0m\u001b[0mkwargs\u001b[0m\u001b[0;34m)\u001b[0m\u001b[0;34m\u001b[0m\u001b[0m",
      "\u001b[0m\u001b[1;32m   3194\u001b[0m         \u001b[0;32mif\u001b[0m \u001b[0mhow\u001b[0m \u001b[0;32mis\u001b[0m \u001b[0mNone\u001b[0m\u001b[0;34m:\u001b[0m\u001b[0;34m\u001b[0m\u001b[0m",
      "\u001b[1;32m   3195\u001b[0m             \u001b[0;32mreturn\u001b[0m \u001b[0mresult\u001b[0m\u001b[0;34m\u001b[0m\u001b[0m",
      "\u001b[0;32m/usr/local/anaconda2/lib/python2.7/site-packages/pandas/core/base.pyc\u001b[0m in \u001b[0;36m_aggregate\u001b[0;34m(self, arg, *args, **kwargs)\u001b[0m",
      "\u001b[1;32m    507\u001b[0m             \u001b[0;31m# nested renamer\u001b[0m\u001b[0;34m\u001b[0m\u001b[0;34m\u001b[0m\u001b[0m",
      "\u001b[1;32m    508\u001b[0m             \u001b[0;32mif\u001b[0m \u001b[0mis_nested_renamer\u001b[0m\u001b[0;34m:\u001b[0m\u001b[0;34m\u001b[0m\u001b[0m",
      "\u001b[0;32m--> 509\u001b[0;31m                 \u001b[0mresult\u001b[0m \u001b[0;34m=\u001b[0m \u001b[0mlist\u001b[0m\u001b[0;34m(\u001b[0m\u001b[0m_agg\u001b[0m\u001b[0;34m(\u001b[0m\u001b[0marg\u001b[0m\u001b[0;34m,\u001b[0m \u001b[0m_agg_1dim\u001b[0m\u001b[0;34m)\u001b[0m\u001b[0;34m.\u001b[0m\u001b[0mvalues\u001b[0m\u001b[0;34m(\u001b[0m\u001b[0;34m)\u001b[0m\u001b[0;34m)\u001b[0m\u001b[0;34m\u001b[0m\u001b[0m",
      "\u001b[0m\u001b[1;32m    510\u001b[0m \u001b[0;34m\u001b[0m\u001b[0m",
      "\u001b[1;32m    511\u001b[0m                 \u001b[0;32mif\u001b[0m \u001b[0mall\u001b[0m\u001b[0;34m(\u001b[0m\u001b[0misinstance\u001b[0m\u001b[0;34m(\u001b[0m\u001b[0mr\u001b[0m\u001b[0;34m,\u001b[0m \u001b[0mdict\u001b[0m\u001b[0;34m)\u001b[0m \u001b[0;32mfor\u001b[0m \u001b[0mr\u001b[0m \u001b[0;32min\u001b[0m \u001b[0mresult\u001b[0m\u001b[0;34m)\u001b[0m\u001b[0;34m:\u001b[0m\u001b[0;34m\u001b[0m\u001b[0m",
      "\u001b[0;32m/usr/local/anaconda2/lib/python2.7/site-packages/pandas/core/base.pyc\u001b[0m in \u001b[0;36m_agg\u001b[0;34m(arg, func)\u001b[0m",
      "\u001b[1;32m    498\u001b[0m                 \u001b[0mresult\u001b[0m \u001b[0;34m=\u001b[0m \u001b[0mcompat\u001b[0m\u001b[0;34m.\u001b[0m\u001b[0mOrderedDict\u001b[0m\u001b[0;34m(\u001b[0m\u001b[0;34m)\u001b[0m\u001b[0;34m\u001b[0m\u001b[0m",
      "\u001b[1;32m    499\u001b[0m                 \u001b[0;32mfor\u001b[0m \u001b[0mfname\u001b[0m\u001b[0;34m,\u001b[0m \u001b[0magg_how\u001b[0m \u001b[0;32min\u001b[0m \u001b[0mcompat\u001b[0m\u001b[0;34m.\u001b[0m\u001b[0miteritems\u001b[0m\u001b[0;34m(\u001b[0m\u001b[0marg\u001b[0m\u001b[0;34m)\u001b[0m\u001b[0;34m:\u001b[0m\u001b[0;34m\u001b[0m\u001b[0m",
      "\u001b[0;32m--> 500\u001b[0;31m                     \u001b[0mresult\u001b[0m\u001b[0;34m[\u001b[0m\u001b[0mfname\u001b[0m\u001b[0;34m]\u001b[0m \u001b[0;34m=\u001b[0m \u001b[0mfunc\u001b[0m\u001b[0;34m(\u001b[0m\u001b[0mfname\u001b[0m\u001b[0;34m,\u001b[0m \u001b[0magg_how\u001b[0m\u001b[0;34m)\u001b[0m\u001b[0;34m\u001b[0m\u001b[0m",
      "\u001b[0m\u001b[1;32m    501\u001b[0m                 \u001b[0;32mreturn\u001b[0m \u001b[0mresult\u001b[0m\u001b[0;34m\u001b[0m\u001b[0m",
      "\u001b[1;32m    502\u001b[0m \u001b[0;34m\u001b[0m\u001b[0m",
      "\u001b[0;32m/usr/local/anaconda2/lib/python2.7/site-packages/pandas/core/base.pyc\u001b[0m in \u001b[0;36m_agg_1dim\u001b[0;34m(name, how, subset)\u001b[0m",
      "\u001b[1;32m    481\u001b[0m                     raise SpecificationError(\"nested dictionary is ambiguous \"",
      "\u001b[1;32m    482\u001b[0m                                              \"in aggregation\")",
      "\u001b[0;32m--> 483\u001b[0;31m                 \u001b[0;32mreturn\u001b[0m \u001b[0mcolg\u001b[0m\u001b[0;34m.\u001b[0m\u001b[0maggregate\u001b[0m\u001b[0;34m(\u001b[0m\u001b[0mhow\u001b[0m\u001b[0;34m,\u001b[0m \u001b[0m_level\u001b[0m\u001b[0;34m=\u001b[0m\u001b[0;34m(\u001b[0m\u001b[0m_level\u001b[0m \u001b[0;32mor\u001b[0m \u001b[0;36m0\u001b[0m\u001b[0;34m)\u001b[0m \u001b[0;34m+\u001b[0m \u001b[0;36m1\u001b[0m\u001b[0;34m)\u001b[0m\u001b[0;34m\u001b[0m\u001b[0m",
      "\u001b[0m\u001b[1;32m    484\u001b[0m \u001b[0;34m\u001b[0m\u001b[0m",
      "\u001b[1;32m    485\u001b[0m             \u001b[0;32mdef\u001b[0m \u001b[0m_agg_2dim\u001b[0m\u001b[0;34m(\u001b[0m\u001b[0mname\u001b[0m\u001b[0;34m,\u001b[0m \u001b[0mhow\u001b[0m\u001b[0;34m)\u001b[0m\u001b[0;34m:\u001b[0m\u001b[0;34m\u001b[0m\u001b[0m",
      "\u001b[0;32m/usr/local/anaconda2/lib/python2.7/site-packages/pandas/core/groupby.pyc\u001b[0m in \u001b[0;36maggregate\u001b[0;34m(self, func_or_funcs, *args, **kwargs)\u001b[0m",
      "\u001b[1;32m   2654\u001b[0m         \u001b[0;32mif\u001b[0m \u001b[0mhasattr\u001b[0m\u001b[0;34m(\u001b[0m\u001b[0mfunc_or_funcs\u001b[0m\u001b[0;34m,\u001b[0m \u001b[0;34m'__iter__'\u001b[0m\u001b[0;34m)\u001b[0m\u001b[0;34m:\u001b[0m\u001b[0;34m\u001b[0m\u001b[0m",
      "\u001b[1;32m   2655\u001b[0m             ret = self._aggregate_multiple_funcs(func_or_funcs,",
      "\u001b[0;32m-> 2656\u001b[0;31m                                                  (_level or 0) + 1)",
      "\u001b[0m\u001b[1;32m   2657\u001b[0m         \u001b[0;32melse\u001b[0m\u001b[0;34m:\u001b[0m\u001b[0;34m\u001b[0m\u001b[0m",
      "\u001b[1;32m   2658\u001b[0m             \u001b[0mcyfunc\u001b[0m \u001b[0;34m=\u001b[0m \u001b[0mself\u001b[0m\u001b[0;34m.\u001b[0m\u001b[0m_is_cython_func\u001b[0m\u001b[0;34m(\u001b[0m\u001b[0mfunc_or_funcs\u001b[0m\u001b[0;34m)\u001b[0m\u001b[0;34m\u001b[0m\u001b[0m",
      "\u001b[0;32m/usr/local/anaconda2/lib/python2.7/site-packages/pandas/core/groupby.pyc\u001b[0m in \u001b[0;36m_aggregate_multiple_funcs\u001b[0;34m(self, arg, _level)\u001b[0m",
      "\u001b[1;32m   2716\u001b[0m                 \u001b[0mobj\u001b[0m\u001b[0;34m.\u001b[0m\u001b[0m_reset_cache\u001b[0m\u001b[0;34m(\u001b[0m\u001b[0;34m)\u001b[0m\u001b[0;34m\u001b[0m\u001b[0m",
      "\u001b[1;32m   2717\u001b[0m                 \u001b[0mobj\u001b[0m\u001b[0;34m.\u001b[0m\u001b[0m_selection\u001b[0m \u001b[0;34m=\u001b[0m \u001b[0mname\u001b[0m\u001b[0;34m\u001b[0m\u001b[0m",
      "\u001b[0;32m-> 2718\u001b[0;31m             \u001b[0mresults\u001b[0m\u001b[0;34m[\u001b[0m\u001b[0mname\u001b[0m\u001b[0;34m]\u001b[0m \u001b[0;34m=\u001b[0m \u001b[0mobj\u001b[0m\u001b[0;34m.\u001b[0m\u001b[0maggregate\u001b[0m\u001b[0;34m(\u001b[0m\u001b[0mfunc\u001b[0m\u001b[0;34m)\u001b[0m\u001b[0;34m\u001b[0m\u001b[0m",
      "\u001b[0m\u001b[1;32m   2719\u001b[0m \u001b[0;34m\u001b[0m\u001b[0m",
      "\u001b[1;32m   2720\u001b[0m         if isinstance(list(compat.itervalues(results))[0],",
      "\u001b[0;32m/usr/local/anaconda2/lib/python2.7/site-packages/pandas/core/groupby.pyc\u001b[0m in \u001b[0;36maggregate\u001b[0;34m(self, func_or_funcs, *args, **kwargs)\u001b[0m",
      "\u001b[1;32m   2658\u001b[0m             \u001b[0mcyfunc\u001b[0m \u001b[0;34m=\u001b[0m \u001b[0mself\u001b[0m\u001b[0;34m.\u001b[0m\u001b[0m_is_cython_func\u001b[0m\u001b[0;34m(\u001b[0m\u001b[0mfunc_or_funcs\u001b[0m\u001b[0;34m)\u001b[0m\u001b[0;34m\u001b[0m\u001b[0m",
      "\u001b[1;32m   2659\u001b[0m             \u001b[0;32mif\u001b[0m \u001b[0mcyfunc\u001b[0m \u001b[0;32mand\u001b[0m \u001b[0;32mnot\u001b[0m \u001b[0margs\u001b[0m \u001b[0;32mand\u001b[0m \u001b[0;32mnot\u001b[0m \u001b[0mkwargs\u001b[0m\u001b[0;34m:\u001b[0m\u001b[0;34m\u001b[0m\u001b[0m",
      "\u001b[0;32m-> 2660\u001b[0;31m                 \u001b[0;32mreturn\u001b[0m \u001b[0mgetattr\u001b[0m\u001b[0;34m(\u001b[0m\u001b[0mself\u001b[0m\u001b[0;34m,\u001b[0m \u001b[0mcyfunc\u001b[0m\u001b[0;34m)\u001b[0m\u001b[0;34m(\u001b[0m\u001b[0;34m)\u001b[0m\u001b[0;34m\u001b[0m\u001b[0m",
      "\u001b[0m\u001b[1;32m   2661\u001b[0m \u001b[0;34m\u001b[0m\u001b[0m",
      "\u001b[1;32m   2662\u001b[0m             \u001b[0;32mif\u001b[0m \u001b[0mself\u001b[0m\u001b[0;34m.\u001b[0m\u001b[0mgrouper\u001b[0m\u001b[0;34m.\u001b[0m\u001b[0mnkeys\u001b[0m \u001b[0;34m>\u001b[0m \u001b[0;36m1\u001b[0m\u001b[0;34m:\u001b[0m\u001b[0;34m\u001b[0m\u001b[0m",
      "\u001b[0;32m/usr/local/anaconda2/lib/python2.7/site-packages/pandas/core/groupby.pyc\u001b[0m in \u001b[0;36mmean\u001b[0;34m(self, *args, **kwargs)\u001b[0m",
      "\u001b[1;32m   1017\u001b[0m         \u001b[0mnv\u001b[0m\u001b[0;34m.\u001b[0m\u001b[0mvalidate_groupby_func\u001b[0m\u001b[0;34m(\u001b[0m\u001b[0;34m'mean'\u001b[0m\u001b[0;34m,\u001b[0m \u001b[0margs\u001b[0m\u001b[0;34m,\u001b[0m \u001b[0mkwargs\u001b[0m\u001b[0;34m)\u001b[0m\u001b[0;34m\u001b[0m\u001b[0m",
      "\u001b[1;32m   1018\u001b[0m         \u001b[0;32mtry\u001b[0m\u001b[0;34m:\u001b[0m\u001b[0;34m\u001b[0m\u001b[0m",
      "\u001b[0;32m-> 1019\u001b[0;31m             \u001b[0;32mreturn\u001b[0m \u001b[0mself\u001b[0m\u001b[0;34m.\u001b[0m\u001b[0m_cython_agg_general\u001b[0m\u001b[0;34m(\u001b[0m\u001b[0;34m'mean'\u001b[0m\u001b[0;34m)\u001b[0m\u001b[0;34m\u001b[0m\u001b[0m",
      "\u001b[0m\u001b[1;32m   1020\u001b[0m         \u001b[0;32mexcept\u001b[0m \u001b[0mGroupByError\u001b[0m\u001b[0;34m:\u001b[0m\u001b[0;34m\u001b[0m\u001b[0m",
      "\u001b[1;32m   1021\u001b[0m             \u001b[0;32mraise\u001b[0m\u001b[0;34m\u001b[0m\u001b[0m",
      "\u001b[0;32m/usr/local/anaconda2/lib/python2.7/site-packages/pandas/core/groupby.pyc\u001b[0m in \u001b[0;36m_cython_agg_general\u001b[0;34m(self, how, numeric_only)\u001b[0m",
      "\u001b[1;32m    806\u001b[0m \u001b[0;34m\u001b[0m\u001b[0m",
      "\u001b[1;32m    807\u001b[0m         \u001b[0;32mif\u001b[0m \u001b[0mlen\u001b[0m\u001b[0;34m(\u001b[0m\u001b[0moutput\u001b[0m\u001b[0;34m)\u001b[0m \u001b[0;34m==\u001b[0m \u001b[0;36m0\u001b[0m\u001b[0;34m:\u001b[0m\u001b[0;34m\u001b[0m\u001b[0m",
      "\u001b[0;32m--> 808\u001b[0;31m             \u001b[0;32mraise\u001b[0m \u001b[0mDataError\u001b[0m\u001b[0;34m(\u001b[0m\u001b[0;34m'No numeric types to aggregate'\u001b[0m\u001b[0;34m)\u001b[0m\u001b[0;34m\u001b[0m\u001b[0m",
      "\u001b[0m\u001b[1;32m    809\u001b[0m \u001b[0;34m\u001b[0m\u001b[0m",
      "\u001b[1;32m    810\u001b[0m         \u001b[0;32mreturn\u001b[0m \u001b[0mself\u001b[0m\u001b[0;34m.\u001b[0m\u001b[0m_wrap_aggregated_output\u001b[0m\u001b[0;34m(\u001b[0m\u001b[0moutput\u001b[0m\u001b[0;34m,\u001b[0m \u001b[0mnames\u001b[0m\u001b[0;34m)\u001b[0m\u001b[0;34m\u001b[0m\u001b[0m",
      "\u001b[0;31mDataError\u001b[0m: No numeric types to aggregate",
      ""
     ]
    }
   ],
   "source": [
    "DB.ml_study_lr_v1.drop()\n",
    "\n",
    "WORK = [(w['tox_class'],w['descriptor_type'],w['n_pos'],w['n_neg'],w['rand_seed']) \n",
    "        for w in DB.ml_study_run_v1.find()]\n",
    "shuffle(WORK)\n",
    "\n",
    "print \"Starting ML Analysis to assign toxicity \" + time.strftime(\"%d/%m/%Y %H:%M\",time.localtime())\n",
    "print \"Data sets: \", DB.ml_study_run_v1.count()\n",
    "\n",
    "\n",
    "P = lb_view.map(lambda (tox_i,dt_i,np_i,nn_i,rs_i): \n",
    "                    runStudyToxML(tox_i,dt_i,np_i,nn_i,rs_i,\n",
    "                                  col_tox='tox2_fp',tox_pos_ds='tox_fpp2.ds',tox_neg_ds='tox_fpn2.ds',\n",
    "                                  ss_iters=10,cv_iters=2,cv_nfolds=5,\n",
    "                                  n_ds_min=2,n_ds_max=22,n_ds_step=2,\n",
    "                                  Col_ds=None,Col_lr=DB.ml_study_lr_v1,MDB=DB),\n",
    "                    WORK)\n",
    "\n",
    "print \"Ending ML Analysis to assign activity \" + time.strftime(\"%d/%m/%Y %H:%M\",time.localtime())\n",
    "#send_email(txt=\"Done\",subj=\"ToxBrain Done\")"
   ]
  },
  {
   "cell_type": "code",
   "execution_count": null,
   "metadata": {
    "collapsed": true,
    "jupyter": {
     "outputs_hidden": true
    }
   },
   "outputs": [],
   "source": []
  }
 ],
 "metadata": {
  "kernelspec": {
   "display_name": "dl",
   "language": "python",
   "name": "dl"
  },
  "language_info": {
   "codemirror_mode": {
    "name": "ipython",
    "version": 3
   },
   "file_extension": ".py",
   "mimetype": "text/x-python",
   "name": "python",
   "nbconvert_exporter": "python",
   "pygments_lexer": "ipython3",
   "version": "3.8.13"
  },
  "widgets": {
   "state": {
    "922f9012ff994bd49f6288ded766090c": {
     "views": [
      {
       "cell_index": 12
      }
     ]
    }
   },
   "version": "1.2.0"
  }
 },
 "nbformat": 4,
 "nbformat_minor": 4
}
