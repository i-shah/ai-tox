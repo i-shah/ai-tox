{
 "cells": [
  {
   "cell_type": "code",
   "execution_count": 1,
   "metadata": {
    "collapsed": false
   },
   "outputs": [
    {
     "name": "stderr",
     "output_type": "stream",
     "text": [
      "/usr/local/anaconda2/lib/python2.7/site-packages/IPython/config.py:13: ShimWarning: The `IPython.config` package has been deprecated. You should import from traitlets.config instead.\n",
      "  \"You should import from traitlets.config instead.\", ShimWarning)\n",
      "/usr/local/anaconda2/lib/python2.7/site-packages/IPython/utils/traitlets.py:5: UserWarning: IPython.utils.traitlets has moved to a top-level traitlets package.\n",
      "  warn(\"IPython.utils.traitlets has moved to a top-level traitlets package.\")\n"
     ]
    },
    {
     "name": "stdout",
     "output_type": "stream",
     "text": [
      "Populating the interactive namespace from numpy and matplotlib\n"
     ]
    }
   ],
   "source": [
    "%reload_ext autoreload\n",
    "%autoreload 2\n",
    "%reload_ext sql \n",
    "%pylab inline\n",
    "%matplotlib inline\n",
    "\n",
    "import pandas as pd\n",
    "import os, random\n",
    "\n",
    "import pickle,time\n",
    "\n",
    "tmstmp = time.strftime(\"%m-%d-%Y\",time.localtime())\n"
   ]
  },
  {
   "cell_type": "markdown",
   "metadata": {},
   "source": [
    "# Initialisation"
   ]
  },
  {
   "cell_type": "markdown",
   "metadata": {},
   "source": [
    "## Directory paths\n",
    "* TOP = path to the toplevel directory \n",
    "* TOP+/lib = path to the python source files that are required\n",
    "* FIG_DIR = path to where figures are stored"
   ]
  },
  {
   "cell_type": "code",
   "execution_count": 2,
   "metadata": {
    "collapsed": true
   },
   "outputs": [],
   "source": [
    "# Set up the local source files\n",
    "TOP = os.getcwd().replace('notebooks','')\n",
    "LIB = TOP+'lib'\n",
    "if not LIB in sys.path: sys.path.append(LIB)\n",
    "\n",
    "DAT_DIR = TOP + '/data/'\n",
    "RES_DIR = TOP + '/results/'\n",
    "FIG_DIR = TOP + '/figs/'\n"
   ]
  },
  {
   "cell_type": "markdown",
   "metadata": {},
   "source": [
    "## Load packages\n",
    "Open organtox_v1 MongoDB - if this fails then check your mongodb installation"
   ]
  },
  {
   "cell_type": "code",
   "execution_count": 3,
   "metadata": {
    "collapsed": false
   },
   "outputs": [
    {
     "data": {
      "text/plain": [
       "[u'chm_fp', u'ml_lr_v1', u'bio_fp', u'ml_summary_v1', u'ml_run_v1', u'tox_fp']"
      ]
     },
     "execution_count": 3,
     "metadata": {},
     "output_type": "execute_result"
    }
   ],
   "source": [
    "from organtox import *\n",
    "\n",
    "DB = openMongo(host='pb.epa.gov',user='devel',passwd='devel',db='organtox_v1')\n",
    "DB.collection_names()"
   ]
  },
  {
   "cell_type": "markdown",
   "metadata": {},
   "source": [
    "# Supplemental Data"
   ]
  },
  {
   "cell_type": "code",
   "execution_count": 18,
   "metadata": {
    "collapsed": false
   },
   "outputs": [
    {
     "data": {
      "text/plain": [
       "35"
      ]
     },
     "execution_count": 18,
     "metadata": {},
     "output_type": "execute_result"
    }
   ],
   "source": [
    "Outcomes =[u'CHR:Adrenal Gland',\n",
    " u'CHR:Bone Marrow',\n",
    " u'CHR:Brain',\n",
    " u'CHR:Eye',\n",
    " u'CHR:Heart',\n",
    " u'CHR:Kidney',\n",
    " u'CHR:Liver',\n",
    " u'CHR:Lung',\n",
    " u'CHR:Lymph Node',\n",
    " u'CHR:Mammary Gland',\n",
    " u'CHR:Pancreas',\n",
    " u'CHR:Pituitary Gland',\n",
    " u'CHR:Spleen',\n",
    " u'CHR:Stomach',\n",
    " u'CHR:Testes',\n",
    " u'CHR:Thymus',\n",
    " u'CHR:Thyroid Gland',\n",
    " u'CHR:Urinary Bladder',\n",
    " u'CHR:Uterus',\n",
    " u'MGR:Brain',\n",
    " u'MGR:Kidney',\n",
    " u'MGR:Ovary',\n",
    " u'MGR:Testes',\n",
    " u'SUB:Adrenal Gland',\n",
    " u'SUB:Bone Marrow',\n",
    " u'SUB:Brain',\n",
    " u'SUB:Heart',\n",
    " u'SUB:Kidney',\n",
    " u'SUB:Liver',\n",
    " u'SUB:Lung',\n",
    " u'SUB:Spleen',\n",
    " u'SUB:Stomach',\n",
    " u'SUB:Testes',\n",
    " u'SUB:Thymus',\n",
    " u'SUB:Thyroid Gland']\n",
    "len(Outcomes)"
   ]
  },
  {
   "cell_type": "markdown",
   "metadata": {},
   "source": [
    "# Toxicity data"
   ]
  },
  {
   "cell_type": "code",
   "execution_count": 86,
   "metadata": {
    "collapsed": false
   },
   "outputs": [
    {
     "name": "stdout",
     "output_type": "stream",
     "text": [
      "\n",
      "> CHR:Adrenal Gland\n",
      "  bio (428, 777)\n",
      "  tox (539, 1)\n",
      "  bc (421, 2769)\n",
      "  bct (421, 1147)\n",
      "  chm (474, 1992)\n",
      "  ct (421, 370)\n",
      "\n",
      "> CHR:Bone Marrow\n",
      "  bio (428, 777)\n",
      "  tox (539, 1)\n",
      "  bc (421, 2769)\n",
      "  bct (421, 1147)\n",
      "  chm (474, 1992)\n",
      "  ct (421, 370)\n",
      "\n",
      "> CHR:Brain\n",
      "  bio (428, 777)\n",
      "  tox (539, 1)\n",
      "  bc (421, 2769)\n",
      "  bct (421, 1147)\n",
      "  chm (474, 1992)\n",
      "  ct (421, 370)\n",
      "\n",
      "> CHR:Eye\n",
      "  bio (428, 777)\n",
      "  tox (539, 1)\n",
      "  bc (421, 2769)\n",
      "  bct (421, 1147)\n",
      "  chm (474, 1992)\n",
      "  ct (421, 370)\n",
      "\n",
      "> CHR:Heart\n",
      "  bio (428, 777)\n",
      "  tox (539, 1)\n",
      "  bc (421, 2769)\n",
      "  bct (421, 1147)\n",
      "  chm (474, 1992)\n",
      "  ct (421, 370)\n",
      "\n",
      "> CHR:Kidney\n",
      "  bio (428, 777)\n",
      "  tox (539, 1)\n",
      "  bc (421, 2769)\n",
      "  bct (421, 1147)\n",
      "  chm (474, 1992)\n",
      "  ct (421, 370)\n",
      "\n",
      "> CHR:Liver\n",
      "  bio (428, 777)\n",
      "  tox (539, 1)\n",
      "  bc (421, 2769)\n",
      "  bct (421, 1147)\n",
      "  chm (474, 1992)\n",
      "  ct (421, 370)\n",
      "\n",
      "> CHR:Lung\n",
      "  bio (428, 777)\n",
      "  tox (539, 1)\n",
      "  bc (421, 2769)\n",
      "  bct (421, 1147)\n",
      "  chm (474, 1992)\n",
      "  ct (421, 370)\n",
      "\n",
      "> CHR:Lymph Node\n",
      "  bio (428, 777)\n",
      "  tox (539, 1)\n",
      "  bc (421, 2769)\n",
      "  bct (421, 1147)\n",
      "  chm (474, 1992)\n",
      "  ct (421, 370)\n",
      "\n",
      "> CHR:Mammary Gland\n",
      "  bio (428, 777)\n",
      "  tox (539, 1)\n",
      "  bc (421, 2769)\n",
      "  bct (421, 1147)\n",
      "  chm (474, 1992)\n",
      "  ct (421, 370)\n",
      "\n",
      "> CHR:Pancreas\n",
      "  bio (428, 777)\n",
      "  tox (539, 1)\n",
      "  bc (421, 2769)\n",
      "  bct (421, 1147)\n",
      "  chm (474, 1992)\n",
      "  ct (421, 370)\n",
      "\n",
      "> CHR:Pituitary Gland\n",
      "  bio (428, 777)\n",
      "  tox (539, 1)\n",
      "  bc (421, 2769)\n",
      "  bct (421, 1147)\n",
      "  chm (474, 1992)\n",
      "  ct (421, 370)\n",
      "\n",
      "> CHR:Spleen\n",
      "  bio (428, 777)\n",
      "  tox (539, 1)\n",
      "  bc (421, 2769)\n",
      "  bct (421, 1147)\n",
      "  chm (474, 1992)\n",
      "  ct (421, 370)\n",
      "\n",
      "> CHR:Stomach\n",
      "  bio (428, 777)\n",
      "  tox (539, 1)\n",
      "  bc (421, 2769)\n",
      "  bct (421, 1147)\n",
      "  chm (474, 1992)\n",
      "  ct (421, 370)\n",
      "\n",
      "> CHR:Testes\n",
      "  bio (428, 777)\n",
      "  tox (539, 1)\n",
      "  bc (421, 2769)\n",
      "  bct (421, 1147)\n",
      "  chm (474, 1992)\n",
      "  ct (421, 370)\n",
      "\n",
      "> CHR:Thymus\n",
      "  bio (428, 777)\n",
      "  tox (539, 1)\n",
      "  bc (421, 2769)\n",
      "  bct (421, 1147)\n",
      "  chm (474, 1992)\n",
      "  ct (421, 370)\n",
      "\n",
      "> CHR:Thyroid Gland\n",
      "  bio (428, 777)\n",
      "  tox (539, 1)\n",
      "  bc (421, 2769)\n",
      "  bct (421, 1147)\n",
      "  chm (474, 1992)\n",
      "  ct (421, 370)\n",
      "\n",
      "> CHR:Urinary Bladder\n",
      "  bio (428, 777)\n",
      "  tox (539, 1)\n",
      "  bc (421, 2769)\n",
      "  bct (421, 1147)\n",
      "  chm (474, 1992)\n",
      "  ct (421, 370)\n",
      "\n",
      "> CHR:Uterus\n",
      "  bio (428, 777)\n",
      "  tox (539, 1)\n",
      "  bc (421, 2769)\n",
      "  bct (421, 1147)\n",
      "  chm (474, 1992)\n",
      "  ct (421, 370)\n",
      "\n",
      "> MGR:Brain\n",
      "  bio (346, 762)\n",
      "  tox (439, 1)\n",
      "  bc (339, 2686)\n",
      "  bct (339, 1104)\n",
      "  chm (367, 1924)\n",
      "  ct (339, 342)\n",
      "\n",
      "> MGR:Kidney\n",
      "  bio (346, 762)\n",
      "  tox (439, 1)\n",
      "  bc (339, 2686)\n",
      "  bct (339, 1104)\n",
      "  chm (367, 1924)\n",
      "  ct (339, 342)\n",
      "\n",
      "> MGR:Ovary\n",
      "  bio (346, 762)\n",
      "  tox (439, 1)\n",
      "  bc (339, 2686)\n",
      "  bct (339, 1104)\n",
      "  chm (367, 1924)\n",
      "  ct (339, 342)\n",
      "\n",
      "> MGR:Testes\n",
      "  bio (346, 762)\n",
      "  tox (439, 1)\n",
      "  bc (339, 2686)\n",
      "  bct (339, 1104)\n",
      "  chm (367, 1924)\n",
      "  ct (339, 342)\n",
      "\n",
      "> SUB:Adrenal Gland\n",
      "  bio (398, 774)\n",
      "  tox (527, 1)\n",
      "  bc (392, 2746)\n",
      "  bct (392, 1122)\n",
      "  chm (437, 1972)\n",
      "  ct (392, 348)\n",
      "\n",
      "> SUB:Bone Marrow\n",
      "  bio (398, 774)\n",
      "  tox (527, 1)\n",
      "  bc (392, 2746)\n",
      "  bct (392, 1122)\n",
      "  chm (437, 1972)\n",
      "  ct (392, 348)\n",
      "\n",
      "> SUB:Brain\n",
      "  bio (398, 774)\n",
      "  tox (527, 1)\n",
      "  bc (392, 2746)\n",
      "  bct (392, 1122)\n",
      "  chm (437, 1972)\n",
      "  ct (392, 348)\n",
      "\n",
      "> SUB:Heart\n",
      "  bio (398, 774)\n",
      "  tox (527, 1)\n",
      "  bc (392, 2746)\n",
      "  bct (392, 1122)\n",
      "  chm (437, 1972)\n",
      "  ct (392, 348)\n",
      "\n",
      "> SUB:Kidney\n",
      "  bio (398, 774)\n",
      "  tox (527, 1)\n",
      "  bc (392, 2746)\n",
      "  bct (392, 1122)\n",
      "  chm (437, 1972)\n",
      "  ct (392, 348)\n",
      "\n",
      "> SUB:Liver\n",
      "  bio (398, 774)\n",
      "  tox (527, 1)\n",
      "  bc (392, 2746)\n",
      "  bct (392, 1122)\n",
      "  chm (437, 1972)\n",
      "  ct (392, 348)\n",
      "\n",
      "> SUB:Lung\n",
      "  bio (398, 774)\n",
      "  tox (527, 1)\n",
      "  bc (392, 2746)\n",
      "  bct (392, 1122)\n",
      "  chm (437, 1972)\n",
      "  ct (392, 348)\n",
      "\n",
      "> SUB:Spleen\n",
      "  bio (398, 774)\n",
      "  tox (527, 1)\n",
      "  bc (392, 2746)\n",
      "  bct (392, 1122)\n",
      "  chm (437, 1972)\n",
      "  ct (392, 348)\n",
      "\n",
      "> SUB:Stomach\n",
      "  bio (398, 774)\n",
      "  tox (527, 1)\n",
      "  bc (392, 2746)\n",
      "  bct (392, 1122)\n",
      "  chm (437, 1972)\n",
      "  ct (392, 348)\n",
      "\n",
      "> SUB:Testes\n",
      "  bio (398, 774)\n",
      "  tox (527, 1)\n",
      "  bc (392, 2746)\n",
      "  bct (392, 1122)\n",
      "  chm (437, 1972)\n",
      "  ct (392, 348)\n",
      "\n",
      "> SUB:Thymus\n",
      "  bio (398, 774)\n",
      "  tox (527, 1)\n",
      "  bc (392, 2746)\n",
      "  bct (392, 1122)\n",
      "  chm (437, 1972)\n",
      "  ct (392, 348)\n",
      "\n",
      "> SUB:Thyroid Gland\n",
      "  bio (398, 774)\n",
      "  tox (527, 1)\n",
      "  bc (392, 2746)\n",
      "  bct (392, 1122)\n",
      "  chm (437, 1972)\n",
      "  ct (392, 348)\n"
     ]
    }
   ],
   "source": [
    "CID = DB.tox_fp.distinct('dsstox_cid')\n",
    "\n",
    "TOX = pd.DataFrame(np.zeros((len(CID),len(Outcomes))),index=CID,columns=Outcomes,dtype=np.uint)\n",
    "TOX.replace(0,np.NaN,inplace=True)\n",
    "\n",
    "for tox in Outcomes:\n",
    "    print '\\n>',tox\n",
    "    DSi = getToxDataSet(tox,MDB=DB)\n",
    "    for k,v in DSi.iteritems():\n",
    "        print ' ',k,v.shape\n",
    "    \n",
    "    Tox = DSi['tox']\n",
    "    TOX.ix[Tox.index,tox]=Tox[tox]"
   ]
  },
  {
   "cell_type": "code",
   "execution_count": 110,
   "metadata": {
    "collapsed": true
   },
   "outputs": [],
   "source": [
    "TOX.to_excel(DAT_DIR+\"S1.xlsx\")"
   ]
  },
  {
   "cell_type": "markdown",
   "metadata": {
    "collapsed": false
   },
   "source": [
    "# Bioactivity data"
   ]
  },
  {
   "cell_type": "code",
   "execution_count": 121,
   "metadata": {
    "collapsed": false
   },
   "outputs": [],
   "source": [
    "BIO = getChemFP(DB.bio_fp.distinct('dsstox_cid'),col=DB.bio_fp,ds='bio1.ds')\n",
    "BIO.to_excel(DAT_DIR+\"S2.xlsx\")"
   ]
  },
  {
   "cell_type": "markdown",
   "metadata": {},
   "source": [
    "# Chemical fingerprint data"
   ]
  },
  {
   "cell_type": "code",
   "execution_count": 122,
   "metadata": {
    "collapsed": true
   },
   "outputs": [],
   "source": [
    "CHM = getChemFP(DB.chm_fp.distinct('dsstox_cid'),col=DB.chm_fp,ds='mrgn.ds')\n",
    "CHM.to_excel(DAT_DIR+\"S3.xlsx\")"
   ]
  },
  {
   "cell_type": "markdown",
   "metadata": {},
   "source": [
    "# Chemotype data\n"
   ]
  },
  {
   "cell_type": "code",
   "execution_count": 123,
   "metadata": {
    "collapsed": true
   },
   "outputs": [],
   "source": [
    "CT = getChemFP(DB.chm_fp.distinct('dsstox_cid'),col=DB.chm_fp,ds='chmtp1.ds')\n",
    "CT.to_excel(DAT_DIR+\"S4.xlsx\")"
   ]
  },
  {
   "cell_type": "code",
   "execution_count": null,
   "metadata": {
    "collapsed": true
   },
   "outputs": [],
   "source": []
  }
 ],
 "metadata": {
  "kernelspec": {
   "display_name": "Python 2",
   "language": "python",
   "name": "python2"
  },
  "language_info": {
   "codemirror_mode": {
    "name": "ipython",
    "version": 2
   },
   "file_extension": ".py",
   "mimetype": "text/x-python",
   "name": "python",
   "nbconvert_exporter": "python",
   "pygments_lexer": "ipython2",
   "version": "2.7.13"
  }
 },
 "nbformat": 4,
 "nbformat_minor": 0
}
