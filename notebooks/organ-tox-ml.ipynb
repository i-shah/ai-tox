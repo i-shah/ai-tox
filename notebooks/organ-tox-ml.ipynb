{
 "cells": [
  {
   "cell_type": "code",
   "execution_count": 5,
   "metadata": {
    "collapsed": false,
    "jupyter": {
     "outputs_hidden": false
    }
   },
   "outputs": [
    {
     "name": "stdout",
     "output_type": "stream",
     "text": [
      "%pylab is deprecated, use %matplotlib inline and import the required libraries.\n",
      "Populating the interactive namespace from numpy and matplotlib\n"
     ]
    }
   ],
   "source": [
    "%reload_ext autoreload\n",
    "%autoreload 2\n",
    "%pylab inline\n",
    "%matplotlib inline\n",
    "\n",
    "import pandas as pd\n",
    "import os, random\n",
    "\n",
    "import pickle,time\n",
    "\n",
    "tmstmp = time.strftime(\"%m-%d-%Y\",time.localtime())\n"
   ]
  },
  {
   "cell_type": "markdown",
   "metadata": {},
   "source": [
    "# Initialisation"
   ]
  },
  {
   "cell_type": "markdown",
   "metadata": {},
   "source": [
    "## Directory paths\n",
    "* TOP = path to the toplevel directory \n",
    "* TOP+/lib = path to the python source files that are required\n",
    "* FIG_DIR = path to where figures are stored"
   ]
  },
  {
   "cell_type": "code",
   "execution_count": 6,
   "metadata": {
    "tags": []
   },
   "outputs": [],
   "source": [
    "# Set up the local source files\n",
    "TOP = os.getcwd().replace('notebooks','')\n",
    "LIB = TOP+'lib'\n",
    "if not LIB in sys.path: sys.path.append(LIB)\n",
    "\n",
    "DAT_DIR = TOP + '/data/'\n",
    "RES_DIR = TOP + '/results/'\n",
    "FIG_DIR = TOP + '/figs/'\n"
   ]
  },
  {
   "cell_type": "markdown",
   "metadata": {},
   "source": [
    "## Load packages\n",
    "Open organtox_v1 MongoDB - if this fails then check your mongodb installation"
   ]
  },
  {
   "cell_type": "code",
   "execution_count": 7,
   "metadata": {
    "collapsed": false,
    "jupyter": {
     "outputs_hidden": false
    }
   },
   "outputs": [
    {
     "data": {
      "text/plain": [
       "[]"
      ]
     },
     "execution_count": 7,
     "metadata": {},
     "output_type": "execute_result"
    }
   ],
   "source": [
    "from organtox import *\n",
    "\n",
    "DB = openMongo(host='localhost',auth=False,user='ishah',passwd='ishah',db='organtox_v2')\n",
    "GNR = openMongo(host='localhost',auth=False,user='ishah',passwd='ishah',db='genra_dev_v5')\n",
    "\n",
    "DB.collection_names()"
   ]
  },
  {
   "cell_type": "markdown",
   "metadata": {},
   "source": [
    "## Parallelisation\n",
    "\n",
    "The code uses [IPython's parallel computing](https://ipyparallel.readthedocs.io/) library. \n",
    "Make sure the parallel machine specified as the input to initParallel is running. "
   ]
  },
  {
   "cell_type": "markdown",
   "metadata": {},
   "source": [
    "# Supplemental Data"
   ]
  },
  {
   "cell_type": "markdown",
   "metadata": {},
   "source": [
    "# Supervised Machine Learning"
   ]
  },
  {
   "cell_type": "markdown",
   "metadata": {},
   "source": [
    "## The target organ toxicity outcomes"
   ]
  },
  {
   "cell_type": "code",
   "execution_count": 24,
   "metadata": {
    "collapsed": false,
    "jupyter": {
     "outputs_hidden": false
    }
   },
   "outputs": [
    {
     "data": {
      "text/plain": [
       "[\"CHR:5' nucleotidase\",\n",
       " 'CHR:[other]',\n",
       " 'CHR:adrenal gland',\n",
       " 'CHR:alanine aminotransferase (alt/sgpt)',\n",
       " 'CHR:albumin',\n",
       " 'CHR:albumin-globulin ratio',\n",
       " 'CHR:alkaline phosphatase (alp/alk)',\n",
       " 'CHR:alpha-1 globulin',\n",
       " 'CHR:alpha-2 globulin',\n",
       " 'CHR:aminopyrine-n-demethylase']"
      ]
     },
     "execution_count": 24,
     "metadata": {},
     "output_type": "execute_result"
    }
   ],
   "source": [
    "Outcomes = GNR.toxref_tr_fp.distinct('tox_fp2.fp_pos.ds')\n",
    "len(Outcomes)\n",
    "Outcomes[:10]"
   ]
  },
  {
   "cell_type": "code",
   "execution_count": 17,
   "metadata": {},
   "outputs": [],
   "source": [
    "S1 = [i['dsstox_sid'] for i in GNR.chms_fp.find().limit(20)]\n",
    "X1 = getChemFP(S1,col=GNR.chms_fp,ds='mrgn.ds',fill=0)"
   ]
  },
  {
   "cell_type": "markdown",
   "metadata": {},
   "source": [
    "## Identify all the datasets for machine learning\n",
    "\n"
   ]
  },
  {
   "cell_type": "code",
   "execution_count": 22,
   "metadata": {},
   "outputs": [
    {
     "data": {
      "text/plain": [
       "0"
      ]
     },
     "execution_count": 22,
     "metadata": {},
     "output_type": "execute_result"
    }
   ],
   "source": [
    "GNR.toxref_tr_fp.count_documents({'tox_fp2.fp_pos.ds':'CHR:Liver'})"
   ]
  },
  {
   "cell_type": "code",
   "execution_count": 29,
   "metadata": {},
   "outputs": [],
   "source": [
    "from organtox import *\n",
    "\n",
    "X2 = getToxDataSet('CHR:liver',MDB=GNR,\n",
    "                   col_tox='toxref_tr_fp',\n",
    "                   tox_pos_ds='tox_fp2.fp_pos.ds',\n",
    "                   tox_neg_ds='tox_fp2.fp_neg.ds',\n",
    "                   col_chm='chms_fp'\n",
    "                  )\n"
   ]
  },
  {
   "cell_type": "code",
   "execution_count": 31,
   "metadata": {
    "collapsed": false,
    "jupyter": {
     "outputs_hidden": false
    }
   },
   "outputs": [
    {
     "name": "stdout",
     "output_type": "stream",
     "text": [
      "> Tox  CHR:5' nucleotidase 0 + 0 - 13:24\n"
     ]
    },
    {
     "ename": "NameError",
     "evalue": "name 'n_np' is not defined",
     "output_type": "error",
     "traceback": [
      "\u001b[0;31m---------------------------------------------------------------------------\u001b[0m",
      "\u001b[0;31mNameError\u001b[0m                                 Traceback (most recent call last)",
      "Input \u001b[0;32mIn [31]\u001b[0m, in \u001b[0;36m<cell line: 7>\u001b[0;34m()\u001b[0m\n\u001b[1;32m     25\u001b[0m     \u001b[38;5;28;01mfor\u001b[39;00m n_np \u001b[38;5;129;01min\u001b[39;00m \u001b[38;5;28mrange\u001b[39m(\u001b[38;5;241m50\u001b[39m,N_pn,\u001b[38;5;241m5\u001b[39m):\n\u001b[1;32m     26\u001b[0m         RN0\u001b[38;5;241m.\u001b[39mappend(\u001b[38;5;28mdict\u001b[39m(tox_class\u001b[38;5;241m=\u001b[39mtox,descriptor_type\u001b[38;5;241m=\u001b[39mdt,\n\u001b[1;32m     27\u001b[0m                         num_negpos\u001b[38;5;241m=\u001b[39mn_np,rand_seed\u001b[38;5;241m=\u001b[39mseed))\n\u001b[0;32m---> 28\u001b[0m     \u001b[38;5;28;01mif\u001b[39;00m \u001b[43mn_np\u001b[49m\u001b[38;5;241m<\u001b[39mN_pn:\n\u001b[1;32m     29\u001b[0m         RN0\u001b[38;5;241m.\u001b[39mappend(\u001b[38;5;28mdict\u001b[39m(tox_class\u001b[38;5;241m=\u001b[39mtox,descriptor_type\u001b[38;5;241m=\u001b[39mdt,\n\u001b[1;32m     30\u001b[0m                         num_negpos\u001b[38;5;241m=\u001b[39mN_pn,rand_seed\u001b[38;5;241m=\u001b[39mseed))\n\u001b[1;32m     32\u001b[0m DB\u001b[38;5;241m.\u001b[39mml_run_v1\u001b[38;5;241m.\u001b[39minsert_many(RN0)\n",
      "\u001b[0;31mNameError\u001b[0m: name 'n_np' is not defined"
     ]
    }
   ],
   "source": [
    "from organtox import *\n",
    "import random\n",
    "P_ALL = []\n",
    "\n",
    "DB.ml_run_v1.drop()\n",
    "\n",
    "for tox in Outcomes:\n",
    "    RN0=[]\n",
    "    # Get one seed for each toxicity classification\n",
    "    seed = random.randint(1,1e6)      \n",
    "    \n",
    "    # Get the data \n",
    "    DS0 = getToxDataSet(tox,MDB=DB)\n",
    "    \n",
    "\n",
    "    N_p,N_n = (DS0['tox'][tox]==1).sum(),(DS0['tox'][tox]==0).sum()\n",
    "    \n",
    "    # For a balanced analysis \n",
    "    N_pn = N_p if N_p<N_n else N_n\n",
    "    \n",
    "    print(\"> Tox \",tox,N_p,'+', N_n,'-',time.strftime(\"%H:%M\",time.localtime()))\n",
    "    sys.stdout.flush()\n",
    "    sys.stderr.flush()\n",
    "    \n",
    "    for dt in ['bio','chm','ct','bc','bct']:\n",
    "        for n_np in range(50,N_pn,5):\n",
    "            RN0.append(dict(tox_class=tox,descriptor_type=dt,\n",
    "                            num_negpos=n_np,rand_seed=seed))\n",
    "        if n_np<N_pn:\n",
    "            RN0.append(dict(tox_class=tox,descriptor_type=dt,\n",
    "                            num_negpos=N_pn,rand_seed=seed))\n",
    "            \n",
    "    DB.ml_run_v1.insert_many(RN0)\n"
   ]
  },
  {
   "cell_type": "code",
   "execution_count": 32,
   "metadata": {},
   "outputs": [
    {
     "data": {
      "text/plain": [
       "(0, 0)"
      ]
     },
     "execution_count": 32,
     "metadata": {},
     "output_type": "execute_result"
    }
   ],
   "source": [
    "N_p,N_n"
   ]
  },
  {
   "cell_type": "code",
   "execution_count": 8,
   "metadata": {
    "collapsed": false,
    "jupyter": {
     "outputs_hidden": false
    }
   },
   "outputs": [
    {
     "data": {
      "text/plain": [
       "(2670,\n",
       " {u'_id': ObjectId('585882cb072e60f47103a079'),\n",
       "  u'descriptor_type': u'bio',\n",
       "  u'num_negpos': 50,\n",
       "  u'rand_seed': 819775,\n",
       "  u'tox_class': u'CHR:Adrenal Gland'})"
      ]
     },
     "execution_count": 8,
     "metadata": {},
     "output_type": "execute_result"
    }
   ],
   "source": [
    "DB.ml_run_v1.count(),DB.ml_run_v1.find_one()"
   ]
  },
  {
   "cell_type": "code",
   "execution_count": null,
   "metadata": {
    "collapsed": false,
    "jupyter": {
     "outputs_hidden": false
    }
   },
   "outputs": [
    {
     "name": "stdout",
     "output_type": "stream",
     "text": [
      "Starting ML Analysis to assign toxicity 19/12/2016 20:17\n",
      "Data sets:  2670\n"
     ]
    }
   ],
   "source": [
    "DB.ml_lr_v1.drop()\n",
    "\n",
    "WORK = [(w['tox_class'],w['descriptor_type'],w['num_negpos'],w['rand_seed']) for w in DB.ml_run_v1.find()]\n",
    "shuffle(WORK)\n",
    "\n",
    "print \"Starting ML Analysis to assign toxicity \" + time.strftime(\"%d/%m/%Y %H:%M\",time.localtime())\n",
    "print \"Data sets: \", DB.ml_run_v1.count()\n",
    "\n",
    "\n",
    "P = lb_view.map(lambda (tox_i,dt_i,np_i,rs_i): runOrganToxML(tox_i,dt_i,np_i,rs_i,\n",
    "                                                             ss_iters=20,cv_iters=10,cv_nfolds=5,\n",
    "                                                             n_ds_min=5,n_ds_max=26,n_ds_step=1,\n",
    "                                                             Col_ds=None,Col_lr=DB.ml_lr_v1,MDB=DB),\n",
    "                    WORK)\n",
    "\n",
    "print \"Ending ML Analysis to assign activity \" + time.strftime(\"%d/%m/%Y %H:%M\",time.localtime())\n",
    "#send_email(txt=\"Done\",subj=\"ToxBrain Done\")"
   ]
  },
  {
   "cell_type": "code",
   "execution_count": null,
   "metadata": {
    "collapsed": false,
    "jupyter": {
     "outputs_hidden": false
    }
   },
   "outputs": [],
   "source": [
    "for i in ['pred','lr','n_ds','dt_in','dt_out','n_obs','ds_id',\n",
    "          'perf_cvt.f1_mn','perf_cvt.bacc_mn']: \n",
    "    print '>',i\n",
    "    DB.ml_lr_v1.create_index(i)"
   ]
  },
  {
   "cell_type": "markdown",
   "metadata": {},
   "source": [
    "## Summarize ML results"
   ]
  },
  {
   "cell_type": "code",
   "execution_count": null,
   "metadata": {
    "collapsed": false,
    "jupyter": {
     "outputs_hidden": false
    }
   },
   "outputs": [],
   "source": [
    "from organtox import *\n",
    "\n",
    "DB.ml_summary_v1.drop()\n",
    "for pred in DB.ml_lr_v1.distinct('pred'):\n",
    "    predPerfSummary(pred,Col_ml=DB.ml_lr_v1,Col_sum=DB.ml_summary_v1)\n",
    "    print '>',pred,DB.ml_summary_v1.count()"
   ]
  },
  {
   "cell_type": "code",
   "execution_count": null,
   "metadata": {
    "collapsed": false,
    "jupyter": {
     "outputs_hidden": false
    }
   },
   "outputs": [],
   "source": [
    "DB.ml_summary_v1.drop()\n",
    "\n",
    "print \"Starting ML Summary  \" + time.strftime(\"%d/%m/%Y %H:%M\",time.localtime())\n",
    "\n",
    "initParallel(Code=\"\"\"\n",
    "from organtox import *\n",
    "\"\"\")\n",
    "\n",
    "TOX = list(set(DB.ml_lr_v1.distinct('pred'))#.difference(DB.ml_summary_v1.distinct('pred')))\n",
    "\n",
    "P = lb_view.map(lambda (tox_i): predPerfSummary(tox_i,Col_ml=DB.ml_lr_v1,Col_sum=DB.ml_summary_v1), TOX)\n",
    "\n",
    "print \"Ending ML Summary \" + time.strftime(\"%d/%m/%Y %H:%M\",time.localtime())\n"
   ]
  },
  {
   "cell_type": "code",
   "execution_count": null,
   "metadata": {
    "collapsed": false,
    "jupyter": {
     "outputs_hidden": false
    }
   },
   "outputs": [],
   "source": [
    "for i in ['pred','lr','n_ds','dt_in','dt_out','n_obs','f1_mn','pt','sens_mn','spec_mn','bacc_mn','acc_mn']: \n",
    "    print '>',i\n",
    "    DB.ml_summary_v1.create_index(i)"
   ]
  }
 ],
 "metadata": {
  "kernelspec": {
   "display_name": "dl",
   "language": "python",
   "name": "dl"
  },
  "language_info": {
   "codemirror_mode": {
    "name": "ipython",
    "version": 3
   },
   "file_extension": ".py",
   "mimetype": "text/x-python",
   "name": "python",
   "nbconvert_exporter": "python",
   "pygments_lexer": "ipython3",
   "version": "3.8.13"
  }
 },
 "nbformat": 4,
 "nbformat_minor": 4
}
