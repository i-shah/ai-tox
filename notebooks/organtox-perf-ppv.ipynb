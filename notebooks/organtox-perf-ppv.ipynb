{
 "cells": [
  {
   "cell_type": "code",
   "execution_count": 1,
   "metadata": {
    "collapsed": false
   },
   "outputs": [
    {
     "name": "stdout",
     "output_type": "stream",
     "text": [
      "Populating the interactive namespace from numpy and matplotlib\n"
     ]
    }
   ],
   "source": [
    "%reload_ext autoreload\n",
    "%autoreload 2\n",
    "%reload_ext sql \n",
    "%pylab inline\n",
    "%matplotlib inline\n",
    "import pylab as pl\n",
    "import pandas as pd\n",
    "import os, random\n",
    "\n",
    "import pickle,time\n",
    "\n",
    "tmstmp = time.strftime(\"%m-%d-%Y\",time.localtime())\n",
    "\n"
   ]
  },
  {
   "cell_type": "code",
   "execution_count": 2,
   "metadata": {
    "collapsed": false
   },
   "outputs": [
    {
     "name": "stderr",
     "output_type": "stream",
     "text": [
      "/usr/local/anaconda2/lib/python2.7/site-packages/sklearn/cross_validation.py:44: DeprecationWarning: This module was deprecated in version 0.18 in favor of the model_selection module into which all the refactored classes and functions are moved. Also note that the interface of the new CV iterators are different from that of this module. This module will be removed in 0.20.\n",
      "  \"This module will be removed in 0.20.\", DeprecationWarning)\n"
     ]
    },
    {
     "data": {
      "text/plain": [
       "[u'chm_fp', u'ml_lr_v1', u'bio_fp', u'ml_summary_v1', u'ml_run_v1', u'tox_fp']"
      ]
     },
     "execution_count": 2,
     "metadata": {},
     "output_type": "execute_result"
    }
   ],
   "source": [
    "# Set up the local source files\n",
    "TOP = os.getcwd().replace('notebooks','')\n",
    "LIB = TOP+'lib'\n",
    "if not LIB in sys.path: sys.path.append(LIB)\n",
    "\n",
    "DAT_DIR = TOP + 'data/'\n",
    "RES_DIR = TOP + 'results/'\n",
    "FIG_DIR = TOP + 'figs/'\n",
    "\n",
    "from organtox import *\n",
    "\n",
    "DB = openMongo(host='pb.epa.gov',user='ishah',passwd='ishah',db='organtox_v1')\n",
    "DB.collection_names()"
   ]
  },
  {
   "cell_type": "code",
   "execution_count": 3,
   "metadata": {
    "collapsed": false
   },
   "outputs": [
    {
     "data": {
      "text/plain": [
       "35"
      ]
     },
     "execution_count": 3,
     "metadata": {},
     "output_type": "execute_result"
    }
   ],
   "source": [
    "Outcomes =[u'CHR:Adrenal Gland',\n",
    " u'CHR:Bone Marrow',\n",
    " u'CHR:Brain',\n",
    " u'CHR:Eye',\n",
    " u'CHR:Heart',\n",
    " u'CHR:Kidney',\n",
    " u'CHR:Liver',\n",
    " u'CHR:Lung',\n",
    " u'CHR:Lymph Node',\n",
    " u'CHR:Mammary Gland',\n",
    " u'CHR:Pancreas',\n",
    " u'CHR:Pituitary Gland',\n",
    " u'CHR:Spleen',\n",
    " u'CHR:Stomach',\n",
    " u'CHR:Testes',\n",
    " u'CHR:Thymus',\n",
    " u'CHR:Thyroid Gland',\n",
    " u'CHR:Urinary Bladder',\n",
    " u'CHR:Uterus',\n",
    " u'MGR:Brain',\n",
    " u'MGR:Kidney',\n",
    " u'MGR:Ovary',\n",
    " u'MGR:Testes',\n",
    " u'SUB:Adrenal Gland',\n",
    " u'SUB:Bone Marrow',\n",
    " u'SUB:Brain',\n",
    " u'SUB:Heart',\n",
    " u'SUB:Kidney',\n",
    " u'SUB:Liver',\n",
    " u'SUB:Lung',\n",
    " u'SUB:Spleen',\n",
    " u'SUB:Stomach',\n",
    " u'SUB:Testes',\n",
    " u'SUB:Thymus',\n",
    " u'SUB:Thyroid Gland']\n",
    "len(Outcomes)"
   ]
  },
  {
   "cell_type": "code",
   "execution_count": 6,
   "metadata": {
    "collapsed": false
   },
   "outputs": [
    {
     "data": {
      "text/plain": [
       "[u'n_obs',\n",
       " u'n_neg',\n",
       " u'perf_cvt',\n",
       " u'n_ds',\n",
       " u'pred',\n",
       " u'dt_in',\n",
       " u'n_pos',\n",
       " u'dt_out',\n",
       " u'lr',\n",
       " u'perf_trn',\n",
       " u'_id']"
      ]
     },
     "execution_count": 6,
     "metadata": {},
     "output_type": "execute_result"
    }
   ],
   "source": [
    "DB.ml_lr_v1.find_one().keys()"
   ]
  },
  {
   "cell_type": "markdown",
   "metadata": {},
   "source": [
    "## Solve for TP, TN, FP, FN\n",
    "\n",
    "```\n",
    "n_pos = TP + FN\n",
    "n_neg = TN + FP\n",
    "sens = TP/(TP+FN) = TP/n_pos\n",
    "spec = TN/(TN+FP) = TN/n_neg\n",
    "```\n",
    "\n",
    "So ...\n",
    "\n",
    "```\n",
    "TP = sens*n_pos\n",
    "TN = spec*n_neg\n",
    "FN = n_pos-TP\n",
    "FP = n_neg-TN\n",
    "PPV = TP/(TP+FP)\n",
    "NPV = TN/(TN+FN)\n",
    "FDR = 1-PPV\n",
    "```\n",
    "\n"
   ]
  },
  {
   "cell_type": "code",
   "execution_count": 28,
   "metadata": {
    "collapsed": true
   },
   "outputs": [],
   "source": [
    "def calcPerf2(n_pos,n_neg,sens,spec,sn_sd=None,sp_sd=None):\n",
    "    n = n_pos+n_neg\n",
    "    TP = int(sens * n_pos)\n",
    "    TN = int(spec * n_neg)\n",
    "    FN = n_pos - TP\n",
    "    FP = n_neg - TN\n",
    "    PPV= 1.0*TP/(TP+FP)\n",
    "    NPV= 1.0*TN/(TN+FN)\n",
    "    FDR= 1 - PPV\n",
    "    \n",
    "    se=sp_se=sn_se=None\n",
    "    \n",
    "    if sn_sd and sp_sd:\n",
    "        sn_se=sn_sd/np.sqrt(n)\n",
    "        sp_se=sn_sd/np.sqrt(n)\n",
    "        se = np.sqrt(sn_se**2 + sp_se**2)*np.sqrt(n)\n",
    "        \n",
    "    return dict(#n_pos=n_pos,n_neg=n_neg,\n",
    "                TP=TP,TN=TN,FP=FP,FN=FN,\n",
    "                #Sens=sens,Spec=spec,\n",
    "                PPV = PPV, NPV=NPV, FDR=FDR,\n",
    "                se=se\n",
    "               )"
   ]
  },
  {
   "cell_type": "code",
   "execution_count": 15,
   "metadata": {
    "collapsed": true
   },
   "outputs": [
    {
     "data": {
      "text/plain": [
       "{'FDR': 0.3146853146853147,\n",
       " 'FN': 7,\n",
       " 'FP': 45,\n",
       " 'NPV': 0.8955223880597015,\n",
       " 'PPV': 0.6853146853146853,\n",
       " 'Sens': 0.935704288413499,\n",
       " 'Spec': 0.5726854524670022,\n",
       " 'TN': 60,\n",
       " 'TP': 98,\n",
       " 'n_neg': 105,\n",
       " 'n_pos': 105,\n",
       " 'se': None,\n",
       " 'sn_se': None,\n",
       " 'sp_se': None}"
      ]
     },
     "execution_count": 15,
     "metadata": {},
     "output_type": "execute_result"
    }
   ],
   "source": [
    "P0=DB.ml_lr_v1.find_one({},dict(_id=0,perf_cvt=1,n_pos=1,n_neg=1))\n",
    "calcPerf2(P0['n_pos'],P0['n_neg'],\n",
    "          P0['perf_cvt']['sens_mn'],P0['perf_cvt']['spec_mn'],\n",
    "         )"
   ]
  },
  {
   "cell_type": "code",
   "execution_count": 29,
   "metadata": {
    "collapsed": false
   },
   "outputs": [
    {
     "data": {
      "text/plain": [
       "{'FDR': 0.34615384615384615,\n",
       " 'FN': 16,\n",
       " 'FP': 18,\n",
       " 'NPV': 0.6666666666666666,\n",
       " 'PPV': 0.6538461538461539,\n",
       " 'TN': 32,\n",
       " 'TP': 34,\n",
       " 'se': 0.27139344425831258}"
      ]
     },
     "execution_count": 29,
     "metadata": {},
     "output_type": "execute_result"
    }
   ],
   "source": [
    "P0 = DB.ml_summary_v1.find_one()\n",
    "calcPerf2(P0['n_pos'],P0['n_neg'],P0['sens_mn'],P0['spec_mn'],\n",
    "          sn_sd=P0['sens_sd'],sp_sd=P0['spec_sd']\n",
    "         )"
   ]
  },
  {
   "cell_type": "code",
   "execution_count": 27,
   "metadata": {
    "collapsed": false
   },
   "outputs": [
    {
     "data": {
      "text/plain": [
       "85440"
      ]
     },
     "execution_count": 27,
     "metadata": {},
     "output_type": "execute_result"
    }
   ],
   "source": [
    "DB.ml_summary_v1.find().distinct('n_ds')\n",
    "DB.ml_summary_v1.find({'n_ds':{'$gte':24}}).count()\n"
   ]
  },
  {
   "cell_type": "code",
   "execution_count": 30,
   "metadata": {
    "collapsed": false
   },
   "outputs": [],
   "source": [
    "DB.ml_summary_v2.drop()\n",
    "\n",
    "for P0 in DB.ml_summary_v1.find({'n_ds':{'$gte':24}},dict(_id=0)):\n",
    "    P1=calcPerf2(P0['n_pos'],P0['n_neg'],P0['sens_mn'],P0['spec_mn'],\n",
    "          sn_sd=P0['sens_sd'],sp_sd=P0['spec_sd']\n",
    "         )\n",
    "    P0.update(P1)\n",
    "    DB.ml_summary_v2.insert_one(P0)"
   ]
  },
  {
   "cell_type": "code",
   "execution_count": 32,
   "metadata": {
    "collapsed": false
   },
   "outputs": [
    {
     "data": {
      "text/plain": [
       "{u'FDR': 0.2149532710280374,\n",
       " u'FN': 16,\n",
       " u'FP': 23,\n",
       " u'NPV': 0.8279569892473119,\n",
       " u'PPV': 0.7850467289719626,\n",
       " u'TN': 77,\n",
       " u'TP': 84,\n",
       " u'_id': ObjectId('59a39c68072e60642d33620d'),\n",
       " u'acc_mn': 0.768598126229409,\n",
       " u'acc_sd': 0.06413056255370661,\n",
       " u'bacc_mn': 0.8075466199984428,\n",
       " u'bacc_sd': 0.060566234236081075,\n",
       " u'dt_in': u'bc',\n",
       " u'dt_out': u'tox',\n",
       " u'f1_mn': 0.8008085395814939,\n",
       " u'f1_sd': 0.0626572331343638,\n",
       " u'lr': u'CART0',\n",
       " u'n_ds': 24,\n",
       " u'n_neg': 100,\n",
       " u'n_obs': 200,\n",
       " u'n_pos': 100,\n",
       " u'pred': u'MGR:Kidney',\n",
       " u'pt': u'cvt',\n",
       " u'se': 0.14448644272139846,\n",
       " u'sens_mn': 0.8422185160526867,\n",
       " u'sens_sd': 0.10216734343782254,\n",
       " u'spec_mn': 0.7728747239441982,\n",
       " u'spec_sd': 0.06997477917090296}"
      ]
     },
     "execution_count": 32,
     "metadata": {},
     "output_type": "execute_result"
    }
   ],
   "source": [
    "DB.ml_summary_v2.find_one({'n_obs':{'$gte':200}})"
   ]
  },
  {
   "cell_type": "markdown",
   "metadata": {},
   "source": [
    "# Optimal classifiers / Max observations"
   ]
  },
  {
   "cell_type": "code",
   "execution_count": 36,
   "metadata": {
    "collapsed": false
   },
   "outputs": [],
   "source": [
    "# What are the top classifiers by pred, dt and ?\n",
    "X = pd.DataFrame(list(DB.ml_summary_v2.find({'pred':{'$in':Outcomes},\n",
    "                                             'pt':'cvt','n_obs':{'$gt':100}},\n",
    "                                                dict(_id=0,pt=0,n_pos=0,n_neg=0,dt_out=0))))\n",
    "\n",
    "Res = None\n",
    "for (pred),P_i in X.groupby(['pred']):\n",
    "    for (dt), P_ij in P_i.groupby(['dt_in']):\n",
    "        for (lr),P_ijk in P_ij.groupby(['lr']):\n",
    "            Res = pd.concat((Res,P_ijk.sort('f1_mn',ascending=False).reset_index(drop=True).head(1)))\n",
    "Perf4 = Res.reset_index(drop=True)\n",
    "\n",
    "\n",
    "\n",
    "\n",
    "Perf4['res2']=Perf4.apply(lambda x: \"%s:%d/%s/%s:%d\" % (x.pred,x.n_obs,x.lr,x.dt_in,x.n_ds),axis=1)\n",
    "Perf4['res2_f1']=Perf4.apply(lambda x: \"%3.2f±%3.2f\" % (x.f1_mn,x.f1_sd),axis=1)\n",
    "Perf4['res2_sn']=Perf4.apply(lambda x: \"%3.2f±%3.2f\" % (x.sens_mn,x.sens_sd),axis=1)\n",
    "Perf4['res2_sp']=Perf4.apply(lambda x: \"%3.2f±%3.2f\" % (x.spec_mn,x.spec_sd),axis=1)\n",
    "Perf4['res2_ppv']=Perf4.apply(lambda x: \"%3.2f±%3.2f\" % (x.PPV,x.se),axis=1)\n",
    "\n",
    "Res = []\n",
    "for p in Perf4.pred.unique():\n",
    "    Res.append(Perf4.query(\"pred=='%s'\" % p).sort('f1_mn',ascending=False).head(1))\n",
    "P4 = pd.concat(Res)"
   ]
  },
  {
   "cell_type": "code",
   "execution_count": 40,
   "metadata": {
    "collapsed": false
   },
   "outputs": [
    {
     "data": {
      "text/plain": [
       "Index([     u'FDR',       u'FN',       u'FP',      u'NPV',      u'PPV',\n",
       "             u'TN',       u'TP',   u'acc_mn',   u'acc_sd',  u'bacc_mn',\n",
       "        u'bacc_sd',    u'dt_in',    u'f1_mn',    u'f1_sd',       u'lr',\n",
       "           u'n_ds',    u'n_obs',     u'pred',       u'se',  u'sens_mn',\n",
       "        u'sens_sd',  u'spec_mn',  u'spec_sd',     u'res2',  u'res2_f1',\n",
       "        u'res2_sn',  u'res2_sp', u'res2_ppv'],\n",
       "      dtype='object')"
      ]
     },
     "execution_count": 40,
     "metadata": {},
     "output_type": "execute_result"
    }
   ],
   "source": [
    "P4.head()\n",
    "P4.columns"
   ]
  },
  {
   "cell_type": "code",
   "execution_count": 47,
   "metadata": {
    "collapsed": false
   },
   "outputs": [],
   "source": [
    "P4[['res2','pred','dt_in','n_obs','lr','res2_f1','res2_sn','res2_sp',\n",
    "    'res2_ppv']].reset_index(drop=True).to_csv(DAT_DIR+'ml-organtox-perf-aug-26-2017.csv')"
   ]
  }
 ],
 "metadata": {
  "kernelspec": {
   "display_name": "Python 2",
   "language": "python",
   "name": "python2"
  },
  "language_info": {
   "codemirror_mode": {
    "name": "ipython",
    "version": 2
   },
   "file_extension": ".py",
   "mimetype": "text/x-python",
   "name": "python",
   "nbconvert_exporter": "python",
   "pygments_lexer": "ipython2",
   "version": "2.7.13"
  }
 },
 "nbformat": 4,
 "nbformat_minor": 2
}
