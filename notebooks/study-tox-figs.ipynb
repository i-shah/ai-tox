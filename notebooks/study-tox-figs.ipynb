{
 "cells": [
  {
   "cell_type": "code",
   "execution_count": 1,
   "metadata": {
    "collapsed": false
   },
   "outputs": [
    {
     "name": "stdout",
     "output_type": "stream",
     "text": [
      "Populating the interactive namespace from numpy and matplotlib\n"
     ]
    },
    {
     "name": "stderr",
     "output_type": "stream",
     "text": [
      "/usr/local/anaconda2/lib/python2.7/site-packages/sklearn/cross_validation.py:44: DeprecationWarning: This module was deprecated in version 0.18 in favor of the model_selection module into which all the refactored classes and functions are moved. Also note that the interface of the new CV iterators are different from that of this module. This module will be removed in 0.20.\n",
      "  \"This module will be removed in 0.20.\", DeprecationWarning)\n"
     ]
    },
    {
     "data": {
      "text/plain": [
       "[u'chm_fp',\n",
       " u'ml_lr_v1',\n",
       " u'ml_study_lr_v1',\n",
       " u'bio_fp',\n",
       " u'ml_summary_v2',\n",
       " u'ml_summary_v1',\n",
       " u'ml_run_v1',\n",
       " u'tox_fp',\n",
       " u'ml_study_run_v1',\n",
       " u'tox2_fp']"
      ]
     },
     "execution_count": 1,
     "metadata": {},
     "output_type": "execute_result"
    }
   ],
   "source": [
    "%reload_ext autoreload\n",
    "%autoreload 2\n",
    "%reload_ext sql \n",
    "%pylab inline\n",
    "%matplotlib inline\n",
    "\n",
    "import pandas as pd\n",
    "import os, random\n",
    "\n",
    "import pickle,time\n",
    "\n",
    "tmstmp = time.strftime(\"%m-%d-%Y\",time.localtime())\n",
    "\n",
    "# Set up the local source files\n",
    "TOP = os.getcwd().replace('notebooks','')\n",
    "LIB = TOP+'lib'\n",
    "if not LIB in sys.path: sys.path.append(LIB)\n",
    "\n",
    "DAT_DIR = TOP + '/data/'\n",
    "RES_DIR = TOP + '/results/'\n",
    "FIG_DIR = TOP + '/figs/'\n",
    "\n",
    "from organtox import *\n",
    "\n",
    "DB = openMongo(host='pb.epa.gov',user='ishah',passwd='ishah',db='organtox_v1')\n",
    "GNR = openMongo(host='pb.epa.gov',user='ishah',passwd='ishah',db='genra_v3')\n",
    "DB.collection_names()"
   ]
  },
  {
   "cell_type": "code",
   "execution_count": 142,
   "metadata": {
    "collapsed": false
   },
   "outputs": [
    {
     "data": {
      "text/plain": [
       "{u'DSSTox_GSID': u'20895',\n",
       " u'ID': u'C2385855',\n",
       " u'admin_method': u'Feed',\n",
       " u'admin_route': u'Oral',\n",
       " u'chemical_casrn': u'2385-85-5',\n",
       " u'chemical_id': u'DSSTox_GSID_20895',\n",
       " u'chemical_name': u'Mirex',\n",
       " u'chemical_sets': u'phase2;tox21',\n",
       " u'citation': u'Huff J (1990) TOXICOLOGY AND CARCINOGENESIS STUDIES OF MIREX (1,1a,2,2,3,3a,4,5,5,5a,5b,6-Dodecachlorooctahydro-1,3,4-metheno-1H-cyclobuta[cd] pentalene) (CAS NO. 2385-85-5) IN F344/N RATS (FEED STUDIES).  NTP TR 313, NIH Publication No. 90-2569.',\n",
       " u'comments_animal': u'Several months after the first study had started, it was decided, based on lack of clinical signs and only random/minor variations of weight gain, that females could tolerate greater concentrations of mirex which is represented by the Other groups below',\n",
       " u'data_source': u'ntp',\n",
       " u'direction': u'Increase',\n",
       " u'dose': 1.95,\n",
       " u'dose_end': 2.0,\n",
       " u'dose_end_unit': u'year',\n",
       " u'dose_level': 4,\n",
       " u'dose_start_unit': u'day',\n",
       " u'dosing_period': u'Initial-to-Terminal',\n",
       " u'dsstox_cid': u'DTXCID10895',\n",
       " u'duration': 104.0,\n",
       " u'duration_unit': u'week',\n",
       " u'effect_category': u'Systemic',\n",
       " u'effect_desc': u'Hyperplasia',\n",
       " u'effect_desc_id': 680.0,\n",
       " u'effect_direction_id': 1.0,\n",
       " u'effect_free_text': u'-',\n",
       " u'effect_id': 154353.0,\n",
       " u'effect_target': u'Kidney',\n",
       " u'effect_target_id': 56.0,\n",
       " u'effect_type': u'Pathology (Non-neoplastic)',\n",
       " u'effect_type_id': 5.0,\n",
       " u'endpoint_category': u'SystemicCarcinogenic',\n",
       " u'endpoint_lifestage': u'adult',\n",
       " u'endpoint_system': u'Urinary',\n",
       " u'endpoint_target': u'Kidney',\n",
       " u'endpoint_type': u'PathologyProliferative',\n",
       " u'entry_level': u'All Treatment-Related Effects',\n",
       " u'entry_level_id': 2,\n",
       " u'entry_status': u'Partially Complete (Effect Data)',\n",
       " u'entry_status_id': 2,\n",
       " u'gender': u'M',\n",
       " u'generation': u'Adult (P1)',\n",
       " u'guideline_name': u'Combined chronic toxicity/carcinogenicity',\n",
       " u'guideline_no': 870.43,\n",
       " u'hdt': 7.7,\n",
       " u'ldt': 0.006999999999999999,\n",
       " u'lot_batch': u'83173',\n",
       " u'no_animals': 52.0,\n",
       " u'no_doses_tested': 6,\n",
       " u'purity': 95.0,\n",
       " u'source': u'Allied Chemical Company',\n",
       " u'species': u'rat',\n",
       " u'species_id': 1,\n",
       " u'strain': u'Fischer 344',\n",
       " u'study_id': 6306,\n",
       " u'study_type': u'CHR',\n",
       " u'study_type_id': 4,\n",
       " u'target_site': u'0',\n",
       " u'tg_id': 71295,\n",
       " u'toxrefdb_study_dose_unit': u'mg/kg/day',\n",
       " u'toxrefdb_tg_dose_unit': u'mg/kg/day',\n",
       " u'usability': 2,\n",
       " u'usability_desc': u'Acceptable Guideline (pre-1998)',\n",
       " u'year': 1990.0}"
      ]
     },
     "execution_count": 142,
     "metadata": {},
     "output_type": "execute_result"
    }
   ],
   "source": [
    "GNR.toxref.find_one(dict(study_type='CHR'),dict(_id=0,les_cat=0,ID=0))\n"
   ]
  },
  {
   "cell_type": "code",
   "execution_count": 136,
   "metadata": {
    "collapsed": false
   },
   "outputs": [
    {
     "data": {
      "text/plain": [
       "[u'Placenta',\n",
       " u'ClinicalSigns',\n",
       " u'FoodConsumption',\n",
       " u'BodyWeight',\n",
       " u'Mortality',\n",
       " u'Postimplantationloss',\n",
       " u'Resorptions',\n",
       " u'LiveFetuses',\n",
       " u'LitterViability',\n",
       " u'Axial',\n",
       " u'Cranial',\n",
       " u'Liver',\n",
       " u'Deadfetuses',\n",
       " u'Littersize',\n",
       " u'Uterus',\n",
       " u'TissueNOS',\n",
       " u'Nose',\n",
       " u'WaterConsumption',\n",
       " u'TotalLitterLoss',\n",
       " u'Stomach',\n",
       " u'Aborted',\n",
       " u'Pregnancy',\n",
       " u'IntestineLarge',\n",
       " u'Lung',\n",
       " u'Ureter',\n",
       " u'Kidney',\n",
       " u'IntestineSmall',\n",
       " u'Thymus',\n",
       " u'JawHyoid',\n",
       " u'AdrenalGland',\n",
       " u'Eye',\n",
       " u'Locomotion',\n",
       " u'Incisoreruption',\n",
       " u'Appendicular',\n",
       " u'LymphNode',\n",
       " u'Skin',\n",
       " u'Spleen',\n",
       " u'Hematology',\n",
       " u'Motoractivity',\n",
       " u'Sexratio',\n",
       " u'Preimplantationloss',\n",
       " u'PregnancyIndex',\n",
       " u'Urinalysis',\n",
       " u'Unclassified',\n",
       " u'Gestationalinterval',\n",
       " u'Implantations',\n",
       " u'AnogenitalDistance',\n",
       " u'Prostate',\n",
       " u'SeminalVesicle',\n",
       " u'NippleDevelopment',\n",
       " u'Other',\n",
       " u'Testis',\n",
       " u'ThyroidGland',\n",
       " u'Viabilityindex',\n",
       " u'PrematureDelivery',\n",
       " u'Gallbladder',\n",
       " u'Mating',\n",
       " u'Vagina',\n",
       " u'UrinaryBladder',\n",
       " u'Bloodvessel',\n",
       " u'EstrousCycle',\n",
       " u'Trachea',\n",
       " u'Oviduct',\n",
       " u'CholinesteraseInhibition',\n",
       " u'ClinicalChemistry',\n",
       " u'Fertility',\n",
       " u'Ovary',\n",
       " u'Vaginalopening',\n",
       " u'Reflexes',\n",
       " u'NOS',\n",
       " u'Brain',\n",
       " u'Runts',\n",
       " u'Heart',\n",
       " u'Lactationindex',\n",
       " u'Intercurrentdeaths',\n",
       " u'MammaryGland',\n",
       " u'Sperm',\n",
       " u'Epididymis',\n",
       " u'UncertainPrimarySite',\n",
       " u'Coordination',\n",
       " u'Livebirthindex',\n",
       " u'PinnaUnfolding',\n",
       " u'Eyeopening',\n",
       " u'HarderianGland',\n",
       " u'Spinalcord',\n",
       " u'AbdominalCavity',\n",
       " u'ThoracicCavity',\n",
       " u'Birthindex',\n",
       " u'Preputialseparation',\n",
       " u'ClitoralGland',\n",
       " u'Ear']"
      ]
     },
     "execution_count": 136,
     "metadata": {},
     "output_type": "execute_result"
    }
   ],
   "source": [
    "GNR.toxref.distinct('study_type')\n",
    "GNR.toxref.find({'study_type':'REP'}).distinct('endpoint_target')\n",
    "GNR.toxref.find({'study_type':'DEV'}).distinct('endpoint_target')"
   ]
  },
  {
   "cell_type": "code",
   "execution_count": 123,
   "metadata": {
    "collapsed": true
   },
   "outputs": [],
   "source": [
    "Res = []\n",
    "TOX = DB.tox_fp.distinct('tox_fpp1.ds')\n",
    "for tox in TOX:\n",
    "    n_p,n_n = DB.tox_fp.find({'tox_fpp1.ds':tox}).count(),DB.tox_fp.find({'tox_fpn1.ds':tox}).count()\n",
    "    s,o=tox.split(':')\n",
    "    Res.append(dict(study=s,organ=o,val_of='pos',n=n_p))\n",
    "    Res.append(dict(study=s,organ=o,val_of='neg',n=n_n))\n",
    "DS_n = pd.pivot_table(pd.DataFrame(Res),index='organ',columns=['study','val_of'],values='n')\n",
    "DS_n.fillna(0,inplace=True)\n",
    "DS_n.sort(columns=('CHR','pos'),ascending=True,inplace=True)\n"
   ]
  },
  {
   "cell_type": "code",
   "execution_count": 125,
   "metadata": {
    "collapsed": false
   },
   "outputs": [
    {
     "data": {
      "text/plain": [
       "MultiIndex(levels=[[u'CHR', u'DEV', u'DNT', u'MGR', u'NEU', u'REP', u'SUB'], [u'neg', u'pos']],\n",
       "           labels=[[0, 0, 1, 1, 2, 2, 3, 3, 4, 4, 5, 5, 6, 6], [0, 1, 0, 1, 0, 1, 0, 1, 0, 1, 0, 1, 0, 1]],\n",
       "           names=[u'study', u'val_of'])"
      ]
     },
     "execution_count": 125,
     "metadata": {},
     "output_type": "execute_result"
    }
   ],
   "source": [
    "DS_n.columns"
   ]
  },
  {
   "cell_type": "code",
   "execution_count": 126,
   "metadata": {
    "collapsed": false
   },
   "outputs": [
    {
     "data": {
      "text/plain": [
       "<matplotlib.legend.Legend at 0x7f9da8698b10>"
      ]
     },
     "execution_count": 126,
     "metadata": {},
     "output_type": "execute_result"
    },
    {
     "data": {
      "image/png": "[encoded data removed]",
      "text/plain": [
       "<matplotlib.figure.Figure at 0x7f9d9e6eec90>"
      ]
     },
     "metadata": {},
     "output_type": "display_data"
    }
   ],
   "source": [
    "import pylab as pl\n",
    "fig = pl.figure(figsize=(16,9))\n",
    "STUDIES=[u'CHR',u'SUB', 'MGR','DEV','REP','DNT','NEU']\n",
    "k=0\n",
    "for s in STUDIES:\n",
    "    k+=1\n",
    "    ax=pl.subplot(1,len(STUDIES),k)\n",
    "    ax.vlines(50,-1,DS_n.shape[0],linestyles='-',lw=0.2)\n",
    "    DS_n[s][['pos','neg']].ix[:60].plot.barh(stacked=True,legend=False,ax=ax,lw=0, color=['red','green'])\n",
    "    ax.set_title(s,fontdict=dict(size=20))\n",
    "    frame1 = plt.gca()\n",
    "    if k>1: \n",
    "        for ylab in ax.get_yticklabels():ylab.set_visible(False)\n",
    "    for xlab in ax.get_xticklabels():xlab.set_rotation(90)\n",
    "    ax.set_xlim(0,700)\n",
    "    ax.set_ylabel('')\n",
    "    #ax.set_ylim(0,600)\n",
    "    ax.grid(True)\n",
    "    ax.set_xlim(0,600)\n",
    "    ax.set_xlabel('No. of chemicals')\n",
    "ax.legend(loc=4)\n",
    "#fig.savefig(FIG_DIR+'Figure-1.png')\n",
    "#fig.savefig(FIG_DIR+'Figure-1.svg')"
   ]
  },
  {
   "cell_type": "code",
   "execution_count": 117,
   "metadata": {
    "collapsed": false
   },
   "outputs": [
    {
     "data": {
      "text/plain": [
       "{u'_id': ObjectId('59a5b8d8072e60f19ea40007'),\n",
       " u'dt_in': u'bio',\n",
       " u'dt_out': u'tox',\n",
       " u'lr': u'SVCR0',\n",
       " u'n_ds': 5,\n",
       " u'n_neg': 37,\n",
       " u'n_obs': 429,\n",
       " u'n_pos': 392,\n",
       " u'perf_cvt': {u'acc_mn': 0.9262512674328199,\n",
       "  u'acc_sd': 0.01779217417172253,\n",
       "  u'bacc_mn': 0.9618603243706798,\n",
       "  u'bacc_sd': 0.00914227207165643,\n",
       "  u'cv_kfold': 5,\n",
       "  u'f1_mn': 0.960967678036853,\n",
       "  u'f1_sd': 0.009425601161676633,\n",
       "  u'lr': u'SVCR0',\n",
       "  u'n_iter': 10,\n",
       "  u'n_test_mn': 85,\n",
       "  u'n_train_mn': 344,\n",
       "  u'npv_mn': 0.6037518668200488,\n",
       "  u'npv_sd': 0.38155368963411046,\n",
       "  u'ppv_mn': 0.9356956464055535,\n",
       "  u'ppv_sd': 0.01774874105778011,\n",
       "  u'pt': u'cvt',\n",
       "  u'sens_mn': 0.988025002335806,\n",
       "  u'sens_sd': 0.014231178616496915,\n",
       "  u'spec_mn': 0.9356956464055535,\n",
       "  u'spec_sd': 0.01774874105778011},\n",
       " u'perf_trn': {u'acc': 0.9230769230769231,\n",
       "  u'bacc': 0.9608994306942635,\n",
       "  u'ds': [u'BSK_4H_uPAR_up',\n",
       "   u'BSK_CASM3C_TissueFactor_up',\n",
       "   u'NVS_ENZ_hPPP1CA_Activator',\n",
       "   u'BSK_3C_MIG_up',\n",
       "   u'BSK_3C_Thrombomodulin_down'],\n",
       "  u'f1': 0.9595092024539877,\n",
       "  u'npv': 0.8333333333333334,\n",
       "  u'ppv': 0.9243498817966903,\n",
       "  u'pt': u'all_obs',\n",
       "  u'sens': 0.9974489795918368,\n",
       "  u'spec': 0.9243498817966903},\n",
       " u'pred': u'DEV'}"
      ]
     },
     "execution_count": 117,
     "metadata": {},
     "output_type": "execute_result"
    }
   ],
   "source": [
    "DB.ml_study_lr_v1.find_one(dict(dt_in='bio',lr='SVCR0',pred='DEV'))\n"
   ]
  },
  {
   "cell_type": "code",
   "execution_count": 47,
   "metadata": {
    "collapsed": false
   },
   "outputs": [
    {
     "name": "stdout",
     "output_type": "stream",
     "text": [
      "> pred\n",
      "> lr\n",
      "> n_ds\n",
      "> dt_in\n",
      "> dt_out\n",
      "> n_obs\n",
      "> ds_id\n",
      "> perf_cvt.f1_mn\n",
      "> perf_cvt.bacc_mn\n",
      "> perf_cvt.ppv_mn\n"
     ]
    }
   ],
   "source": [
    "for i in ['pred','lr','n_ds','dt_in','dt_out','n_obs','ds_id',\n",
    "          'perf_cvt.f1_mn','perf_cvt.bacc_mn','perf_cvt.ppv_mn']: \n",
    "    print '>',i\n",
    "    DB.ml_study_lr_v1.create_index(i)"
   ]
  },
  {
   "cell_type": "code",
   "execution_count": 121,
   "metadata": {
    "collapsed": false
   },
   "outputs": [
    {
     "name": "stdout",
     "output_type": "stream",
     "text": [
      "> DNT 1296\n",
      "> MGR 6592\n",
      "> SUB 16800\n",
      "> CHR 27840\n",
      "> DEV 39680\n"
     ]
    }
   ],
   "source": [
    "from organtox import *\n",
    "\n",
    "DB.ml_study_summary_v1.drop()\n",
    "for pred in DB.ml_study_lr_v1.distinct('pred'):\n",
    "    predPerfSummary2(pred,Col_ml=DB.ml_study_lr_v1,Col_sum=DB.ml_study_summary_v1)\n",
    "    print '>',pred,DB.ml_study_summary_v1.count()"
   ]
  },
  {
   "cell_type": "code",
   "execution_count": 122,
   "metadata": {
    "collapsed": false
   },
   "outputs": [
    {
     "name": "stdout",
     "output_type": "stream",
     "text": [
      "> pred\n",
      "> lr\n",
      "> n_ds\n",
      "> dt_in\n",
      "> dt_out\n",
      "> n_obs\n",
      "> f1_mn\n",
      "> pt\n",
      "> sens_mn\n",
      "> spec_mn\n",
      "> bacc_mn\n",
      "> acc_mn\n",
      "> ppv_mn\n"
     ]
    }
   ],
   "source": [
    "for i in ['pred','lr','n_ds','dt_in','dt_out','n_obs','f1_mn','pt','sens_mn','spec_mn','bacc_mn','acc_mn','ppv_mn']: \n",
    "    print '>',i\n",
    "    DB.ml_study_summary_v1.create_index(i)"
   ]
  },
  {
   "cell_type": "code",
   "execution_count": 67,
   "metadata": {
    "collapsed": false
   },
   "outputs": [
    {
     "data": {
      "text/plain": [
       "(192, 21)"
      ]
     },
     "execution_count": 67,
     "metadata": {},
     "output_type": "execute_result"
    }
   ],
   "source": [
    "# Results: Machine Learning \n",
    "\n",
    "# What are the top classifiers ?\n",
    "\n",
    "X = pd.DataFrame(list(DB.ml_study_summary_v1.find({'pt':'cvt','n_ds':{'$lt':25},'dt_in':'chm'},\n",
    "                                             dict(_id=0,pt=0,dt_out=0))))\n",
    "X.shape"
   ]
  },
  {
   "cell_type": "code",
   "execution_count": 68,
   "metadata": {
    "collapsed": false
   },
   "outputs": [
    {
     "data": {
      "text/html": [
       "<div>\n",
       "<table border=\"1\" class=\"dataframe\">\n",
       "  <thead>\n",
       "    <tr style=\"text-align: right;\">\n",
       "      <th></th>\n",
       "      <th>acc_mn</th>\n",
       "      <th>acc_sd</th>\n",
       "      <th>bacc_mn</th>\n",
       "      <th>bacc_sd</th>\n",
       "      <th>dt_in</th>\n",
       "      <th>f1_mn</th>\n",
       "      <th>f1_sd</th>\n",
       "      <th>lr</th>\n",
       "      <th>n_ds</th>\n",
       "      <th>n_neg</th>\n",
       "      <th>...</th>\n",
       "      <th>n_pos</th>\n",
       "      <th>npv_mn</th>\n",
       "      <th>npv_sd</th>\n",
       "      <th>ppv_mn</th>\n",
       "      <th>ppv_sd</th>\n",
       "      <th>pred</th>\n",
       "      <th>sens_mn</th>\n",
       "      <th>sens_sd</th>\n",
       "      <th>spec_mn</th>\n",
       "      <th>spec_sd</th>\n",
       "    </tr>\n",
       "  </thead>\n",
       "  <tbody>\n",
       "    <tr>\n",
       "      <th>0</th>\n",
       "      <td>0.964156</td>\n",
       "      <td>0.016073</td>\n",
       "      <td>0.981635</td>\n",
       "      <td>0.008053</td>\n",
       "      <td>chm</td>\n",
       "      <td>0.981279</td>\n",
       "      <td>0.008340</td>\n",
       "      <td>KNN0</td>\n",
       "      <td>20</td>\n",
       "      <td>18</td>\n",
       "      <td>...</td>\n",
       "      <td>309</td>\n",
       "      <td>0.910379</td>\n",
       "      <td>0.192187</td>\n",
       "      <td>0.965943</td>\n",
       "      <td>0.016316</td>\n",
       "      <td>CHR</td>\n",
       "      <td>0.997326</td>\n",
       "      <td>0.007111</td>\n",
       "      <td>0.965943</td>\n",
       "      <td>0.016316</td>\n",
       "    </tr>\n",
       "    <tr>\n",
       "      <th>0</th>\n",
       "      <td>0.865186</td>\n",
       "      <td>0.039002</td>\n",
       "      <td>0.925092</td>\n",
       "      <td>0.020952</td>\n",
       "      <td>chm</td>\n",
       "      <td>0.921821</td>\n",
       "      <td>0.022080</td>\n",
       "      <td>RF0</td>\n",
       "      <td>20</td>\n",
       "      <td>42</td>\n",
       "      <td>...</td>\n",
       "      <td>225</td>\n",
       "      <td>0.756592</td>\n",
       "      <td>0.239806</td>\n",
       "      <td>0.875600</td>\n",
       "      <td>0.035296</td>\n",
       "      <td>DEV</td>\n",
       "      <td>0.974585</td>\n",
       "      <td>0.025133</td>\n",
       "      <td>0.875600</td>\n",
       "      <td>0.035296</td>\n",
       "    </tr>\n",
       "    <tr>\n",
       "      <th>0</th>\n",
       "      <td>0.956894</td>\n",
       "      <td>0.017148</td>\n",
       "      <td>0.977667</td>\n",
       "      <td>0.008688</td>\n",
       "      <td>chm</td>\n",
       "      <td>0.977183</td>\n",
       "      <td>0.008977</td>\n",
       "      <td>SVCR0</td>\n",
       "      <td>20</td>\n",
       "      <td>29</td>\n",
       "      <td>...</td>\n",
       "      <td>371</td>\n",
       "      <td>0.931122</td>\n",
       "      <td>0.156587</td>\n",
       "      <td>0.958259</td>\n",
       "      <td>0.016036</td>\n",
       "      <td>SUB</td>\n",
       "      <td>0.997074</td>\n",
       "      <td>0.007186</td>\n",
       "      <td>0.958259</td>\n",
       "      <td>0.016036</td>\n",
       "    </tr>\n",
       "  </tbody>\n",
       "</table>\n",
       "<p>3 rows × 21 columns</p>\n",
       "</div>"
      ],
      "text/plain": [
       "     acc_mn    acc_sd   bacc_mn   bacc_sd dt_in     f1_mn     f1_sd     lr  \\\n",
       "0  0.964156  0.016073  0.981635  0.008053   chm  0.981279  0.008340   KNN0   \n",
       "0  0.865186  0.039002  0.925092  0.020952   chm  0.921821  0.022080    RF0   \n",
       "0  0.956894  0.017148  0.977667  0.008688   chm  0.977183  0.008977  SVCR0   \n",
       "\n",
       "   n_ds  n_neg    ...     n_pos    npv_mn    npv_sd    ppv_mn    ppv_sd  pred  \\\n",
       "0    20     18    ...       309  0.910379  0.192187  0.965943  0.016316   CHR   \n",
       "0    20     42    ...       225  0.756592  0.239806  0.875600  0.035296   DEV   \n",
       "0    20     29    ...       371  0.931122  0.156587  0.958259  0.016036   SUB   \n",
       "\n",
       "    sens_mn   sens_sd   spec_mn   spec_sd  \n",
       "0  0.997326  0.007111  0.965943  0.016316  \n",
       "0  0.974585  0.025133  0.875600  0.035296  \n",
       "0  0.997074  0.007186  0.958259  0.016036  \n",
       "\n",
       "[3 rows x 21 columns]"
      ]
     },
     "execution_count": 68,
     "metadata": {},
     "output_type": "execute_result"
    }
   ],
   "source": [
    "Res = []\n",
    "#for (pred,dt),P_i in X.groupby(['pred','dt_in']):\n",
    "for (pred),P_i in X.groupby(['pred']):\n",
    "    Res.append(P_i.sort('f1_mn',ascending=False).reset_index(drop=True).head(1))\n",
    "\n",
    "Perf1 = pd.concat(Res)\n",
    "Perf1\n",
    "                                             "
   ]
  },
  {
   "cell_type": "code",
   "execution_count": 119,
   "metadata": {
    "collapsed": true
   },
   "outputs": [],
   "source": [
    "X = pd.DataFrame(list(DB.ml_study_summary_v1.find({'pt':'cvt','n_ds':{'$lt':1000}},\n",
    "                                             dict(_id=0,pt=0,dt_out=0))))\n",
    "\n",
    "Res = []\n",
    "for (pred),P_i in X.groupby(['pred']):\n",
    "    for (dt), P_ij in P_i.groupby(['dt_in']):\n",
    "        for (lr),P_ijk in P_ij.groupby(['lr']):\n",
    "            Res.append(P_ijk.sort('f1_mn',ascending=False).reset_index(drop=True).head(1))\n",
    "Perf1 = pd.concat(Res).reset_index(drop=True)\n",
    "\n",
    "\n",
    "Perf1['res2']=Perf1.apply(lambda x: \"%s:%d/%s/%s:%d\" % (x.pred,x.n_obs,x.lr,x.dt_in,x.n_ds),axis=1)\n",
    "Perf1['res2_f1']=Perf1.apply(lambda x: \"%3.2f±%3.2f\" % (x.f1_mn,x.f1_sd),axis=1)\n",
    "Perf1['res2_sn']=Perf1.apply(lambda x: \"%3.2f±%3.2f\" % (x.sens_mn,x.sens_sd),axis=1)\n",
    "Perf1['res2_sp']=Perf1.apply(lambda x: \"%3.2f±%3.2f\" % (x.spec_mn,x.spec_sd),axis=1)\n",
    "Perf1['res2_ppv']=Perf1.apply(lambda x: \"%3.2f±%3.2f\" % (x.ppv_mn,x.ppv_sd),axis=1)\n",
    "\n",
    "P1 = None\n",
    "for p in Perf1.pred.unique():\n",
    "    P1 = pd.concat((P1,Perf1.query(\"pred=='%s'\" % p).sort('f1_mn',ascending=False).head(1)))"
   ]
  },
  {
   "cell_type": "code",
   "execution_count": 120,
   "metadata": {
    "collapsed": false
   },
   "outputs": [
    {
     "data": {
      "text/html": [
       "<div>\n",
       "<table border=\"1\" class=\"dataframe\">\n",
       "  <thead>\n",
       "    <tr style=\"text-align: right;\">\n",
       "      <th></th>\n",
       "      <th>res2</th>\n",
       "      <th>pred</th>\n",
       "      <th>lr</th>\n",
       "      <th>n_pos</th>\n",
       "      <th>n_neg</th>\n",
       "      <th>dt_in</th>\n",
       "      <th>n_ds</th>\n",
       "      <th>res2_f1</th>\n",
       "      <th>res2_sn</th>\n",
       "      <th>res2_sp</th>\n",
       "      <th>res2_ppv</th>\n",
       "    </tr>\n",
       "  </thead>\n",
       "  <tbody>\n",
       "    <tr>\n",
       "      <th>160</th>\n",
       "      <td>SUB:398/CART0/bio:85</td>\n",
       "      <td>SUB</td>\n",
       "      <td>CART0</td>\n",
       "      <td>371</td>\n",
       "      <td>27</td>\n",
       "      <td>bio</td>\n",
       "      <td>85</td>\n",
       "      <td>0.98±0.01</td>\n",
       "      <td>0.98±0.02</td>\n",
       "      <td>0.98±0.01</td>\n",
       "      <td>0.98±0.01</td>\n",
       "    </tr>\n",
       "    <tr>\n",
       "      <th>161</th>\n",
       "      <td>SUB:398/CART1/bio:50</td>\n",
       "      <td>SUB</td>\n",
       "      <td>CART1</td>\n",
       "      <td>371</td>\n",
       "      <td>27</td>\n",
       "      <td>bio</td>\n",
       "      <td>50</td>\n",
       "      <td>0.98±0.01</td>\n",
       "      <td>0.98±0.02</td>\n",
       "      <td>0.98±0.01</td>\n",
       "      <td>0.98±0.01</td>\n",
       "    </tr>\n",
       "    <tr>\n",
       "      <th>162</th>\n",
       "      <td>SUB:398/KNN0/bio:85</td>\n",
       "      <td>SUB</td>\n",
       "      <td>KNN0</td>\n",
       "      <td>371</td>\n",
       "      <td>27</td>\n",
       "      <td>bio</td>\n",
       "      <td>85</td>\n",
       "      <td>0.99±0.01</td>\n",
       "      <td>1.00±0.01</td>\n",
       "      <td>0.98±0.01</td>\n",
       "      <td>0.98±0.01</td>\n",
       "    </tr>\n",
       "    <tr>\n",
       "      <th>163</th>\n",
       "      <td>SUB:398/KNN1/bio:65</td>\n",
       "      <td>SUB</td>\n",
       "      <td>KNN1</td>\n",
       "      <td>371</td>\n",
       "      <td>27</td>\n",
       "      <td>bio</td>\n",
       "      <td>65</td>\n",
       "      <td>0.98±0.01</td>\n",
       "      <td>1.00±0.01</td>\n",
       "      <td>0.97±0.01</td>\n",
       "      <td>0.97±0.01</td>\n",
       "    </tr>\n",
       "    <tr>\n",
       "      <th>164</th>\n",
       "      <td>SUB:398/NB/bio:5</td>\n",
       "      <td>SUB</td>\n",
       "      <td>NB</td>\n",
       "      <td>371</td>\n",
       "      <td>27</td>\n",
       "      <td>bio</td>\n",
       "      <td>5</td>\n",
       "      <td>0.95±0.03</td>\n",
       "      <td>0.95±0.05</td>\n",
       "      <td>0.95±0.02</td>\n",
       "      <td>0.95±0.02</td>\n",
       "    </tr>\n",
       "    <tr>\n",
       "      <th>165</th>\n",
       "      <td>SUB:398/RF0/bio:85</td>\n",
       "      <td>SUB</td>\n",
       "      <td>RF0</td>\n",
       "      <td>371</td>\n",
       "      <td>27</td>\n",
       "      <td>bio</td>\n",
       "      <td>85</td>\n",
       "      <td>0.99±0.01</td>\n",
       "      <td>1.00±0.01</td>\n",
       "      <td>0.98±0.01</td>\n",
       "      <td>0.98±0.01</td>\n",
       "    </tr>\n",
       "    <tr>\n",
       "      <th>166</th>\n",
       "      <td>SUB:398/SVCL0/bio:95</td>\n",
       "      <td>SUB</td>\n",
       "      <td>SVCL0</td>\n",
       "      <td>371</td>\n",
       "      <td>27</td>\n",
       "      <td>bio</td>\n",
       "      <td>95</td>\n",
       "      <td>0.98±0.01</td>\n",
       "      <td>0.98±0.02</td>\n",
       "      <td>0.98±0.01</td>\n",
       "      <td>0.98±0.01</td>\n",
       "    </tr>\n",
       "    <tr>\n",
       "      <th>167</th>\n",
       "      <td>SUB:398/SVCR0/bio:85</td>\n",
       "      <td>SUB</td>\n",
       "      <td>SVCR0</td>\n",
       "      <td>371</td>\n",
       "      <td>27</td>\n",
       "      <td>bio</td>\n",
       "      <td>85</td>\n",
       "      <td>0.99±0.01</td>\n",
       "      <td>1.00±0.00</td>\n",
       "      <td>0.98±0.01</td>\n",
       "      <td>0.98±0.01</td>\n",
       "    </tr>\n",
       "  </tbody>\n",
       "</table>\n",
       "</div>"
      ],
      "text/plain": [
       "                     res2 pred     lr  n_pos  n_neg dt_in  n_ds    res2_f1  \\\n",
       "160  SUB:398/CART0/bio:85  SUB  CART0    371     27   bio    85  0.98±0.01   \n",
       "161  SUB:398/CART1/bio:50  SUB  CART1    371     27   bio    50  0.98±0.01   \n",
       "162   SUB:398/KNN0/bio:85  SUB   KNN0    371     27   bio    85  0.99±0.01   \n",
       "163   SUB:398/KNN1/bio:65  SUB   KNN1    371     27   bio    65  0.98±0.01   \n",
       "164      SUB:398/NB/bio:5  SUB     NB    371     27   bio     5  0.95±0.03   \n",
       "165    SUB:398/RF0/bio:85  SUB    RF0    371     27   bio    85  0.99±0.01   \n",
       "166  SUB:398/SVCL0/bio:95  SUB  SVCL0    371     27   bio    95  0.98±0.01   \n",
       "167  SUB:398/SVCR0/bio:85  SUB  SVCR0    371     27   bio    85  0.99±0.01   \n",
       "\n",
       "       res2_sn    res2_sp   res2_ppv  \n",
       "160  0.98±0.02  0.98±0.01  0.98±0.01  \n",
       "161  0.98±0.02  0.98±0.01  0.98±0.01  \n",
       "162  1.00±0.01  0.98±0.01  0.98±0.01  \n",
       "163  1.00±0.01  0.97±0.01  0.97±0.01  \n",
       "164  0.95±0.05  0.95±0.02  0.95±0.02  \n",
       "165  1.00±0.01  0.98±0.01  0.98±0.01  \n",
       "166  0.98±0.02  0.98±0.01  0.98±0.01  \n",
       "167  1.00±0.00  0.98±0.01  0.98±0.01  "
      ]
     },
     "execution_count": 120,
     "metadata": {},
     "output_type": "execute_result"
    }
   ],
   "source": [
    "Perf1.query(\"pred=='SUB' and dt_in=='bio'\")[['res2','pred','lr','n_pos','n_neg','dt_in','n_ds','res2_f1','res2_sn','res2_sp','res2_ppv']]"
   ]
  },
  {
   "cell_type": "code",
   "execution_count": 118,
   "metadata": {
    "collapsed": false
   },
   "outputs": [
    {
     "data": {
      "text/html": [
       "<div>\n",
       "<table border=\"1\" class=\"dataframe\">\n",
       "  <thead>\n",
       "    <tr style=\"text-align: right;\">\n",
       "      <th></th>\n",
       "      <th>Classifier id</th>\n",
       "      <th>Organ Toxicity</th>\n",
       "      <th>Algorithm</th>\n",
       "      <th>dt</th>\n",
       "      <th>n_ds</th>\n",
       "      <th>F1 Score</th>\n",
       "      <th>Sensitivity</th>\n",
       "      <th>Specificity</th>\n",
       "      <th>PPV</th>\n",
       "    </tr>\n",
       "  </thead>\n",
       "  <tbody>\n",
       "    <tr>\n",
       "      <th>15</th>\n",
       "      <td>CHR:421/SVCR0/bct:75</td>\n",
       "      <td>CHR</td>\n",
       "      <td>SVCR0</td>\n",
       "      <td>bct</td>\n",
       "      <td>75</td>\n",
       "      <td>1.00±0.00</td>\n",
       "      <td>1.00±0.00</td>\n",
       "      <td>0.99±0.01</td>\n",
       "      <td>0.99±0.01</td>\n",
       "    </tr>\n",
       "    <tr>\n",
       "      <th>159</th>\n",
       "      <td>SUB:392/SVCR0/bct:85</td>\n",
       "      <td>SUB</td>\n",
       "      <td>SVCR0</td>\n",
       "      <td>bct</td>\n",
       "      <td>85</td>\n",
       "      <td>0.99±0.01</td>\n",
       "      <td>1.00±0.00</td>\n",
       "      <td>0.98±0.01</td>\n",
       "      <td>0.98±0.01</td>\n",
       "    </tr>\n",
       "    <tr>\n",
       "      <th>63</th>\n",
       "      <td>DEV:429/SVCR0/bio:95</td>\n",
       "      <td>DEV</td>\n",
       "      <td>SVCR0</td>\n",
       "      <td>bio</td>\n",
       "      <td>95</td>\n",
       "      <td>0.99±0.01</td>\n",
       "      <td>1.00±0.00</td>\n",
       "      <td>0.98±0.01</td>\n",
       "      <td>0.98±0.01</td>\n",
       "    </tr>\n",
       "    <tr>\n",
       "      <th>95</th>\n",
       "      <td>DNT:76/SVCR0/bct:85</td>\n",
       "      <td>DNT</td>\n",
       "      <td>SVCR0</td>\n",
       "      <td>bct</td>\n",
       "      <td>85</td>\n",
       "      <td>0.98±0.02</td>\n",
       "      <td>1.00±0.01</td>\n",
       "      <td>0.97±0.03</td>\n",
       "      <td>0.97±0.03</td>\n",
       "    </tr>\n",
       "    <tr>\n",
       "      <th>127</th>\n",
       "      <td>MGR:346/SVCR0/bio:95</td>\n",
       "      <td>MGR</td>\n",
       "      <td>SVCR0</td>\n",
       "      <td>bio</td>\n",
       "      <td>95</td>\n",
       "      <td>0.96±0.01</td>\n",
       "      <td>1.00±0.00</td>\n",
       "      <td>0.92±0.03</td>\n",
       "      <td>0.92±0.03</td>\n",
       "    </tr>\n",
       "  </tbody>\n",
       "</table>\n",
       "</div>"
      ],
      "text/plain": [
       "            Classifier id Organ Toxicity Algorithm   dt  n_ds   F1 Score  \\\n",
       "15   CHR:421/SVCR0/bct:75            CHR     SVCR0  bct    75  1.00±0.00   \n",
       "159  SUB:392/SVCR0/bct:85            SUB     SVCR0  bct    85  0.99±0.01   \n",
       "63   DEV:429/SVCR0/bio:95            DEV     SVCR0  bio    95  0.99±0.01   \n",
       "95    DNT:76/SVCR0/bct:85            DNT     SVCR0  bct    85  0.98±0.02   \n",
       "127  MGR:346/SVCR0/bio:95            MGR     SVCR0  bio    95  0.96±0.01   \n",
       "\n",
       "    Sensitivity Specificity        PPV  \n",
       "15    1.00±0.00   0.99±0.01  0.99±0.01  \n",
       "159   1.00±0.00   0.98±0.01  0.98±0.01  \n",
       "63    1.00±0.00   0.98±0.01  0.98±0.01  \n",
       "95    1.00±0.01   0.97±0.03  0.97±0.03  \n",
       "127   1.00±0.00   0.92±0.03  0.92±0.03  "
      ]
     },
     "execution_count": 118,
     "metadata": {},
     "output_type": "execute_result"
    }
   ],
   "source": [
    "Table1 = P1.sort('f1_mn',ascending=False)[['res2','pred','lr','dt_in','n_ds','res2_f1','res2_sn','res2_sp','res2_ppv']]\n",
    "Table1.columns=['Classifier id','Organ Toxicity','Algorithm','dt','n_ds','F1 Score','Sensitivity','Specificity','PPV']\n",
    "#Table1.to_excel(DAT_DIR+'Table-1.xlsx',encoding='utf8')\n",
    "Table1"
   ]
  },
  {
   "cell_type": "code",
   "execution_count": 86,
   "metadata": {
    "collapsed": false
   },
   "outputs": [
    {
     "data": {
      "text/html": [
       "<div>\n",
       "<table border=\"1\" class=\"dataframe\">\n",
       "  <thead>\n",
       "    <tr style=\"text-align: right;\">\n",
       "      <th></th>\n",
       "      <th>Classifier id</th>\n",
       "      <th>Organ Toxicity</th>\n",
       "      <th>Algorithm</th>\n",
       "      <th>dt</th>\n",
       "      <th>n_ds</th>\n",
       "      <th>F1 Score</th>\n",
       "      <th>Sensitivity</th>\n",
       "      <th>Specificity</th>\n",
       "      <th>PPV</th>\n",
       "    </tr>\n",
       "  </thead>\n",
       "  <tbody>\n",
       "  </tbody>\n",
       "</table>\n",
       "</div>"
      ],
      "text/plain": [
       "Empty DataFrame\n",
       "Columns: [Classifier id, Organ Toxicity, Algorithm, dt, n_ds, F1 Score, Sensitivity, Specificity, PPV]\n",
       "Index: []"
      ]
     },
     "execution_count": 86,
     "metadata": {},
     "output_type": "execute_result"
    }
   ],
   "source": [
    "Table1 = (P1\n",
    "          .query(\"n_pos<n_neg+20\")\n",
    "          .sort('f1_mn',ascending=False)[['res2','pred','lr','dt_in','n_ds','res2_f1','res2_sn','res2_sp','res2_ppv']]\n",
    "         )\n",
    "Table1.columns=['Classifier id','Organ Toxicity','Algorithm','dt','n_ds','F1 Score','Sensitivity','Specificity','PPV']\n",
    "#Table1.to_excel(DAT_DIR+'Table-1.xlsx',encoding='utf8')\n",
    "Table1"
   ]
  }
 ],
 "metadata": {
  "kernelspec": {
   "display_name": "Python 2",
   "language": "python",
   "name": "python2"
  },
  "language_info": {
   "codemirror_mode": {
    "name": "ipython",
    "version": 2
   },
   "file_extension": ".py",
   "mimetype": "text/x-python",
   "name": "python",
   "nbconvert_exporter": "python",
   "pygments_lexer": "ipython2",
   "version": "2.7.13"
  }
 },
 "nbformat": 4,
 "nbformat_minor": 2
}
